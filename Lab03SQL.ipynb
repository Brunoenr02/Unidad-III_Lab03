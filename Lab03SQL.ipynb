{
    "metadata": {
        "kernelspec": {
            "name": "SQL",
            "display_name": "SQL",
            "language": "sql"
        },
        "language_info": {
            "name": "sql",
            "version": ""
        }
    },
    "nbformat_minor": 2,
    "nbformat": 4,
    "cells": [
        {
            "cell_type": "markdown",
            "source": [
                "<h1><center>Laboratorio N° 03: Pivoting y Grouping Sets"
            ],
            "metadata": {
                "azdata_cell_guid": "da56dd7e-b893-4a86-8522-2fcf4dee8da5"
            }
        },
        {
            "cell_type": "markdown",
            "source": [
                "<h2>Parte 01. Escribir consultas que utilizan PIVOT."
            ],
            "metadata": {
                "azdata_cell_guid": "9770c61e-a315-425c-a850-5cbb70ca9eb8"
            }
        },
        {
            "cell_type": "markdown",
            "source": [
                "1.1. Abrir la base de datos TSQL."
            ],
            "metadata": {
                "azdata_cell_guid": "7236b200-cd41-4b04-9f2d-68cb7c3dc9c5"
            }
        },
        {
            "cell_type": "code",
            "source": [
                "USE TSQL;\n",
                "GO"
            ],
            "metadata": {
                "azdata_cell_guid": "8ebcbaac-806f-46d2-ab33-32516a9d26e1",
                "language": "sql"
            },
            "outputs": [
                {
                    "output_type": "display_data",
                    "data": {
                        "text/html": "Commands completed successfully."
                    },
                    "metadata": {}
                },
                {
                    "output_type": "display_data",
                    "data": {
                        "text/html": "Total execution time: 00:00:00"
                    },
                    "metadata": {}
                }
            ],
            "execution_count": 18
        },
        {
            "cell_type": "markdown",
            "source": [
                "1.2. Crear un vista de categorías de productos, sus cantidaddes por año."
            ],
            "metadata": {
                "azdata_cell_guid": "1eba00bd-8865-4c5b-b9df-a832f6be43c2"
            }
        },
        {
            "cell_type": "code",
            "source": [
                "CREATE VIEW Production.VistaCategoriasPorAño AS\r\n",
                "SELECT \r\n",
                "    c.CategoryName,\r\n",
                "    YEAR(o.OrderDate) AS Año,\r\n",
                "    SUM(od.qty) AS TotalCantidad\r\n",
                "FROM \r\n",
                "    Production.Categories c\r\n",
                "    INNER JOIN Production.Products p ON c.CategoryID = p.CategoryID\r\n",
                "    INNER JOIN Sales.OrderDetails od ON p.ProductID = od.ProductID\r\n",
                "    INNER JOIN Sales.Orders o ON od.OrderID = o.OrderID\r\n",
                "GROUP BY \r\n",
                "    c.CategoryName, YEAR(o.OrderDate);"
            ],
            "metadata": {
                "azdata_cell_guid": "35654719-1212-4521-b547-3dc388e7e888",
                "language": "sql"
            },
            "outputs": [
                {
                    "output_type": "display_data",
                    "data": {
                        "text/html": "Commands completed successfully."
                    },
                    "metadata": {}
                },
                {
                    "output_type": "display_data",
                    "data": {
                        "text/html": "Total execution time: 00:00:00.033"
                    },
                    "metadata": {}
                }
            ],
            "execution_count": 19
        },
        {
            "cell_type": "markdown",
            "source": [
                "1.3. Probar la vista creada."
            ],
            "metadata": {
                "azdata_cell_guid": "4091e1d7-ba9f-4df1-9b3f-5133da270abc"
            }
        },
        {
            "cell_type": "code",
            "source": [
                "SELECT * FROM Production.VistaCategoriasPorAño;"
            ],
            "metadata": {
                "azdata_cell_guid": "4d6bc0ec-0033-4cb3-9f2f-48563fb15438",
                "language": "sql"
            },
            "outputs": [
                {
                    "output_type": "display_data",
                    "data": {
                        "text/html": "(24 rows affected)"
                    },
                    "metadata": {}
                },
                {
                    "output_type": "display_data",
                    "data": {
                        "text/html": "Total execution time: 00:00:00.009"
                    },
                    "metadata": {}
                },
                {
                    "output_type": "execute_result",
                    "metadata": {},
                    "execution_count": 20,
                    "data": {
                        "application/vnd.dataresource+json": {
                            "schema": {
                                "fields": [
                                    {
                                        "name": "CategoryName"
                                    },
                                    {
                                        "name": "Año"
                                    },
                                    {
                                        "name": "TotalCantidad"
                                    }
                                ]
                            },
                            "data": [
                                {
                                    "0": "Meat/Poultry",
                                    "1": "2006",
                                    "2": "950"
                                },
                                {
                                    "0": "Seafood",
                                    "1": "2008",
                                    "2": "2716"
                                },
                                {
                                    "0": "Dairy Products",
                                    "1": "2007",
                                    "2": "4374"
                                },
                                {
                                    "0": "Grains/Cereals",
                                    "1": "2008",
                                    "2": "1377"
                                },
                                {
                                    "0": "Confections",
                                    "1": "2007",
                                    "2": "4137"
                                },
                                {
                                    "0": "Produce",
                                    "1": "2008",
                                    "2": "858"
                                },
                                {
                                    "0": "Beverages",
                                    "1": "2006",
                                    "2": "1842"
                                },
                                {
                                    "0": "Condiments",
                                    "1": "2008",
                                    "2": "1441"
                                },
                                {
                                    "0": "Dairy Products",
                                    "1": "2008",
                                    "2": "2689"
                                },
                                {
                                    "0": "Seafood",
                                    "1": "2007",
                                    "2": "3679"
                                },
                                {
                                    "0": "Meat/Poultry",
                                    "1": "2007",
                                    "2": "2189"
                                },
                                {
                                    "0": "Condiments",
                                    "1": "2006",
                                    "2": "962"
                                },
                                {
                                    "0": "Dairy Products",
                                    "1": "2006",
                                    "2": "2086"
                                },
                                {
                                    "0": "Confections",
                                    "1": "2008",
                                    "2": "2412"
                                },
                                {
                                    "0": "Beverages",
                                    "1": "2007",
                                    "2": "3996"
                                },
                                {
                                    "0": "Seafood",
                                    "1": "2006",
                                    "2": "1286"
                                },
                                {
                                    "0": "Grains/Cereals",
                                    "1": "2006",
                                    "2": "549"
                                },
                                {
                                    "0": "Produce",
                                    "1": "2006",
                                    "2": "549"
                                },
                                {
                                    "0": "Confections",
                                    "1": "2006",
                                    "2": "1357"
                                },
                                {
                                    "0": "Grains/Cereals",
                                    "1": "2007",
                                    "2": "2636"
                                },
                                {
                                    "0": "Produce",
                                    "1": "2007",
                                    "2": "1583"
                                },
                                {
                                    "0": "Meat/Poultry",
                                    "1": "2008",
                                    "2": "1060"
                                },
                                {
                                    "0": "Condiments",
                                    "1": "2007",
                                    "2": "2895"
                                },
                                {
                                    "0": "Beverages",
                                    "1": "2008",
                                    "2": "3694"
                                }
                            ]
                        },
                        "text/html": [
                            "<table>",
                            "<tr><th>CategoryName</th><th>Año</th><th>TotalCantidad</th></tr>",
                            "<tr><td>Meat/Poultry</td><td>2006</td><td>950</td></tr>",
                            "<tr><td>Seafood</td><td>2008</td><td>2716</td></tr>",
                            "<tr><td>Dairy Products</td><td>2007</td><td>4374</td></tr>",
                            "<tr><td>Grains/Cereals</td><td>2008</td><td>1377</td></tr>",
                            "<tr><td>Confections</td><td>2007</td><td>4137</td></tr>",
                            "<tr><td>Produce</td><td>2008</td><td>858</td></tr>",
                            "<tr><td>Beverages</td><td>2006</td><td>1842</td></tr>",
                            "<tr><td>Condiments</td><td>2008</td><td>1441</td></tr>",
                            "<tr><td>Dairy Products</td><td>2008</td><td>2689</td></tr>",
                            "<tr><td>Seafood</td><td>2007</td><td>3679</td></tr>",
                            "<tr><td>Meat/Poultry</td><td>2007</td><td>2189</td></tr>",
                            "<tr><td>Condiments</td><td>2006</td><td>962</td></tr>",
                            "<tr><td>Dairy Products</td><td>2006</td><td>2086</td></tr>",
                            "<tr><td>Confections</td><td>2008</td><td>2412</td></tr>",
                            "<tr><td>Beverages</td><td>2007</td><td>3996</td></tr>",
                            "<tr><td>Seafood</td><td>2006</td><td>1286</td></tr>",
                            "<tr><td>Grains/Cereals</td><td>2006</td><td>549</td></tr>",
                            "<tr><td>Produce</td><td>2006</td><td>549</td></tr>",
                            "<tr><td>Confections</td><td>2006</td><td>1357</td></tr>",
                            "<tr><td>Grains/Cereals</td><td>2007</td><td>2636</td></tr>",
                            "<tr><td>Produce</td><td>2007</td><td>1583</td></tr>",
                            "<tr><td>Meat/Poultry</td><td>2008</td><td>1060</td></tr>",
                            "<tr><td>Condiments</td><td>2007</td><td>2895</td></tr>",
                            "<tr><td>Beverages</td><td>2008</td><td>3694</td></tr>",
                            "</table>"
                        ]
                    }
                }
            ],
            "execution_count": 20
        },
        {
            "cell_type": "markdown",
            "source": [
                "1.4. Utilizar PIVOT entre categorías y años de ordenes."
            ],
            "metadata": {
                "azdata_cell_guid": "85b03d3a-82d5-4cd2-b9a5-9277248759f1"
            }
        },
        {
            "cell_type": "code",
            "source": [
                "SELECT CategoryName, [2018], [2019], [2020], [2021], [2022]\r\n",
                "FROM\r\n",
                "(\r\n",
                "    SELECT \r\n",
                "        CategoryName, \r\n",
                "        Año, \r\n",
                "        TotalCantidad\r\n",
                "    FROM \r\n",
                "        Production.VistaCategoriasPorAño\r\n",
                ") AS SourceTable\r\n",
                "PIVOT\r\n",
                "(\r\n",
                "    SUM(TotalCantidad)\r\n",
                "    FOR Año IN ([2018], [2019], [2020], [2021], [2022])\r\n",
                ") AS PivotTable;"
            ],
            "metadata": {
                "azdata_cell_guid": "d4e9eb57-5d1a-41f3-b5d5-b5eb194be12b",
                "language": "sql"
            },
            "outputs": [
                {
                    "output_type": "display_data",
                    "data": {
                        "text/html": "(8 rows affected)"
                    },
                    "metadata": {}
                },
                {
                    "output_type": "display_data",
                    "data": {
                        "text/html": "Total execution time: 00:00:00.013"
                    },
                    "metadata": {}
                },
                {
                    "output_type": "execute_result",
                    "metadata": {},
                    "execution_count": 10,
                    "data": {
                        "application/vnd.dataresource+json": {
                            "schema": {
                                "fields": [
                                    {
                                        "name": "CategoryName"
                                    },
                                    {
                                        "name": "2018"
                                    },
                                    {
                                        "name": "2019"
                                    },
                                    {
                                        "name": "2020"
                                    },
                                    {
                                        "name": "2021"
                                    },
                                    {
                                        "name": "2022"
                                    }
                                ]
                            },
                            "data": [
                                {
                                    "0": "Beverages",
                                    "1": "NULL",
                                    "2": "NULL",
                                    "3": "NULL",
                                    "4": "NULL",
                                    "5": "NULL"
                                },
                                {
                                    "0": "Condiments",
                                    "1": "NULL",
                                    "2": "NULL",
                                    "3": "NULL",
                                    "4": "NULL",
                                    "5": "NULL"
                                },
                                {
                                    "0": "Confections",
                                    "1": "NULL",
                                    "2": "NULL",
                                    "3": "NULL",
                                    "4": "NULL",
                                    "5": "NULL"
                                },
                                {
                                    "0": "Dairy Products",
                                    "1": "NULL",
                                    "2": "NULL",
                                    "3": "NULL",
                                    "4": "NULL",
                                    "5": "NULL"
                                },
                                {
                                    "0": "Grains/Cereals",
                                    "1": "NULL",
                                    "2": "NULL",
                                    "3": "NULL",
                                    "4": "NULL",
                                    "5": "NULL"
                                },
                                {
                                    "0": "Meat/Poultry",
                                    "1": "NULL",
                                    "2": "NULL",
                                    "3": "NULL",
                                    "4": "NULL",
                                    "5": "NULL"
                                },
                                {
                                    "0": "Produce",
                                    "1": "NULL",
                                    "2": "NULL",
                                    "3": "NULL",
                                    "4": "NULL",
                                    "5": "NULL"
                                },
                                {
                                    "0": "Seafood",
                                    "1": "NULL",
                                    "2": "NULL",
                                    "3": "NULL",
                                    "4": "NULL",
                                    "5": "NULL"
                                }
                            ]
                        },
                        "text/html": [
                            "<table>",
                            "<tr><th>CategoryName</th><th>2018</th><th>2019</th><th>2020</th><th>2021</th><th>2022</th></tr>",
                            "<tr><td>Beverages</td><td>NULL</td><td>NULL</td><td>NULL</td><td>NULL</td><td>NULL</td></tr>",
                            "<tr><td>Condiments</td><td>NULL</td><td>NULL</td><td>NULL</td><td>NULL</td><td>NULL</td></tr>",
                            "<tr><td>Confections</td><td>NULL</td><td>NULL</td><td>NULL</td><td>NULL</td><td>NULL</td></tr>",
                            "<tr><td>Dairy Products</td><td>NULL</td><td>NULL</td><td>NULL</td><td>NULL</td><td>NULL</td></tr>",
                            "<tr><td>Grains/Cereals</td><td>NULL</td><td>NULL</td><td>NULL</td><td>NULL</td><td>NULL</td></tr>",
                            "<tr><td>Meat/Poultry</td><td>NULL</td><td>NULL</td><td>NULL</td><td>NULL</td><td>NULL</td></tr>",
                            "<tr><td>Produce</td><td>NULL</td><td>NULL</td><td>NULL</td><td>NULL</td><td>NULL</td></tr>",
                            "<tr><td>Seafood</td><td>NULL</td><td>NULL</td><td>NULL</td><td>NULL</td><td>NULL</td></tr>",
                            "</table>"
                        ]
                    }
                }
            ],
            "execution_count": 10
        },
        {
            "cell_type": "markdown",
            "source": [
                "1.5. Para utilizar UNPIVOT, crear una tabla con el resultado de la consulta con PIVOT anterior."
            ],
            "metadata": {
                "azdata_cell_guid": "d9d3a7a0-a061-4c82-9056-3b2f727f6c2d"
            }
        },
        {
            "cell_type": "code",
            "source": [
                "SELECT CategoryName, [2018], [2019], [2020], [2021], [2022]\r\n",
                "INTO dbo.ResultadoPivot\r\n",
                "FROM\r\n",
                "(\r\n",
                "    SELECT \r\n",
                "        CategoryName, \r\n",
                "        Año, \r\n",
                "        TotalCantidad\r\n",
                "    FROM \r\n",
                "        Production.VistaCategoriasPorAño\r\n",
                ") AS SourceTable\r\n",
                "PIVOT\r\n",
                "(\r\n",
                "    SUM(TotalCantidad)\r\n",
                "    FOR Año IN ([2018], [2019], [2020], [2021], [2022])\r\n",
                ") AS PivotTable;"
            ],
            "metadata": {
                "azdata_cell_guid": "5963cd3e-f1b3-4eaf-9c71-8d903dd35c2f",
                "language": "sql"
            },
            "outputs": [
                {
                    "output_type": "display_data",
                    "data": {
                        "text/html": "(8 rows affected)"
                    },
                    "metadata": {}
                },
                {
                    "output_type": "display_data",
                    "data": {
                        "text/html": "Total execution time: 00:00:00.015"
                    },
                    "metadata": {}
                }
            ],
            "execution_count": 11
        },
        {
            "cell_type": "markdown",
            "source": [
                "1.6. Probrar la tabla generada"
            ],
            "metadata": {
                "azdata_cell_guid": "fdf1f380-33b1-4355-99dc-207bbf3eb3f3"
            }
        },
        {
            "cell_type": "code",
            "source": [
                "SELECT * FROM dbo.ResultadoPivot;"
            ],
            "metadata": {
                "azdata_cell_guid": "4407f21f-1c35-4c00-978a-0d24fc18d9f1",
                "language": "sql"
            },
            "outputs": [
                {
                    "output_type": "display_data",
                    "data": {
                        "text/html": "(8 rows affected)"
                    },
                    "metadata": {}
                },
                {
                    "output_type": "display_data",
                    "data": {
                        "text/html": "Total execution time: 00:00:00.003"
                    },
                    "metadata": {}
                },
                {
                    "output_type": "execute_result",
                    "metadata": {},
                    "execution_count": 12,
                    "data": {
                        "application/vnd.dataresource+json": {
                            "schema": {
                                "fields": [
                                    {
                                        "name": "CategoryName"
                                    },
                                    {
                                        "name": "2018"
                                    },
                                    {
                                        "name": "2019"
                                    },
                                    {
                                        "name": "2020"
                                    },
                                    {
                                        "name": "2021"
                                    },
                                    {
                                        "name": "2022"
                                    }
                                ]
                            },
                            "data": [
                                {
                                    "0": "Beverages",
                                    "1": "NULL",
                                    "2": "NULL",
                                    "3": "NULL",
                                    "4": "NULL",
                                    "5": "NULL"
                                },
                                {
                                    "0": "Condiments",
                                    "1": "NULL",
                                    "2": "NULL",
                                    "3": "NULL",
                                    "4": "NULL",
                                    "5": "NULL"
                                },
                                {
                                    "0": "Confections",
                                    "1": "NULL",
                                    "2": "NULL",
                                    "3": "NULL",
                                    "4": "NULL",
                                    "5": "NULL"
                                },
                                {
                                    "0": "Dairy Products",
                                    "1": "NULL",
                                    "2": "NULL",
                                    "3": "NULL",
                                    "4": "NULL",
                                    "5": "NULL"
                                },
                                {
                                    "0": "Grains/Cereals",
                                    "1": "NULL",
                                    "2": "NULL",
                                    "3": "NULL",
                                    "4": "NULL",
                                    "5": "NULL"
                                },
                                {
                                    "0": "Meat/Poultry",
                                    "1": "NULL",
                                    "2": "NULL",
                                    "3": "NULL",
                                    "4": "NULL",
                                    "5": "NULL"
                                },
                                {
                                    "0": "Produce",
                                    "1": "NULL",
                                    "2": "NULL",
                                    "3": "NULL",
                                    "4": "NULL",
                                    "5": "NULL"
                                },
                                {
                                    "0": "Seafood",
                                    "1": "NULL",
                                    "2": "NULL",
                                    "3": "NULL",
                                    "4": "NULL",
                                    "5": "NULL"
                                }
                            ]
                        },
                        "text/html": [
                            "<table>",
                            "<tr><th>CategoryName</th><th>2018</th><th>2019</th><th>2020</th><th>2021</th><th>2022</th></tr>",
                            "<tr><td>Beverages</td><td>NULL</td><td>NULL</td><td>NULL</td><td>NULL</td><td>NULL</td></tr>",
                            "<tr><td>Condiments</td><td>NULL</td><td>NULL</td><td>NULL</td><td>NULL</td><td>NULL</td></tr>",
                            "<tr><td>Confections</td><td>NULL</td><td>NULL</td><td>NULL</td><td>NULL</td><td>NULL</td></tr>",
                            "<tr><td>Dairy Products</td><td>NULL</td><td>NULL</td><td>NULL</td><td>NULL</td><td>NULL</td></tr>",
                            "<tr><td>Grains/Cereals</td><td>NULL</td><td>NULL</td><td>NULL</td><td>NULL</td><td>NULL</td></tr>",
                            "<tr><td>Meat/Poultry</td><td>NULL</td><td>NULL</td><td>NULL</td><td>NULL</td><td>NULL</td></tr>",
                            "<tr><td>Produce</td><td>NULL</td><td>NULL</td><td>NULL</td><td>NULL</td><td>NULL</td></tr>",
                            "<tr><td>Seafood</td><td>NULL</td><td>NULL</td><td>NULL</td><td>NULL</td><td>NULL</td></tr>",
                            "</table>"
                        ]
                    }
                }
            ],
            "execution_count": 12
        },
        {
            "cell_type": "markdown",
            "source": [
                "1.7. Utilizar UNPIVOT."
            ],
            "metadata": {
                "azdata_cell_guid": "9728a179-da73-4a88-b211-101133f579b9"
            }
        },
        {
            "cell_type": "code",
            "source": [
                "SELECT CategoryName, Año, TotalCantidad\r\n",
                "FROM\r\n",
                "    (SELECT CategoryName, [2018], [2019], [2020], [2021], [2022]\r\n",
                "     FROM dbo.ResultadoPivot) p\r\n",
                "UNPIVOT\r\n",
                "    (TotalCantidad FOR Año IN ([2018], [2019], [2020], [2021], [2022]))\r\n",
                "    AS unpvt;"
            ],
            "metadata": {
                "azdata_cell_guid": "0978b805-570c-4f50-a9cf-9407380d5b77",
                "language": "sql"
            },
            "outputs": [
                {
                    "output_type": "display_data",
                    "data": {
                        "text/html": "(0 rows affected)"
                    },
                    "metadata": {}
                },
                {
                    "output_type": "display_data",
                    "data": {
                        "text/html": "Total execution time: 00:00:00.013"
                    },
                    "metadata": {}
                },
                {
                    "output_type": "execute_result",
                    "metadata": {},
                    "execution_count": 13,
                    "data": {
                        "application/vnd.dataresource+json": {
                            "schema": {
                                "fields": [
                                    {
                                        "name": "CategoryName"
                                    },
                                    {
                                        "name": "Año"
                                    },
                                    {
                                        "name": "TotalCantidad"
                                    }
                                ]
                            },
                            "data": []
                        },
                        "text/html": [
                            "<table>",
                            "<tr><th>CategoryName</th><th>Año</th><th>TotalCantidad</th></tr>",
                            "</table>"
                        ]
                    }
                }
            ],
            "execution_count": 13
        },
        {
            "cell_type": "markdown",
            "source": [
                "1.8. Limpiar los cambios realizados.\n"
            ],
            "metadata": {
                "azdata_cell_guid": "9994c491-0aec-4ea9-8377-28ec148dee10"
            }
        },
        {
            "cell_type": "code",
            "source": [
                "-- Eliminar la tabla resultado del PIVOT si existe\r\n",
                "IF OBJECT_ID('dbo.ResultadoPivot', 'U') IS NOT NULL\r\n",
                "    DROP TABLE dbo.ResultadoPivot;\r\n",
                "\r\n",
                "-- Eliminar la vista de categorías por año si existe\r\n",
                "IF OBJECT_ID('Production.VistaCategoriasPorAño', 'V') IS NOT NULL\r\n",
                "    DROP VIEW Production.VistaCategoriasPorAño;"
            ],
            "metadata": {
                "azdata_cell_guid": "4a2545cb-5f07-49c6-b014-98ff46b462a3",
                "language": "sql"
            },
            "outputs": [
                {
                    "output_type": "display_data",
                    "data": {
                        "text/html": "Commands completed successfully."
                    },
                    "metadata": {}
                },
                {
                    "output_type": "display_data",
                    "data": {
                        "text/html": "Total execution time: 00:00:00"
                    },
                    "metadata": {}
                }
            ],
            "execution_count": 16
        },
        {
            "cell_type": "markdown",
            "source": [
                "<h2>Parte 02. Escribir consultas que utilizan UNPIVOT."
            ],
            "metadata": {
                "azdata_cell_guid": "cb39f4dd-5700-4d3d-8889-26973f87afd9"
            }
        },
        {
            "cell_type": "markdown",
            "source": [
                "2.1. Ejecutar la siguiente vistas"
            ],
            "metadata": {
                "azdata_cell_guid": "7b698689-fe92-4cb3-8566-c4fd07ebcbc6"
            }
        },
        {
            "cell_type": "code",
            "source": [
                "SELECT * FROM Production.VistaCategoriasPorAño;"
            ],
            "metadata": {
                "azdata_cell_guid": "3b82c483-6f9b-471b-bd5a-83b87fc8fc5e",
                "language": "sql"
            },
            "outputs": [
                {
                    "output_type": "display_data",
                    "data": {
                        "text/html": "(24 rows affected)"
                    },
                    "metadata": {}
                },
                {
                    "output_type": "display_data",
                    "data": {
                        "text/html": "Total execution time: 00:00:00.006"
                    },
                    "metadata": {}
                },
                {
                    "output_type": "execute_result",
                    "metadata": {},
                    "execution_count": 21,
                    "data": {
                        "application/vnd.dataresource+json": {
                            "schema": {
                                "fields": [
                                    {
                                        "name": "CategoryName"
                                    },
                                    {
                                        "name": "Año"
                                    },
                                    {
                                        "name": "TotalCantidad"
                                    }
                                ]
                            },
                            "data": [
                                {
                                    "0": "Meat/Poultry",
                                    "1": "2006",
                                    "2": "950"
                                },
                                {
                                    "0": "Seafood",
                                    "1": "2008",
                                    "2": "2716"
                                },
                                {
                                    "0": "Dairy Products",
                                    "1": "2007",
                                    "2": "4374"
                                },
                                {
                                    "0": "Grains/Cereals",
                                    "1": "2008",
                                    "2": "1377"
                                },
                                {
                                    "0": "Confections",
                                    "1": "2007",
                                    "2": "4137"
                                },
                                {
                                    "0": "Produce",
                                    "1": "2008",
                                    "2": "858"
                                },
                                {
                                    "0": "Beverages",
                                    "1": "2006",
                                    "2": "1842"
                                },
                                {
                                    "0": "Condiments",
                                    "1": "2008",
                                    "2": "1441"
                                },
                                {
                                    "0": "Dairy Products",
                                    "1": "2008",
                                    "2": "2689"
                                },
                                {
                                    "0": "Seafood",
                                    "1": "2007",
                                    "2": "3679"
                                },
                                {
                                    "0": "Meat/Poultry",
                                    "1": "2007",
                                    "2": "2189"
                                },
                                {
                                    "0": "Condiments",
                                    "1": "2006",
                                    "2": "962"
                                },
                                {
                                    "0": "Dairy Products",
                                    "1": "2006",
                                    "2": "2086"
                                },
                                {
                                    "0": "Confections",
                                    "1": "2008",
                                    "2": "2412"
                                },
                                {
                                    "0": "Beverages",
                                    "1": "2007",
                                    "2": "3996"
                                },
                                {
                                    "0": "Seafood",
                                    "1": "2006",
                                    "2": "1286"
                                },
                                {
                                    "0": "Grains/Cereals",
                                    "1": "2006",
                                    "2": "549"
                                },
                                {
                                    "0": "Produce",
                                    "1": "2006",
                                    "2": "549"
                                },
                                {
                                    "0": "Confections",
                                    "1": "2006",
                                    "2": "1357"
                                },
                                {
                                    "0": "Grains/Cereals",
                                    "1": "2007",
                                    "2": "2636"
                                },
                                {
                                    "0": "Produce",
                                    "1": "2007",
                                    "2": "1583"
                                },
                                {
                                    "0": "Meat/Poultry",
                                    "1": "2008",
                                    "2": "1060"
                                },
                                {
                                    "0": "Condiments",
                                    "1": "2007",
                                    "2": "2895"
                                },
                                {
                                    "0": "Beverages",
                                    "1": "2008",
                                    "2": "3694"
                                }
                            ]
                        },
                        "text/html": [
                            "<table>",
                            "<tr><th>CategoryName</th><th>Año</th><th>TotalCantidad</th></tr>",
                            "<tr><td>Meat/Poultry</td><td>2006</td><td>950</td></tr>",
                            "<tr><td>Seafood</td><td>2008</td><td>2716</td></tr>",
                            "<tr><td>Dairy Products</td><td>2007</td><td>4374</td></tr>",
                            "<tr><td>Grains/Cereals</td><td>2008</td><td>1377</td></tr>",
                            "<tr><td>Confections</td><td>2007</td><td>4137</td></tr>",
                            "<tr><td>Produce</td><td>2008</td><td>858</td></tr>",
                            "<tr><td>Beverages</td><td>2006</td><td>1842</td></tr>",
                            "<tr><td>Condiments</td><td>2008</td><td>1441</td></tr>",
                            "<tr><td>Dairy Products</td><td>2008</td><td>2689</td></tr>",
                            "<tr><td>Seafood</td><td>2007</td><td>3679</td></tr>",
                            "<tr><td>Meat/Poultry</td><td>2007</td><td>2189</td></tr>",
                            "<tr><td>Condiments</td><td>2006</td><td>962</td></tr>",
                            "<tr><td>Dairy Products</td><td>2006</td><td>2086</td></tr>",
                            "<tr><td>Confections</td><td>2008</td><td>2412</td></tr>",
                            "<tr><td>Beverages</td><td>2007</td><td>3996</td></tr>",
                            "<tr><td>Seafood</td><td>2006</td><td>1286</td></tr>",
                            "<tr><td>Grains/Cereals</td><td>2006</td><td>549</td></tr>",
                            "<tr><td>Produce</td><td>2006</td><td>549</td></tr>",
                            "<tr><td>Confections</td><td>2006</td><td>1357</td></tr>",
                            "<tr><td>Grains/Cereals</td><td>2007</td><td>2636</td></tr>",
                            "<tr><td>Produce</td><td>2007</td><td>1583</td></tr>",
                            "<tr><td>Meat/Poultry</td><td>2008</td><td>1060</td></tr>",
                            "<tr><td>Condiments</td><td>2007</td><td>2895</td></tr>",
                            "<tr><td>Beverages</td><td>2008</td><td>3694</td></tr>",
                            "</table>"
                        ]
                    }
                }
            ],
            "execution_count": 21
        },
        {
            "cell_type": "markdown",
            "source": [
                "2.2. Elaborar una consulta sin utilizar GROUPING SETS."
            ],
            "metadata": {
                "azdata_cell_guid": "383e30cc-53f8-4a51-bfed-6685c49eac05"
            }
        },
        {
            "cell_type": "code",
            "source": [
                "-- 1. Total por Categoría y Año\r\n",
                "SELECT \r\n",
                "    c.CategoryName,\r\n",
                "    YEAR(o.OrderDate) AS Año,\r\n",
                "    SUM(od.qty) AS TotalCantidad\r\n",
                "FROM \r\n",
                "    Production.Categories c\r\n",
                "    INNER JOIN Production.Products p ON c.CategoryID = p.CategoryID\r\n",
                "    INNER JOIN Sales.OrderDetails od ON p.ProductID = od.ProductID\r\n",
                "    INNER JOIN Sales.Orders o ON od.OrderID = o.OrderID\r\n",
                "GROUP BY \r\n",
                "    c.CategoryName, YEAR(o.OrderDate)\r\n",
                "\r\n",
                "UNION ALL\r\n",
                "\r\n",
                "-- 2. Total por Año (todas las categorías)\r\n",
                "SELECT \r\n",
                "    NULL AS CategoryName,\r\n",
                "    YEAR(o.OrderDate) AS Año,\r\n",
                "    SUM(od.qty) AS TotalCantidad\r\n",
                "FROM \r\n",
                "    Production.Categories c\r\n",
                "    INNER JOIN Production.Products p ON c.CategoryID = p.CategoryID\r\n",
                "    INNER JOIN Sales.OrderDetails od ON p.ProductID = od.ProductID\r\n",
                "    INNER JOIN Sales.Orders o ON od.OrderID = o.OrderID\r\n",
                "GROUP BY \r\n",
                "    YEAR(o.OrderDate)\r\n",
                "\r\n",
                "UNION ALL\r\n",
                "\r\n",
                "-- 3. Total general (todas las categorías y todos los años)\r\n",
                "SELECT \r\n",
                "    NULL AS CategoryName,\r\n",
                "    NULL AS Año,\r\n",
                "    SUM(od.qty) AS TotalCantidad\r\n",
                "FROM \r\n",
                "    Production.Categories c\r\n",
                "    INNER JOIN Production.Products p ON c.CategoryID = p.CategoryID\r\n",
                "    INNER JOIN Sales.OrderDetails od ON p.ProductID = od.ProductID\r\n",
                "    INNER JOIN Sales.Orders o ON od.OrderID = o.OrderID;"
            ],
            "metadata": {
                "azdata_cell_guid": "e051ce03-75a7-4298-8bd9-d55868dbbd6a",
                "language": "sql"
            },
            "outputs": [
                {
                    "output_type": "display_data",
                    "data": {
                        "text/html": "(28 rows affected)"
                    },
                    "metadata": {}
                },
                {
                    "output_type": "display_data",
                    "data": {
                        "text/html": "Total execution time: 00:00:00.029"
                    },
                    "metadata": {}
                },
                {
                    "output_type": "execute_result",
                    "metadata": {},
                    "execution_count": 22,
                    "data": {
                        "application/vnd.dataresource+json": {
                            "schema": {
                                "fields": [
                                    {
                                        "name": "CategoryName"
                                    },
                                    {
                                        "name": "Año"
                                    },
                                    {
                                        "name": "TotalCantidad"
                                    }
                                ]
                            },
                            "data": [
                                {
                                    "0": "Meat/Poultry",
                                    "1": "2006",
                                    "2": "950"
                                },
                                {
                                    "0": "Seafood",
                                    "1": "2008",
                                    "2": "2716"
                                },
                                {
                                    "0": "Dairy Products",
                                    "1": "2007",
                                    "2": "4374"
                                },
                                {
                                    "0": "Grains/Cereals",
                                    "1": "2008",
                                    "2": "1377"
                                },
                                {
                                    "0": "Confections",
                                    "1": "2007",
                                    "2": "4137"
                                },
                                {
                                    "0": "Produce",
                                    "1": "2008",
                                    "2": "858"
                                },
                                {
                                    "0": "Beverages",
                                    "1": "2006",
                                    "2": "1842"
                                },
                                {
                                    "0": "Condiments",
                                    "1": "2008",
                                    "2": "1441"
                                },
                                {
                                    "0": "Dairy Products",
                                    "1": "2008",
                                    "2": "2689"
                                },
                                {
                                    "0": "Seafood",
                                    "1": "2007",
                                    "2": "3679"
                                },
                                {
                                    "0": "Meat/Poultry",
                                    "1": "2007",
                                    "2": "2189"
                                },
                                {
                                    "0": "Condiments",
                                    "1": "2006",
                                    "2": "962"
                                },
                                {
                                    "0": "Dairy Products",
                                    "1": "2006",
                                    "2": "2086"
                                },
                                {
                                    "0": "Confections",
                                    "1": "2008",
                                    "2": "2412"
                                },
                                {
                                    "0": "Beverages",
                                    "1": "2007",
                                    "2": "3996"
                                },
                                {
                                    "0": "Seafood",
                                    "1": "2006",
                                    "2": "1286"
                                },
                                {
                                    "0": "Grains/Cereals",
                                    "1": "2006",
                                    "2": "549"
                                },
                                {
                                    "0": "Produce",
                                    "1": "2006",
                                    "2": "549"
                                },
                                {
                                    "0": "Confections",
                                    "1": "2006",
                                    "2": "1357"
                                },
                                {
                                    "0": "Grains/Cereals",
                                    "1": "2007",
                                    "2": "2636"
                                },
                                {
                                    "0": "Produce",
                                    "1": "2007",
                                    "2": "1583"
                                },
                                {
                                    "0": "Meat/Poultry",
                                    "1": "2008",
                                    "2": "1060"
                                },
                                {
                                    "0": "Condiments",
                                    "1": "2007",
                                    "2": "2895"
                                },
                                {
                                    "0": "Beverages",
                                    "1": "2008",
                                    "2": "3694"
                                },
                                {
                                    "0": "NULL",
                                    "1": "2007",
                                    "2": "25489"
                                },
                                {
                                    "0": "NULL",
                                    "1": "2008",
                                    "2": "16247"
                                },
                                {
                                    "0": "NULL",
                                    "1": "2006",
                                    "2": "9581"
                                },
                                {
                                    "0": "NULL",
                                    "1": "NULL",
                                    "2": "51317"
                                }
                            ]
                        },
                        "text/html": [
                            "<table>",
                            "<tr><th>CategoryName</th><th>Año</th><th>TotalCantidad</th></tr>",
                            "<tr><td>Meat/Poultry</td><td>2006</td><td>950</td></tr>",
                            "<tr><td>Seafood</td><td>2008</td><td>2716</td></tr>",
                            "<tr><td>Dairy Products</td><td>2007</td><td>4374</td></tr>",
                            "<tr><td>Grains/Cereals</td><td>2008</td><td>1377</td></tr>",
                            "<tr><td>Confections</td><td>2007</td><td>4137</td></tr>",
                            "<tr><td>Produce</td><td>2008</td><td>858</td></tr>",
                            "<tr><td>Beverages</td><td>2006</td><td>1842</td></tr>",
                            "<tr><td>Condiments</td><td>2008</td><td>1441</td></tr>",
                            "<tr><td>Dairy Products</td><td>2008</td><td>2689</td></tr>",
                            "<tr><td>Seafood</td><td>2007</td><td>3679</td></tr>",
                            "<tr><td>Meat/Poultry</td><td>2007</td><td>2189</td></tr>",
                            "<tr><td>Condiments</td><td>2006</td><td>962</td></tr>",
                            "<tr><td>Dairy Products</td><td>2006</td><td>2086</td></tr>",
                            "<tr><td>Confections</td><td>2008</td><td>2412</td></tr>",
                            "<tr><td>Beverages</td><td>2007</td><td>3996</td></tr>",
                            "<tr><td>Seafood</td><td>2006</td><td>1286</td></tr>",
                            "<tr><td>Grains/Cereals</td><td>2006</td><td>549</td></tr>",
                            "<tr><td>Produce</td><td>2006</td><td>549</td></tr>",
                            "<tr><td>Confections</td><td>2006</td><td>1357</td></tr>",
                            "<tr><td>Grains/Cereals</td><td>2007</td><td>2636</td></tr>",
                            "<tr><td>Produce</td><td>2007</td><td>1583</td></tr>",
                            "<tr><td>Meat/Poultry</td><td>2008</td><td>1060</td></tr>",
                            "<tr><td>Condiments</td><td>2007</td><td>2895</td></tr>",
                            "<tr><td>Beverages</td><td>2008</td><td>3694</td></tr>",
                            "<tr><td>NULL</td><td>2007</td><td>25489</td></tr>",
                            "<tr><td>NULL</td><td>2008</td><td>16247</td></tr>",
                            "<tr><td>NULL</td><td>2006</td><td>9581</td></tr>",
                            "<tr><td>NULL</td><td>NULL</td><td>51317</td></tr>",
                            "</table>"
                        ]
                    }
                }
            ],
            "execution_count": 22
        },
        {
            "cell_type": "markdown",
            "source": [
                "2.3. Consultar con GROUPING SETS."
            ],
            "metadata": {
                "azdata_cell_guid": "cfd769d7-265e-44cd-ae72-69d5d6db9fc7"
            }
        },
        {
            "cell_type": "code",
            "source": [
                "SELECT \r\n",
                "    c.CategoryName,\r\n",
                "    YEAR(o.OrderDate) AS Año,\r\n",
                "    SUM(od.qty) AS TotalCantidad\r\n",
                "FROM \r\n",
                "    Production.Categories c\r\n",
                "    INNER JOIN Production.Products p ON c.CategoryID = p.CategoryID\r\n",
                "    INNER JOIN Sales.OrderDetails od ON p.ProductID = od.ProductID\r\n",
                "    INNER JOIN Sales.Orders o ON od.OrderID = o.OrderID\r\n",
                "GROUP BY \r\n",
                "    GROUPING SETS (\r\n",
                "        (c.CategoryName, YEAR(o.OrderDate)),   -- Total por categoría y año\r\n",
                "        (c.CategoryName),                      -- Total por categoría\r\n",
                "        (YEAR(o.OrderDate)),                   -- Total por año\r\n",
                "        ()                                     -- Gran total general\r\n",
                "    );"
            ],
            "metadata": {
                "azdata_cell_guid": "13796b1e-26c4-4ea6-882e-c29a99639b74",
                "language": "sql"
            },
            "outputs": [
                {
                    "output_type": "display_data",
                    "data": {
                        "text/html": "(36 rows affected)"
                    },
                    "metadata": {}
                },
                {
                    "output_type": "display_data",
                    "data": {
                        "text/html": "Total execution time: 00:00:00.032"
                    },
                    "metadata": {}
                },
                {
                    "output_type": "execute_result",
                    "metadata": {},
                    "execution_count": 23,
                    "data": {
                        "application/vnd.dataresource+json": {
                            "schema": {
                                "fields": [
                                    {
                                        "name": "CategoryName"
                                    },
                                    {
                                        "name": "Año"
                                    },
                                    {
                                        "name": "TotalCantidad"
                                    }
                                ]
                            },
                            "data": [
                                {
                                    "0": "Beverages",
                                    "1": "2006",
                                    "2": "1842"
                                },
                                {
                                    "0": "Condiments",
                                    "1": "2006",
                                    "2": "962"
                                },
                                {
                                    "0": "Confections",
                                    "1": "2006",
                                    "2": "1357"
                                },
                                {
                                    "0": "Dairy Products",
                                    "1": "2006",
                                    "2": "2086"
                                },
                                {
                                    "0": "Grains/Cereals",
                                    "1": "2006",
                                    "2": "549"
                                },
                                {
                                    "0": "Meat/Poultry",
                                    "1": "2006",
                                    "2": "950"
                                },
                                {
                                    "0": "Produce",
                                    "1": "2006",
                                    "2": "549"
                                },
                                {
                                    "0": "Seafood",
                                    "1": "2006",
                                    "2": "1286"
                                },
                                {
                                    "0": "NULL",
                                    "1": "2006",
                                    "2": "9581"
                                },
                                {
                                    "0": "Beverages",
                                    "1": "2007",
                                    "2": "3996"
                                },
                                {
                                    "0": "Condiments",
                                    "1": "2007",
                                    "2": "2895"
                                },
                                {
                                    "0": "Confections",
                                    "1": "2007",
                                    "2": "4137"
                                },
                                {
                                    "0": "Dairy Products",
                                    "1": "2007",
                                    "2": "4374"
                                },
                                {
                                    "0": "Grains/Cereals",
                                    "1": "2007",
                                    "2": "2636"
                                },
                                {
                                    "0": "Meat/Poultry",
                                    "1": "2007",
                                    "2": "2189"
                                },
                                {
                                    "0": "Produce",
                                    "1": "2007",
                                    "2": "1583"
                                },
                                {
                                    "0": "Seafood",
                                    "1": "2007",
                                    "2": "3679"
                                },
                                {
                                    "0": "NULL",
                                    "1": "2007",
                                    "2": "25489"
                                },
                                {
                                    "0": "Beverages",
                                    "1": "2008",
                                    "2": "3694"
                                },
                                {
                                    "0": "Condiments",
                                    "1": "2008",
                                    "2": "1441"
                                },
                                {
                                    "0": "Confections",
                                    "1": "2008",
                                    "2": "2412"
                                },
                                {
                                    "0": "Dairy Products",
                                    "1": "2008",
                                    "2": "2689"
                                },
                                {
                                    "0": "Grains/Cereals",
                                    "1": "2008",
                                    "2": "1377"
                                },
                                {
                                    "0": "Meat/Poultry",
                                    "1": "2008",
                                    "2": "1060"
                                },
                                {
                                    "0": "Produce",
                                    "1": "2008",
                                    "2": "858"
                                },
                                {
                                    "0": "Seafood",
                                    "1": "2008",
                                    "2": "2716"
                                },
                                {
                                    "0": "NULL",
                                    "1": "2008",
                                    "2": "16247"
                                },
                                {
                                    "0": "NULL",
                                    "1": "NULL",
                                    "2": "51317"
                                },
                                {
                                    "0": "Beverages",
                                    "1": "NULL",
                                    "2": "9532"
                                },
                                {
                                    "0": "Condiments",
                                    "1": "NULL",
                                    "2": "5298"
                                },
                                {
                                    "0": "Confections",
                                    "1": "NULL",
                                    "2": "7906"
                                },
                                {
                                    "0": "Dairy Products",
                                    "1": "NULL",
                                    "2": "9149"
                                },
                                {
                                    "0": "Grains/Cereals",
                                    "1": "NULL",
                                    "2": "4562"
                                },
                                {
                                    "0": "Meat/Poultry",
                                    "1": "NULL",
                                    "2": "4199"
                                },
                                {
                                    "0": "Produce",
                                    "1": "NULL",
                                    "2": "2990"
                                },
                                {
                                    "0": "Seafood",
                                    "1": "NULL",
                                    "2": "7681"
                                }
                            ]
                        },
                        "text/html": [
                            "<table>",
                            "<tr><th>CategoryName</th><th>Año</th><th>TotalCantidad</th></tr>",
                            "<tr><td>Beverages</td><td>2006</td><td>1842</td></tr>",
                            "<tr><td>Condiments</td><td>2006</td><td>962</td></tr>",
                            "<tr><td>Confections</td><td>2006</td><td>1357</td></tr>",
                            "<tr><td>Dairy Products</td><td>2006</td><td>2086</td></tr>",
                            "<tr><td>Grains/Cereals</td><td>2006</td><td>549</td></tr>",
                            "<tr><td>Meat/Poultry</td><td>2006</td><td>950</td></tr>",
                            "<tr><td>Produce</td><td>2006</td><td>549</td></tr>",
                            "<tr><td>Seafood</td><td>2006</td><td>1286</td></tr>",
                            "<tr><td>NULL</td><td>2006</td><td>9581</td></tr>",
                            "<tr><td>Beverages</td><td>2007</td><td>3996</td></tr>",
                            "<tr><td>Condiments</td><td>2007</td><td>2895</td></tr>",
                            "<tr><td>Confections</td><td>2007</td><td>4137</td></tr>",
                            "<tr><td>Dairy Products</td><td>2007</td><td>4374</td></tr>",
                            "<tr><td>Grains/Cereals</td><td>2007</td><td>2636</td></tr>",
                            "<tr><td>Meat/Poultry</td><td>2007</td><td>2189</td></tr>",
                            "<tr><td>Produce</td><td>2007</td><td>1583</td></tr>",
                            "<tr><td>Seafood</td><td>2007</td><td>3679</td></tr>",
                            "<tr><td>NULL</td><td>2007</td><td>25489</td></tr>",
                            "<tr><td>Beverages</td><td>2008</td><td>3694</td></tr>",
                            "<tr><td>Condiments</td><td>2008</td><td>1441</td></tr>",
                            "<tr><td>Confections</td><td>2008</td><td>2412</td></tr>",
                            "<tr><td>Dairy Products</td><td>2008</td><td>2689</td></tr>",
                            "<tr><td>Grains/Cereals</td><td>2008</td><td>1377</td></tr>",
                            "<tr><td>Meat/Poultry</td><td>2008</td><td>1060</td></tr>",
                            "<tr><td>Produce</td><td>2008</td><td>858</td></tr>",
                            "<tr><td>Seafood</td><td>2008</td><td>2716</td></tr>",
                            "<tr><td>NULL</td><td>2008</td><td>16247</td></tr>",
                            "<tr><td>NULL</td><td>NULL</td><td>51317</td></tr>",
                            "<tr><td>Beverages</td><td>NULL</td><td>9532</td></tr>",
                            "<tr><td>Condiments</td><td>NULL</td><td>5298</td></tr>",
                            "<tr><td>Confections</td><td>NULL</td><td>7906</td></tr>",
                            "<tr><td>Dairy Products</td><td>NULL</td><td>9149</td></tr>",
                            "<tr><td>Grains/Cereals</td><td>NULL</td><td>4562</td></tr>",
                            "<tr><td>Meat/Poultry</td><td>NULL</td><td>4199</td></tr>",
                            "<tr><td>Produce</td><td>NULL</td><td>2990</td></tr>",
                            "<tr><td>Seafood</td><td>NULL</td><td>7681</td></tr>",
                            "</table>"
                        ]
                    }
                }
            ],
            "execution_count": 23
        },
        {
            "cell_type": "markdown",
            "source": [
                "2.4. Consultar con CUBE."
            ],
            "metadata": {
                "azdata_cell_guid": "73732a9d-6e0a-43ef-92ab-d3b4ac5406bc"
            }
        },
        {
            "cell_type": "code",
            "source": [
                "SELECT \r\n",
                "    c.CategoryName,\r\n",
                "    YEAR(o.OrderDate) AS Año,\r\n",
                "    SUM(od.qty) AS TotalCantidad\r\n",
                "FROM \r\n",
                "    Production.Categories c\r\n",
                "    INNER JOIN Production.Products p ON c.CategoryID = p.CategoryID\r\n",
                "    INNER JOIN Sales.OrderDetails od ON p.ProductID = od.ProductID\r\n",
                "    INNER JOIN Sales.Orders o ON od.OrderID = o.OrderID\r\n",
                "GROUP BY \r\n",
                "    CUBE (c.CategoryName, YEAR(o.OrderDate));"
            ],
            "metadata": {
                "azdata_cell_guid": "d75d796c-991a-48a8-a4e2-e940994cf072",
                "language": "sql"
            },
            "outputs": [
                {
                    "output_type": "display_data",
                    "data": {
                        "text/html": "(36 rows affected)"
                    },
                    "metadata": {}
                },
                {
                    "output_type": "display_data",
                    "data": {
                        "text/html": "Total execution time: 00:00:00.015"
                    },
                    "metadata": {}
                },
                {
                    "output_type": "execute_result",
                    "metadata": {},
                    "execution_count": 24,
                    "data": {
                        "application/vnd.dataresource+json": {
                            "schema": {
                                "fields": [
                                    {
                                        "name": "CategoryName"
                                    },
                                    {
                                        "name": "Año"
                                    },
                                    {
                                        "name": "TotalCantidad"
                                    }
                                ]
                            },
                            "data": [
                                {
                                    "0": "Beverages",
                                    "1": "2006",
                                    "2": "1842"
                                },
                                {
                                    "0": "Condiments",
                                    "1": "2006",
                                    "2": "962"
                                },
                                {
                                    "0": "Confections",
                                    "1": "2006",
                                    "2": "1357"
                                },
                                {
                                    "0": "Dairy Products",
                                    "1": "2006",
                                    "2": "2086"
                                },
                                {
                                    "0": "Grains/Cereals",
                                    "1": "2006",
                                    "2": "549"
                                },
                                {
                                    "0": "Meat/Poultry",
                                    "1": "2006",
                                    "2": "950"
                                },
                                {
                                    "0": "Produce",
                                    "1": "2006",
                                    "2": "549"
                                },
                                {
                                    "0": "Seafood",
                                    "1": "2006",
                                    "2": "1286"
                                },
                                {
                                    "0": "NULL",
                                    "1": "2006",
                                    "2": "9581"
                                },
                                {
                                    "0": "Beverages",
                                    "1": "2007",
                                    "2": "3996"
                                },
                                {
                                    "0": "Condiments",
                                    "1": "2007",
                                    "2": "2895"
                                },
                                {
                                    "0": "Confections",
                                    "1": "2007",
                                    "2": "4137"
                                },
                                {
                                    "0": "Dairy Products",
                                    "1": "2007",
                                    "2": "4374"
                                },
                                {
                                    "0": "Grains/Cereals",
                                    "1": "2007",
                                    "2": "2636"
                                },
                                {
                                    "0": "Meat/Poultry",
                                    "1": "2007",
                                    "2": "2189"
                                },
                                {
                                    "0": "Produce",
                                    "1": "2007",
                                    "2": "1583"
                                },
                                {
                                    "0": "Seafood",
                                    "1": "2007",
                                    "2": "3679"
                                },
                                {
                                    "0": "NULL",
                                    "1": "2007",
                                    "2": "25489"
                                },
                                {
                                    "0": "Beverages",
                                    "1": "2008",
                                    "2": "3694"
                                },
                                {
                                    "0": "Condiments",
                                    "1": "2008",
                                    "2": "1441"
                                },
                                {
                                    "0": "Confections",
                                    "1": "2008",
                                    "2": "2412"
                                },
                                {
                                    "0": "Dairy Products",
                                    "1": "2008",
                                    "2": "2689"
                                },
                                {
                                    "0": "Grains/Cereals",
                                    "1": "2008",
                                    "2": "1377"
                                },
                                {
                                    "0": "Meat/Poultry",
                                    "1": "2008",
                                    "2": "1060"
                                },
                                {
                                    "0": "Produce",
                                    "1": "2008",
                                    "2": "858"
                                },
                                {
                                    "0": "Seafood",
                                    "1": "2008",
                                    "2": "2716"
                                },
                                {
                                    "0": "NULL",
                                    "1": "2008",
                                    "2": "16247"
                                },
                                {
                                    "0": "NULL",
                                    "1": "NULL",
                                    "2": "51317"
                                },
                                {
                                    "0": "Beverages",
                                    "1": "NULL",
                                    "2": "9532"
                                },
                                {
                                    "0": "Condiments",
                                    "1": "NULL",
                                    "2": "5298"
                                },
                                {
                                    "0": "Confections",
                                    "1": "NULL",
                                    "2": "7906"
                                },
                                {
                                    "0": "Dairy Products",
                                    "1": "NULL",
                                    "2": "9149"
                                },
                                {
                                    "0": "Grains/Cereals",
                                    "1": "NULL",
                                    "2": "4562"
                                },
                                {
                                    "0": "Meat/Poultry",
                                    "1": "NULL",
                                    "2": "4199"
                                },
                                {
                                    "0": "Produce",
                                    "1": "NULL",
                                    "2": "2990"
                                },
                                {
                                    "0": "Seafood",
                                    "1": "NULL",
                                    "2": "7681"
                                }
                            ]
                        },
                        "text/html": [
                            "<table>",
                            "<tr><th>CategoryName</th><th>Año</th><th>TotalCantidad</th></tr>",
                            "<tr><td>Beverages</td><td>2006</td><td>1842</td></tr>",
                            "<tr><td>Condiments</td><td>2006</td><td>962</td></tr>",
                            "<tr><td>Confections</td><td>2006</td><td>1357</td></tr>",
                            "<tr><td>Dairy Products</td><td>2006</td><td>2086</td></tr>",
                            "<tr><td>Grains/Cereals</td><td>2006</td><td>549</td></tr>",
                            "<tr><td>Meat/Poultry</td><td>2006</td><td>950</td></tr>",
                            "<tr><td>Produce</td><td>2006</td><td>549</td></tr>",
                            "<tr><td>Seafood</td><td>2006</td><td>1286</td></tr>",
                            "<tr><td>NULL</td><td>2006</td><td>9581</td></tr>",
                            "<tr><td>Beverages</td><td>2007</td><td>3996</td></tr>",
                            "<tr><td>Condiments</td><td>2007</td><td>2895</td></tr>",
                            "<tr><td>Confections</td><td>2007</td><td>4137</td></tr>",
                            "<tr><td>Dairy Products</td><td>2007</td><td>4374</td></tr>",
                            "<tr><td>Grains/Cereals</td><td>2007</td><td>2636</td></tr>",
                            "<tr><td>Meat/Poultry</td><td>2007</td><td>2189</td></tr>",
                            "<tr><td>Produce</td><td>2007</td><td>1583</td></tr>",
                            "<tr><td>Seafood</td><td>2007</td><td>3679</td></tr>",
                            "<tr><td>NULL</td><td>2007</td><td>25489</td></tr>",
                            "<tr><td>Beverages</td><td>2008</td><td>3694</td></tr>",
                            "<tr><td>Condiments</td><td>2008</td><td>1441</td></tr>",
                            "<tr><td>Confections</td><td>2008</td><td>2412</td></tr>",
                            "<tr><td>Dairy Products</td><td>2008</td><td>2689</td></tr>",
                            "<tr><td>Grains/Cereals</td><td>2008</td><td>1377</td></tr>",
                            "<tr><td>Meat/Poultry</td><td>2008</td><td>1060</td></tr>",
                            "<tr><td>Produce</td><td>2008</td><td>858</td></tr>",
                            "<tr><td>Seafood</td><td>2008</td><td>2716</td></tr>",
                            "<tr><td>NULL</td><td>2008</td><td>16247</td></tr>",
                            "<tr><td>NULL</td><td>NULL</td><td>51317</td></tr>",
                            "<tr><td>Beverages</td><td>NULL</td><td>9532</td></tr>",
                            "<tr><td>Condiments</td><td>NULL</td><td>5298</td></tr>",
                            "<tr><td>Confections</td><td>NULL</td><td>7906</td></tr>",
                            "<tr><td>Dairy Products</td><td>NULL</td><td>9149</td></tr>",
                            "<tr><td>Grains/Cereals</td><td>NULL</td><td>4562</td></tr>",
                            "<tr><td>Meat/Poultry</td><td>NULL</td><td>4199</td></tr>",
                            "<tr><td>Produce</td><td>NULL</td><td>2990</td></tr>",
                            "<tr><td>Seafood</td><td>NULL</td><td>7681</td></tr>",
                            "</table>"
                        ]
                    }
                }
            ],
            "execution_count": 24
        },
        {
            "cell_type": "markdown",
            "source": [
                "2.5. Consultar con ROLLUP"
            ],
            "metadata": {
                "azdata_cell_guid": "87ec1ad2-5d1c-4312-b5a5-4cb8549edfa4"
            }
        },
        {
            "cell_type": "code",
            "source": [
                "SELECT \r\n",
                "    c.CategoryName,\r\n",
                "    YEAR(o.OrderDate) AS Año,\r\n",
                "    SUM(od.qty) AS TotalCantidad\r\n",
                "FROM \r\n",
                "    Production.Categories c\r\n",
                "    INNER JOIN Production.Products p ON c.CategoryID = p.CategoryID\r\n",
                "    INNER JOIN Sales.OrderDetails od ON p.ProductID = od.ProductID\r\n",
                "    INNER JOIN Sales.Orders o ON od.OrderID = o.OrderID\r\n",
                "GROUP BY \r\n",
                "    ROLLUP (YEAR(o.OrderDate), c.CategoryName);\r\n",
                ""
            ],
            "metadata": {
                "azdata_cell_guid": "0ecd46f2-9dff-4b0f-bca3-8894037cbf86",
                "language": "sql"
            },
            "outputs": [
                {
                    "output_type": "display_data",
                    "data": {
                        "text/html": "(28 rows affected)"
                    },
                    "metadata": {}
                },
                {
                    "output_type": "display_data",
                    "data": {
                        "text/html": "Total execution time: 00:00:00.020"
                    },
                    "metadata": {}
                },
                {
                    "output_type": "execute_result",
                    "metadata": {},
                    "execution_count": 25,
                    "data": {
                        "application/vnd.dataresource+json": {
                            "schema": {
                                "fields": [
                                    {
                                        "name": "CategoryName"
                                    },
                                    {
                                        "name": "Año"
                                    },
                                    {
                                        "name": "TotalCantidad"
                                    }
                                ]
                            },
                            "data": [
                                {
                                    "0": "Beverages",
                                    "1": "2006",
                                    "2": "1842"
                                },
                                {
                                    "0": "Condiments",
                                    "1": "2006",
                                    "2": "962"
                                },
                                {
                                    "0": "Confections",
                                    "1": "2006",
                                    "2": "1357"
                                },
                                {
                                    "0": "Dairy Products",
                                    "1": "2006",
                                    "2": "2086"
                                },
                                {
                                    "0": "Grains/Cereals",
                                    "1": "2006",
                                    "2": "549"
                                },
                                {
                                    "0": "Meat/Poultry",
                                    "1": "2006",
                                    "2": "950"
                                },
                                {
                                    "0": "Produce",
                                    "1": "2006",
                                    "2": "549"
                                },
                                {
                                    "0": "Seafood",
                                    "1": "2006",
                                    "2": "1286"
                                },
                                {
                                    "0": "NULL",
                                    "1": "2006",
                                    "2": "9581"
                                },
                                {
                                    "0": "Beverages",
                                    "1": "2007",
                                    "2": "3996"
                                },
                                {
                                    "0": "Condiments",
                                    "1": "2007",
                                    "2": "2895"
                                },
                                {
                                    "0": "Confections",
                                    "1": "2007",
                                    "2": "4137"
                                },
                                {
                                    "0": "Dairy Products",
                                    "1": "2007",
                                    "2": "4374"
                                },
                                {
                                    "0": "Grains/Cereals",
                                    "1": "2007",
                                    "2": "2636"
                                },
                                {
                                    "0": "Meat/Poultry",
                                    "1": "2007",
                                    "2": "2189"
                                },
                                {
                                    "0": "Produce",
                                    "1": "2007",
                                    "2": "1583"
                                },
                                {
                                    "0": "Seafood",
                                    "1": "2007",
                                    "2": "3679"
                                },
                                {
                                    "0": "NULL",
                                    "1": "2007",
                                    "2": "25489"
                                },
                                {
                                    "0": "Beverages",
                                    "1": "2008",
                                    "2": "3694"
                                },
                                {
                                    "0": "Condiments",
                                    "1": "2008",
                                    "2": "1441"
                                },
                                {
                                    "0": "Confections",
                                    "1": "2008",
                                    "2": "2412"
                                },
                                {
                                    "0": "Dairy Products",
                                    "1": "2008",
                                    "2": "2689"
                                },
                                {
                                    "0": "Grains/Cereals",
                                    "1": "2008",
                                    "2": "1377"
                                },
                                {
                                    "0": "Meat/Poultry",
                                    "1": "2008",
                                    "2": "1060"
                                },
                                {
                                    "0": "Produce",
                                    "1": "2008",
                                    "2": "858"
                                },
                                {
                                    "0": "Seafood",
                                    "1": "2008",
                                    "2": "2716"
                                },
                                {
                                    "0": "NULL",
                                    "1": "2008",
                                    "2": "16247"
                                },
                                {
                                    "0": "NULL",
                                    "1": "NULL",
                                    "2": "51317"
                                }
                            ]
                        },
                        "text/html": [
                            "<table>",
                            "<tr><th>CategoryName</th><th>Año</th><th>TotalCantidad</th></tr>",
                            "<tr><td>Beverages</td><td>2006</td><td>1842</td></tr>",
                            "<tr><td>Condiments</td><td>2006</td><td>962</td></tr>",
                            "<tr><td>Confections</td><td>2006</td><td>1357</td></tr>",
                            "<tr><td>Dairy Products</td><td>2006</td><td>2086</td></tr>",
                            "<tr><td>Grains/Cereals</td><td>2006</td><td>549</td></tr>",
                            "<tr><td>Meat/Poultry</td><td>2006</td><td>950</td></tr>",
                            "<tr><td>Produce</td><td>2006</td><td>549</td></tr>",
                            "<tr><td>Seafood</td><td>2006</td><td>1286</td></tr>",
                            "<tr><td>NULL</td><td>2006</td><td>9581</td></tr>",
                            "<tr><td>Beverages</td><td>2007</td><td>3996</td></tr>",
                            "<tr><td>Condiments</td><td>2007</td><td>2895</td></tr>",
                            "<tr><td>Confections</td><td>2007</td><td>4137</td></tr>",
                            "<tr><td>Dairy Products</td><td>2007</td><td>4374</td></tr>",
                            "<tr><td>Grains/Cereals</td><td>2007</td><td>2636</td></tr>",
                            "<tr><td>Meat/Poultry</td><td>2007</td><td>2189</td></tr>",
                            "<tr><td>Produce</td><td>2007</td><td>1583</td></tr>",
                            "<tr><td>Seafood</td><td>2007</td><td>3679</td></tr>",
                            "<tr><td>NULL</td><td>2007</td><td>25489</td></tr>",
                            "<tr><td>Beverages</td><td>2008</td><td>3694</td></tr>",
                            "<tr><td>Condiments</td><td>2008</td><td>1441</td></tr>",
                            "<tr><td>Confections</td><td>2008</td><td>2412</td></tr>",
                            "<tr><td>Dairy Products</td><td>2008</td><td>2689</td></tr>",
                            "<tr><td>Grains/Cereals</td><td>2008</td><td>1377</td></tr>",
                            "<tr><td>Meat/Poultry</td><td>2008</td><td>1060</td></tr>",
                            "<tr><td>Produce</td><td>2008</td><td>858</td></tr>",
                            "<tr><td>Seafood</td><td>2008</td><td>2716</td></tr>",
                            "<tr><td>NULL</td><td>2008</td><td>16247</td></tr>",
                            "<tr><td>NULL</td><td>NULL</td><td>51317</td></tr>",
                            "</table>"
                        ]
                    }
                }
            ],
            "execution_count": 25
        },
        {
            "cell_type": "markdown",
            "source": [
                "2.6. Utilizar Grouping_ID."
            ],
            "metadata": {
                "azdata_cell_guid": "95beaec3-498d-4110-a858-dc128ba98721"
            }
        },
        {
            "cell_type": "code",
            "source": [
                "SELECT \r\n",
                "    c.CategoryName,\r\n",
                "    YEAR(o.OrderDate) AS Año,\r\n",
                "    SUM(od.qty) AS TotalCantidad,\r\n",
                "    GROUPING_ID(YEAR(o.OrderDate), c.CategoryName) AS NivelAgrupacion\r\n",
                "FROM \r\n",
                "    Production.Categories c\r\n",
                "    INNER JOIN Production.Products p ON c.CategoryID = p.CategoryID\r\n",
                "    INNER JOIN Sales.OrderDetails od ON p.ProductID = od.ProductID\r\n",
                "    INNER JOIN Sales.Orders o ON od.OrderID = o.OrderID\r\n",
                "GROUP BY \r\n",
                "    ROLLUP (YEAR(o.OrderDate), c.CategoryName);\r\n",
                ""
            ],
            "metadata": {
                "azdata_cell_guid": "070a7d05-65b4-4462-abc0-e6c9fe42f696",
                "language": "sql"
            },
            "outputs": [
                {
                    "output_type": "display_data",
                    "data": {
                        "text/html": "(28 rows affected)"
                    },
                    "metadata": {}
                },
                {
                    "output_type": "display_data",
                    "data": {
                        "text/html": "Total execution time: 00:00:00.016"
                    },
                    "metadata": {}
                },
                {
                    "output_type": "execute_result",
                    "metadata": {},
                    "execution_count": 26,
                    "data": {
                        "application/vnd.dataresource+json": {
                            "schema": {
                                "fields": [
                                    {
                                        "name": "CategoryName"
                                    },
                                    {
                                        "name": "Año"
                                    },
                                    {
                                        "name": "TotalCantidad"
                                    },
                                    {
                                        "name": "NivelAgrupacion"
                                    }
                                ]
                            },
                            "data": [
                                {
                                    "0": "Beverages",
                                    "1": "2006",
                                    "2": "1842",
                                    "3": "0"
                                },
                                {
                                    "0": "Condiments",
                                    "1": "2006",
                                    "2": "962",
                                    "3": "0"
                                },
                                {
                                    "0": "Confections",
                                    "1": "2006",
                                    "2": "1357",
                                    "3": "0"
                                },
                                {
                                    "0": "Dairy Products",
                                    "1": "2006",
                                    "2": "2086",
                                    "3": "0"
                                },
                                {
                                    "0": "Grains/Cereals",
                                    "1": "2006",
                                    "2": "549",
                                    "3": "0"
                                },
                                {
                                    "0": "Meat/Poultry",
                                    "1": "2006",
                                    "2": "950",
                                    "3": "0"
                                },
                                {
                                    "0": "Produce",
                                    "1": "2006",
                                    "2": "549",
                                    "3": "0"
                                },
                                {
                                    "0": "Seafood",
                                    "1": "2006",
                                    "2": "1286",
                                    "3": "0"
                                },
                                {
                                    "0": "NULL",
                                    "1": "2006",
                                    "2": "9581",
                                    "3": "1"
                                },
                                {
                                    "0": "Beverages",
                                    "1": "2007",
                                    "2": "3996",
                                    "3": "0"
                                },
                                {
                                    "0": "Condiments",
                                    "1": "2007",
                                    "2": "2895",
                                    "3": "0"
                                },
                                {
                                    "0": "Confections",
                                    "1": "2007",
                                    "2": "4137",
                                    "3": "0"
                                },
                                {
                                    "0": "Dairy Products",
                                    "1": "2007",
                                    "2": "4374",
                                    "3": "0"
                                },
                                {
                                    "0": "Grains/Cereals",
                                    "1": "2007",
                                    "2": "2636",
                                    "3": "0"
                                },
                                {
                                    "0": "Meat/Poultry",
                                    "1": "2007",
                                    "2": "2189",
                                    "3": "0"
                                },
                                {
                                    "0": "Produce",
                                    "1": "2007",
                                    "2": "1583",
                                    "3": "0"
                                },
                                {
                                    "0": "Seafood",
                                    "1": "2007",
                                    "2": "3679",
                                    "3": "0"
                                },
                                {
                                    "0": "NULL",
                                    "1": "2007",
                                    "2": "25489",
                                    "3": "1"
                                },
                                {
                                    "0": "Beverages",
                                    "1": "2008",
                                    "2": "3694",
                                    "3": "0"
                                },
                                {
                                    "0": "Condiments",
                                    "1": "2008",
                                    "2": "1441",
                                    "3": "0"
                                },
                                {
                                    "0": "Confections",
                                    "1": "2008",
                                    "2": "2412",
                                    "3": "0"
                                },
                                {
                                    "0": "Dairy Products",
                                    "1": "2008",
                                    "2": "2689",
                                    "3": "0"
                                },
                                {
                                    "0": "Grains/Cereals",
                                    "1": "2008",
                                    "2": "1377",
                                    "3": "0"
                                },
                                {
                                    "0": "Meat/Poultry",
                                    "1": "2008",
                                    "2": "1060",
                                    "3": "0"
                                },
                                {
                                    "0": "Produce",
                                    "1": "2008",
                                    "2": "858",
                                    "3": "0"
                                },
                                {
                                    "0": "Seafood",
                                    "1": "2008",
                                    "2": "2716",
                                    "3": "0"
                                },
                                {
                                    "0": "NULL",
                                    "1": "2008",
                                    "2": "16247",
                                    "3": "1"
                                },
                                {
                                    "0": "NULL",
                                    "1": "NULL",
                                    "2": "51317",
                                    "3": "3"
                                }
                            ]
                        },
                        "text/html": [
                            "<table>",
                            "<tr><th>CategoryName</th><th>Año</th><th>TotalCantidad</th><th>NivelAgrupacion</th></tr>",
                            "<tr><td>Beverages</td><td>2006</td><td>1842</td><td>0</td></tr>",
                            "<tr><td>Condiments</td><td>2006</td><td>962</td><td>0</td></tr>",
                            "<tr><td>Confections</td><td>2006</td><td>1357</td><td>0</td></tr>",
                            "<tr><td>Dairy Products</td><td>2006</td><td>2086</td><td>0</td></tr>",
                            "<tr><td>Grains/Cereals</td><td>2006</td><td>549</td><td>0</td></tr>",
                            "<tr><td>Meat/Poultry</td><td>2006</td><td>950</td><td>0</td></tr>",
                            "<tr><td>Produce</td><td>2006</td><td>549</td><td>0</td></tr>",
                            "<tr><td>Seafood</td><td>2006</td><td>1286</td><td>0</td></tr>",
                            "<tr><td>NULL</td><td>2006</td><td>9581</td><td>1</td></tr>",
                            "<tr><td>Beverages</td><td>2007</td><td>3996</td><td>0</td></tr>",
                            "<tr><td>Condiments</td><td>2007</td><td>2895</td><td>0</td></tr>",
                            "<tr><td>Confections</td><td>2007</td><td>4137</td><td>0</td></tr>",
                            "<tr><td>Dairy Products</td><td>2007</td><td>4374</td><td>0</td></tr>",
                            "<tr><td>Grains/Cereals</td><td>2007</td><td>2636</td><td>0</td></tr>",
                            "<tr><td>Meat/Poultry</td><td>2007</td><td>2189</td><td>0</td></tr>",
                            "<tr><td>Produce</td><td>2007</td><td>1583</td><td>0</td></tr>",
                            "<tr><td>Seafood</td><td>2007</td><td>3679</td><td>0</td></tr>",
                            "<tr><td>NULL</td><td>2007</td><td>25489</td><td>1</td></tr>",
                            "<tr><td>Beverages</td><td>2008</td><td>3694</td><td>0</td></tr>",
                            "<tr><td>Condiments</td><td>2008</td><td>1441</td><td>0</td></tr>",
                            "<tr><td>Confections</td><td>2008</td><td>2412</td><td>0</td></tr>",
                            "<tr><td>Dairy Products</td><td>2008</td><td>2689</td><td>0</td></tr>",
                            "<tr><td>Grains/Cereals</td><td>2008</td><td>1377</td><td>0</td></tr>",
                            "<tr><td>Meat/Poultry</td><td>2008</td><td>1060</td><td>0</td></tr>",
                            "<tr><td>Produce</td><td>2008</td><td>858</td><td>0</td></tr>",
                            "<tr><td>Seafood</td><td>2008</td><td>2716</td><td>0</td></tr>",
                            "<tr><td>NULL</td><td>2008</td><td>16247</td><td>1</td></tr>",
                            "<tr><td>NULL</td><td>NULL</td><td>51317</td><td>3</td></tr>",
                            "</table>"
                        ]
                    }
                }
            ],
            "execution_count": 26
        },
        {
            "cell_type": "markdown",
            "source": [
                "2.7. Finalmente limpiar los cambios"
            ],
            "metadata": {
                "azdata_cell_guid": "87838adf-1c7d-4018-a25a-fcc421d7c696"
            }
        },
        {
            "cell_type": "code",
            "source": [
                "-- Eliminar la tabla creada para el pivot\r\n",
                "IF OBJECT_ID('dbo.ResultadoPivot', 'U') IS NOT NULL\r\n",
                "    DROP TABLE dbo.ResultadoPivot;\r\n",
                "\r\n",
                "-- Eliminar la vista creada para las categorías por año\r\n",
                "IF OBJECT_ID('Production.VistaCategoriasPorAño', 'V') IS NOT NULL\r\n",
                "    DROP VIEW Production.VistaCategoriasPorAño;\r\n",
                ""
            ],
            "metadata": {
                "azdata_cell_guid": "159ecd9b-0646-4c26-86b2-11493faab768",
                "language": "sql"
            },
            "outputs": [
                {
                    "output_type": "display_data",
                    "data": {
                        "text/html": "Commands completed successfully."
                    },
                    "metadata": {}
                },
                {
                    "output_type": "display_data",
                    "data": {
                        "text/html": "Total execution time: 00:00:00.003"
                    },
                    "metadata": {}
                }
            ],
            "execution_count": 27
        },
        {
            "cell_type": "markdown",
            "source": [
                "<h2>Ejercicio 03: Escribir consultas que usan las clausulas GROUPING SETS, CUBE y ROLLUP"
            ],
            "metadata": {
                "azdata_cell_guid": "3c5fcf6d-cc71-466d-9bdc-f0cd030dc652"
            }
        },
        {
            "cell_type": "markdown",
            "source": [
                "3.1. Escribir una sentencia SELECT contra la tabla Sales.Customers y traer las columnas country, city\n",
                "y una columna calculada noofcustomers como una cantidad de clientes. Traer multiples grouping\n",
                "sets basados en las columnas country y city, la columna country, la columna city, y una columna con un grouping set vacio."
            ],
            "metadata": {
                "azdata_cell_guid": "0d43c9b9-784c-41a4-b181-677c5241510d"
            }
        },
        {
            "cell_type": "code",
            "source": [
                "SELECT \r\n",
                "    country, \r\n",
                "    city, \r\n",
                "    COUNT(*) AS noofcustomers\r\n",
                "FROM \r\n",
                "    Sales.Customers\r\n",
                "GROUP BY \r\n",
                "    GROUPING SETS (\r\n",
                "        (country, city),   -- Total de clientes por país y ciudad\r\n",
                "        (country),         -- Total de clientes por país\r\n",
                "        (city),            -- Total de clientes por ciudad\r\n",
                "        ()                 -- Gran total (todos los clientes)\r\n",
                "    );\r\n",
                ""
            ],
            "metadata": {
                "azdata_cell_guid": "ae6a8d7e-e062-4ec1-a98f-9034f7efb789",
                "language": "sql"
            },
            "outputs": [
                {
                    "output_type": "display_data",
                    "data": {
                        "text/html": "(160 rows affected)"
                    },
                    "metadata": {}
                },
                {
                    "output_type": "display_data",
                    "data": {
                        "text/html": "Total execution time: 00:00:00.017"
                    },
                    "metadata": {}
                },
                {
                    "output_type": "execute_result",
                    "metadata": {},
                    "execution_count": 28,
                    "data": {
                        "application/vnd.dataresource+json": {
                            "schema": {
                                "fields": [
                                    {
                                        "name": "country"
                                    },
                                    {
                                        "name": "city"
                                    },
                                    {
                                        "name": "noofcustomers"
                                    }
                                ]
                            },
                            "data": [
                                {
                                    "0": "Germany",
                                    "1": "Aachen",
                                    "2": "1"
                                },
                                {
                                    "0": "NULL",
                                    "1": "Aachen",
                                    "2": "1"
                                },
                                {
                                    "0": "USA",
                                    "1": "Albuquerque",
                                    "2": "1"
                                },
                                {
                                    "0": "NULL",
                                    "1": "Albuquerque",
                                    "2": "1"
                                },
                                {
                                    "0": "USA",
                                    "1": "Anchorage",
                                    "2": "1"
                                },
                                {
                                    "0": "NULL",
                                    "1": "Anchorage",
                                    "2": "1"
                                },
                                {
                                    "0": "Denmark",
                                    "1": "Århus",
                                    "2": "1"
                                },
                                {
                                    "0": "NULL",
                                    "1": "Århus",
                                    "2": "1"
                                },
                                {
                                    "0": "Spain",
                                    "1": "Barcelona",
                                    "2": "1"
                                },
                                {
                                    "0": "NULL",
                                    "1": "Barcelona",
                                    "2": "1"
                                },
                                {
                                    "0": "Venezuela",
                                    "1": "Barquisimeto",
                                    "2": "1"
                                },
                                {
                                    "0": "NULL",
                                    "1": "Barquisimeto",
                                    "2": "1"
                                },
                                {
                                    "0": "Italy",
                                    "1": "Bergamo",
                                    "2": "1"
                                },
                                {
                                    "0": "NULL",
                                    "1": "Bergamo",
                                    "2": "1"
                                },
                                {
                                    "0": "Germany",
                                    "1": "Berlin",
                                    "2": "1"
                                },
                                {
                                    "0": "NULL",
                                    "1": "Berlin",
                                    "2": "1"
                                },
                                {
                                    "0": "Switzerland",
                                    "1": "Bern",
                                    "2": "1"
                                },
                                {
                                    "0": "NULL",
                                    "1": "Bern",
                                    "2": "1"
                                },
                                {
                                    "0": "USA",
                                    "1": "Boise",
                                    "2": "1"
                                },
                                {
                                    "0": "NULL",
                                    "1": "Boise",
                                    "2": "1"
                                },
                                {
                                    "0": "Sweden",
                                    "1": "Bräcke",
                                    "2": "1"
                                },
                                {
                                    "0": "NULL",
                                    "1": "Bräcke",
                                    "2": "1"
                                },
                                {
                                    "0": "Germany",
                                    "1": "Brandenburg",
                                    "2": "1"
                                },
                                {
                                    "0": "NULL",
                                    "1": "Brandenburg",
                                    "2": "1"
                                },
                                {
                                    "0": "Belgium",
                                    "1": "Bruxelles",
                                    "2": "1"
                                },
                                {
                                    "0": "NULL",
                                    "1": "Bruxelles",
                                    "2": "1"
                                },
                                {
                                    "0": "Argentina",
                                    "1": "Buenos Aires",
                                    "2": "3"
                                },
                                {
                                    "0": "NULL",
                                    "1": "Buenos Aires",
                                    "2": "3"
                                },
                                {
                                    "0": "USA",
                                    "1": "Butte",
                                    "2": "1"
                                },
                                {
                                    "0": "NULL",
                                    "1": "Butte",
                                    "2": "1"
                                },
                                {
                                    "0": "Brazil",
                                    "1": "Campinas",
                                    "2": "1"
                                },
                                {
                                    "0": "NULL",
                                    "1": "Campinas",
                                    "2": "1"
                                },
                                {
                                    "0": "Venezuela",
                                    "1": "Caracas",
                                    "2": "1"
                                },
                                {
                                    "0": "NULL",
                                    "1": "Caracas",
                                    "2": "1"
                                },
                                {
                                    "0": "Belgium",
                                    "1": "Charleroi",
                                    "2": "1"
                                },
                                {
                                    "0": "NULL",
                                    "1": "Charleroi",
                                    "2": "1"
                                },
                                {
                                    "0": "Ireland",
                                    "1": "Cork",
                                    "2": "1"
                                },
                                {
                                    "0": "NULL",
                                    "1": "Cork",
                                    "2": "1"
                                },
                                {
                                    "0": "UK",
                                    "1": "Cowes",
                                    "2": "1"
                                },
                                {
                                    "0": "NULL",
                                    "1": "Cowes",
                                    "2": "1"
                                },
                                {
                                    "0": "Germany",
                                    "1": "Cunewalde",
                                    "2": "1"
                                },
                                {
                                    "0": "NULL",
                                    "1": "Cunewalde",
                                    "2": "1"
                                },
                                {
                                    "0": "USA",
                                    "1": "Elgin",
                                    "2": "1"
                                },
                                {
                                    "0": "NULL",
                                    "1": "Elgin",
                                    "2": "1"
                                },
                                {
                                    "0": "USA",
                                    "1": "Eugene",
                                    "2": "1"
                                },
                                {
                                    "0": "NULL",
                                    "1": "Eugene",
                                    "2": "1"
                                },
                                {
                                    "0": "Germany",
                                    "1": "Frankfurt a.M.",
                                    "2": "1"
                                },
                                {
                                    "0": "NULL",
                                    "1": "Frankfurt a.M.",
                                    "2": "1"
                                },
                                {
                                    "0": "Switzerland",
                                    "1": "Genève",
                                    "2": "1"
                                },
                                {
                                    "0": "NULL",
                                    "1": "Genève",
                                    "2": "1"
                                },
                                {
                                    "0": "Austria",
                                    "1": "Graz",
                                    "2": "1"
                                },
                                {
                                    "0": "NULL",
                                    "1": "Graz",
                                    "2": "1"
                                },
                                {
                                    "0": "Finland",
                                    "1": "Helsinki",
                                    "2": "1"
                                },
                                {
                                    "0": "NULL",
                                    "1": "Helsinki",
                                    "2": "1"
                                },
                                {
                                    "0": "Venezuela",
                                    "1": "I. de Margarita",
                                    "2": "1"
                                },
                                {
                                    "0": "NULL",
                                    "1": "I. de Margarita",
                                    "2": "1"
                                },
                                {
                                    "0": "USA",
                                    "1": "Kirkland",
                                    "2": "1"
                                },
                                {
                                    "0": "NULL",
                                    "1": "Kirkland",
                                    "2": "1"
                                },
                                {
                                    "0": "Denmark",
                                    "1": "Kobenhavn",
                                    "2": "1"
                                },
                                {
                                    "0": "NULL",
                                    "1": "Kobenhavn",
                                    "2": "1"
                                },
                                {
                                    "0": "Germany",
                                    "1": "Köln",
                                    "2": "1"
                                },
                                {
                                    "0": "NULL",
                                    "1": "Köln",
                                    "2": "1"
                                },
                                {
                                    "0": "USA",
                                    "1": "Lander",
                                    "2": "1"
                                },
                                {
                                    "0": "NULL",
                                    "1": "Lander",
                                    "2": "1"
                                },
                                {
                                    "0": "Germany",
                                    "1": "Leipzig",
                                    "2": "1"
                                },
                                {
                                    "0": "NULL",
                                    "1": "Leipzig",
                                    "2": "1"
                                },
                                {
                                    "0": "France",
                                    "1": "Lille",
                                    "2": "1"
                                },
                                {
                                    "0": "NULL",
                                    "1": "Lille",
                                    "2": "1"
                                },
                                {
                                    "0": "Portugal",
                                    "1": "Lisboa",
                                    "2": "2"
                                },
                                {
                                    "0": "NULL",
                                    "1": "Lisboa",
                                    "2": "2"
                                },
                                {
                                    "0": "UK",
                                    "1": "London",
                                    "2": "6"
                                },
                                {
                                    "0": "NULL",
                                    "1": "London",
                                    "2": "6"
                                },
                                {
                                    "0": "Sweden",
                                    "1": "Luleå",
                                    "2": "1"
                                },
                                {
                                    "0": "NULL",
                                    "1": "Luleå",
                                    "2": "1"
                                },
                                {
                                    "0": "France",
                                    "1": "Lyon",
                                    "2": "1"
                                },
                                {
                                    "0": "NULL",
                                    "1": "Lyon",
                                    "2": "1"
                                },
                                {
                                    "0": "Spain",
                                    "1": "Madrid",
                                    "2": "3"
                                },
                                {
                                    "0": "NULL",
                                    "1": "Madrid",
                                    "2": "3"
                                },
                                {
                                    "0": "Germany",
                                    "1": "Mannheim",
                                    "2": "1"
                                },
                                {
                                    "0": "NULL",
                                    "1": "Mannheim",
                                    "2": "1"
                                },
                                {
                                    "0": "France",
                                    "1": "Marseille",
                                    "2": "1"
                                },
                                {
                                    "0": "NULL",
                                    "1": "Marseille",
                                    "2": "1"
                                },
                                {
                                    "0": "Mexico",
                                    "1": "México D.F.",
                                    "2": "5"
                                },
                                {
                                    "0": "NULL",
                                    "1": "México D.F.",
                                    "2": "5"
                                },
                                {
                                    "0": "Canada",
                                    "1": "Montréal",
                                    "2": "1"
                                },
                                {
                                    "0": "NULL",
                                    "1": "Montréal",
                                    "2": "1"
                                },
                                {
                                    "0": "Germany",
                                    "1": "München",
                                    "2": "1"
                                },
                                {
                                    "0": "NULL",
                                    "1": "München",
                                    "2": "1"
                                },
                                {
                                    "0": "Germany",
                                    "1": "Münster",
                                    "2": "1"
                                },
                                {
                                    "0": "NULL",
                                    "1": "Münster",
                                    "2": "1"
                                },
                                {
                                    "0": "France",
                                    "1": "Nantes",
                                    "2": "2"
                                },
                                {
                                    "0": "NULL",
                                    "1": "Nantes",
                                    "2": "2"
                                },
                                {
                                    "0": "Finland",
                                    "1": "Oulu",
                                    "2": "1"
                                },
                                {
                                    "0": "NULL",
                                    "1": "Oulu",
                                    "2": "1"
                                },
                                {
                                    "0": "France",
                                    "1": "Paris",
                                    "2": "2"
                                },
                                {
                                    "0": "NULL",
                                    "1": "Paris",
                                    "2": "2"
                                },
                                {
                                    "0": "USA",
                                    "1": "Portland",
                                    "2": "2"
                                },
                                {
                                    "0": "NULL",
                                    "1": "Portland",
                                    "2": "2"
                                },
                                {
                                    "0": "Italy",
                                    "1": "Reggio Emilia",
                                    "2": "1"
                                },
                                {
                                    "0": "NULL",
                                    "1": "Reggio Emilia",
                                    "2": "1"
                                },
                                {
                                    "0": "France",
                                    "1": "Reims",
                                    "2": "1"
                                },
                                {
                                    "0": "NULL",
                                    "1": "Reims",
                                    "2": "1"
                                },
                                {
                                    "0": "Brazil",
                                    "1": "Resende",
                                    "2": "1"
                                },
                                {
                                    "0": "NULL",
                                    "1": "Resende",
                                    "2": "1"
                                },
                                {
                                    "0": "Brazil",
                                    "1": "Rio de Janeiro",
                                    "2": "3"
                                },
                                {
                                    "0": "NULL",
                                    "1": "Rio de Janeiro",
                                    "2": "3"
                                },
                                {
                                    "0": "Austria",
                                    "1": "Salzburg",
                                    "2": "1"
                                },
                                {
                                    "0": "NULL",
                                    "1": "Salzburg",
                                    "2": "1"
                                },
                                {
                                    "0": "Venezuela",
                                    "1": "San Cristóbal",
                                    "2": "1"
                                },
                                {
                                    "0": "NULL",
                                    "1": "San Cristóbal",
                                    "2": "1"
                                },
                                {
                                    "0": "USA",
                                    "1": "San Francisco",
                                    "2": "1"
                                },
                                {
                                    "0": "NULL",
                                    "1": "San Francisco",
                                    "2": "1"
                                },
                                {
                                    "0": "Brazil",
                                    "1": "Sao Paulo",
                                    "2": "4"
                                },
                                {
                                    "0": "NULL",
                                    "1": "Sao Paulo",
                                    "2": "4"
                                },
                                {
                                    "0": "USA",
                                    "1": "Seattle",
                                    "2": "1"
                                },
                                {
                                    "0": "NULL",
                                    "1": "Seattle",
                                    "2": "1"
                                },
                                {
                                    "0": "Spain",
                                    "1": "Sevilla",
                                    "2": "1"
                                },
                                {
                                    "0": "NULL",
                                    "1": "Sevilla",
                                    "2": "1"
                                },
                                {
                                    "0": "Norway",
                                    "1": "Stavern",
                                    "2": "1"
                                },
                                {
                                    "0": "NULL",
                                    "1": "Stavern",
                                    "2": "1"
                                },
                                {
                                    "0": "France",
                                    "1": "Strasbourg",
                                    "2": "1"
                                },
                                {
                                    "0": "NULL",
                                    "1": "Strasbourg",
                                    "2": "1"
                                },
                                {
                                    "0": "Germany",
                                    "1": "Stuttgart",
                                    "2": "1"
                                },
                                {
                                    "0": "NULL",
                                    "1": "Stuttgart",
                                    "2": "1"
                                },
                                {
                                    "0": "Italy",
                                    "1": "Torino",
                                    "2": "1"
                                },
                                {
                                    "0": "NULL",
                                    "1": "Torino",
                                    "2": "1"
                                },
                                {
                                    "0": "France",
                                    "1": "Toulouse",
                                    "2": "1"
                                },
                                {
                                    "0": "NULL",
                                    "1": "Toulouse",
                                    "2": "1"
                                },
                                {
                                    "0": "Canada",
                                    "1": "Tsawassen",
                                    "2": "1"
                                },
                                {
                                    "0": "NULL",
                                    "1": "Tsawassen",
                                    "2": "1"
                                },
                                {
                                    "0": "Canada",
                                    "1": "Vancouver",
                                    "2": "1"
                                },
                                {
                                    "0": "NULL",
                                    "1": "Vancouver",
                                    "2": "1"
                                },
                                {
                                    "0": "France",
                                    "1": "Versailles",
                                    "2": "1"
                                },
                                {
                                    "0": "NULL",
                                    "1": "Versailles",
                                    "2": "1"
                                },
                                {
                                    "0": "USA",
                                    "1": "Walla Walla",
                                    "2": "1"
                                },
                                {
                                    "0": "NULL",
                                    "1": "Walla Walla",
                                    "2": "1"
                                },
                                {
                                    "0": "Poland",
                                    "1": "Warszawa",
                                    "2": "1"
                                },
                                {
                                    "0": "NULL",
                                    "1": "Warszawa",
                                    "2": "1"
                                },
                                {
                                    "0": "NULL",
                                    "1": "NULL",
                                    "2": "91"
                                },
                                {
                                    "0": "Argentina",
                                    "1": "NULL",
                                    "2": "3"
                                },
                                {
                                    "0": "Austria",
                                    "1": "NULL",
                                    "2": "2"
                                },
                                {
                                    "0": "Belgium",
                                    "1": "NULL",
                                    "2": "2"
                                },
                                {
                                    "0": "Brazil",
                                    "1": "NULL",
                                    "2": "9"
                                },
                                {
                                    "0": "Canada",
                                    "1": "NULL",
                                    "2": "3"
                                },
                                {
                                    "0": "Denmark",
                                    "1": "NULL",
                                    "2": "2"
                                },
                                {
                                    "0": "Finland",
                                    "1": "NULL",
                                    "2": "2"
                                },
                                {
                                    "0": "France",
                                    "1": "NULL",
                                    "2": "11"
                                },
                                {
                                    "0": "Germany",
                                    "1": "NULL",
                                    "2": "11"
                                },
                                {
                                    "0": "Ireland",
                                    "1": "NULL",
                                    "2": "1"
                                },
                                {
                                    "0": "Italy",
                                    "1": "NULL",
                                    "2": "3"
                                },
                                {
                                    "0": "Mexico",
                                    "1": "NULL",
                                    "2": "5"
                                },
                                {
                                    "0": "Norway",
                                    "1": "NULL",
                                    "2": "1"
                                },
                                {
                                    "0": "Poland",
                                    "1": "NULL",
                                    "2": "1"
                                },
                                {
                                    "0": "Portugal",
                                    "1": "NULL",
                                    "2": "2"
                                },
                                {
                                    "0": "Spain",
                                    "1": "NULL",
                                    "2": "5"
                                },
                                {
                                    "0": "Sweden",
                                    "1": "NULL",
                                    "2": "2"
                                },
                                {
                                    "0": "Switzerland",
                                    "1": "NULL",
                                    "2": "2"
                                },
                                {
                                    "0": "UK",
                                    "1": "NULL",
                                    "2": "7"
                                },
                                {
                                    "0": "USA",
                                    "1": "NULL",
                                    "2": "13"
                                },
                                {
                                    "0": "Venezuela",
                                    "1": "NULL",
                                    "2": "4"
                                }
                            ]
                        },
                        "text/html": [
                            "<table>",
                            "<tr><th>country</th><th>city</th><th>noofcustomers</th></tr>",
                            "<tr><td>Germany</td><td>Aachen</td><td>1</td></tr>",
                            "<tr><td>NULL</td><td>Aachen</td><td>1</td></tr>",
                            "<tr><td>USA</td><td>Albuquerque</td><td>1</td></tr>",
                            "<tr><td>NULL</td><td>Albuquerque</td><td>1</td></tr>",
                            "<tr><td>USA</td><td>Anchorage</td><td>1</td></tr>",
                            "<tr><td>NULL</td><td>Anchorage</td><td>1</td></tr>",
                            "<tr><td>Denmark</td><td>Århus</td><td>1</td></tr>",
                            "<tr><td>NULL</td><td>Århus</td><td>1</td></tr>",
                            "<tr><td>Spain</td><td>Barcelona</td><td>1</td></tr>",
                            "<tr><td>NULL</td><td>Barcelona</td><td>1</td></tr>",
                            "<tr><td>Venezuela</td><td>Barquisimeto</td><td>1</td></tr>",
                            "<tr><td>NULL</td><td>Barquisimeto</td><td>1</td></tr>",
                            "<tr><td>Italy</td><td>Bergamo</td><td>1</td></tr>",
                            "<tr><td>NULL</td><td>Bergamo</td><td>1</td></tr>",
                            "<tr><td>Germany</td><td>Berlin</td><td>1</td></tr>",
                            "<tr><td>NULL</td><td>Berlin</td><td>1</td></tr>",
                            "<tr><td>Switzerland</td><td>Bern</td><td>1</td></tr>",
                            "<tr><td>NULL</td><td>Bern</td><td>1</td></tr>",
                            "<tr><td>USA</td><td>Boise</td><td>1</td></tr>",
                            "<tr><td>NULL</td><td>Boise</td><td>1</td></tr>",
                            "<tr><td>Sweden</td><td>Bräcke</td><td>1</td></tr>",
                            "<tr><td>NULL</td><td>Bräcke</td><td>1</td></tr>",
                            "<tr><td>Germany</td><td>Brandenburg</td><td>1</td></tr>",
                            "<tr><td>NULL</td><td>Brandenburg</td><td>1</td></tr>",
                            "<tr><td>Belgium</td><td>Bruxelles</td><td>1</td></tr>",
                            "<tr><td>NULL</td><td>Bruxelles</td><td>1</td></tr>",
                            "<tr><td>Argentina</td><td>Buenos Aires</td><td>3</td></tr>",
                            "<tr><td>NULL</td><td>Buenos Aires</td><td>3</td></tr>",
                            "<tr><td>USA</td><td>Butte</td><td>1</td></tr>",
                            "<tr><td>NULL</td><td>Butte</td><td>1</td></tr>",
                            "<tr><td>Brazil</td><td>Campinas</td><td>1</td></tr>",
                            "<tr><td>NULL</td><td>Campinas</td><td>1</td></tr>",
                            "<tr><td>Venezuela</td><td>Caracas</td><td>1</td></tr>",
                            "<tr><td>NULL</td><td>Caracas</td><td>1</td></tr>",
                            "<tr><td>Belgium</td><td>Charleroi</td><td>1</td></tr>",
                            "<tr><td>NULL</td><td>Charleroi</td><td>1</td></tr>",
                            "<tr><td>Ireland</td><td>Cork</td><td>1</td></tr>",
                            "<tr><td>NULL</td><td>Cork</td><td>1</td></tr>",
                            "<tr><td>UK</td><td>Cowes</td><td>1</td></tr>",
                            "<tr><td>NULL</td><td>Cowes</td><td>1</td></tr>",
                            "<tr><td>Germany</td><td>Cunewalde</td><td>1</td></tr>",
                            "<tr><td>NULL</td><td>Cunewalde</td><td>1</td></tr>",
                            "<tr><td>USA</td><td>Elgin</td><td>1</td></tr>",
                            "<tr><td>NULL</td><td>Elgin</td><td>1</td></tr>",
                            "<tr><td>USA</td><td>Eugene</td><td>1</td></tr>",
                            "<tr><td>NULL</td><td>Eugene</td><td>1</td></tr>",
                            "<tr><td>Germany</td><td>Frankfurt a.M.</td><td>1</td></tr>",
                            "<tr><td>NULL</td><td>Frankfurt a.M.</td><td>1</td></tr>",
                            "<tr><td>Switzerland</td><td>Genève</td><td>1</td></tr>",
                            "<tr><td>NULL</td><td>Genève</td><td>1</td></tr>",
                            "<tr><td>Austria</td><td>Graz</td><td>1</td></tr>",
                            "<tr><td>NULL</td><td>Graz</td><td>1</td></tr>",
                            "<tr><td>Finland</td><td>Helsinki</td><td>1</td></tr>",
                            "<tr><td>NULL</td><td>Helsinki</td><td>1</td></tr>",
                            "<tr><td>Venezuela</td><td>I. de Margarita</td><td>1</td></tr>",
                            "<tr><td>NULL</td><td>I. de Margarita</td><td>1</td></tr>",
                            "<tr><td>USA</td><td>Kirkland</td><td>1</td></tr>",
                            "<tr><td>NULL</td><td>Kirkland</td><td>1</td></tr>",
                            "<tr><td>Denmark</td><td>Kobenhavn</td><td>1</td></tr>",
                            "<tr><td>NULL</td><td>Kobenhavn</td><td>1</td></tr>",
                            "<tr><td>Germany</td><td>Köln</td><td>1</td></tr>",
                            "<tr><td>NULL</td><td>Köln</td><td>1</td></tr>",
                            "<tr><td>USA</td><td>Lander</td><td>1</td></tr>",
                            "<tr><td>NULL</td><td>Lander</td><td>1</td></tr>",
                            "<tr><td>Germany</td><td>Leipzig</td><td>1</td></tr>",
                            "<tr><td>NULL</td><td>Leipzig</td><td>1</td></tr>",
                            "<tr><td>France</td><td>Lille</td><td>1</td></tr>",
                            "<tr><td>NULL</td><td>Lille</td><td>1</td></tr>",
                            "<tr><td>Portugal</td><td>Lisboa</td><td>2</td></tr>",
                            "<tr><td>NULL</td><td>Lisboa</td><td>2</td></tr>",
                            "<tr><td>UK</td><td>London</td><td>6</td></tr>",
                            "<tr><td>NULL</td><td>London</td><td>6</td></tr>",
                            "<tr><td>Sweden</td><td>Luleå</td><td>1</td></tr>",
                            "<tr><td>NULL</td><td>Luleå</td><td>1</td></tr>",
                            "<tr><td>France</td><td>Lyon</td><td>1</td></tr>",
                            "<tr><td>NULL</td><td>Lyon</td><td>1</td></tr>",
                            "<tr><td>Spain</td><td>Madrid</td><td>3</td></tr>",
                            "<tr><td>NULL</td><td>Madrid</td><td>3</td></tr>",
                            "<tr><td>Germany</td><td>Mannheim</td><td>1</td></tr>",
                            "<tr><td>NULL</td><td>Mannheim</td><td>1</td></tr>",
                            "<tr><td>France</td><td>Marseille</td><td>1</td></tr>",
                            "<tr><td>NULL</td><td>Marseille</td><td>1</td></tr>",
                            "<tr><td>Mexico</td><td>México D.F.</td><td>5</td></tr>",
                            "<tr><td>NULL</td><td>México D.F.</td><td>5</td></tr>",
                            "<tr><td>Canada</td><td>Montréal</td><td>1</td></tr>",
                            "<tr><td>NULL</td><td>Montréal</td><td>1</td></tr>",
                            "<tr><td>Germany</td><td>München</td><td>1</td></tr>",
                            "<tr><td>NULL</td><td>München</td><td>1</td></tr>",
                            "<tr><td>Germany</td><td>Münster</td><td>1</td></tr>",
                            "<tr><td>NULL</td><td>Münster</td><td>1</td></tr>",
                            "<tr><td>France</td><td>Nantes</td><td>2</td></tr>",
                            "<tr><td>NULL</td><td>Nantes</td><td>2</td></tr>",
                            "<tr><td>Finland</td><td>Oulu</td><td>1</td></tr>",
                            "<tr><td>NULL</td><td>Oulu</td><td>1</td></tr>",
                            "<tr><td>France</td><td>Paris</td><td>2</td></tr>",
                            "<tr><td>NULL</td><td>Paris</td><td>2</td></tr>",
                            "<tr><td>USA</td><td>Portland</td><td>2</td></tr>",
                            "<tr><td>NULL</td><td>Portland</td><td>2</td></tr>",
                            "<tr><td>Italy</td><td>Reggio Emilia</td><td>1</td></tr>",
                            "<tr><td>NULL</td><td>Reggio Emilia</td><td>1</td></tr>",
                            "<tr><td>France</td><td>Reims</td><td>1</td></tr>",
                            "<tr><td>NULL</td><td>Reims</td><td>1</td></tr>",
                            "<tr><td>Brazil</td><td>Resende</td><td>1</td></tr>",
                            "<tr><td>NULL</td><td>Resende</td><td>1</td></tr>",
                            "<tr><td>Brazil</td><td>Rio de Janeiro</td><td>3</td></tr>",
                            "<tr><td>NULL</td><td>Rio de Janeiro</td><td>3</td></tr>",
                            "<tr><td>Austria</td><td>Salzburg</td><td>1</td></tr>",
                            "<tr><td>NULL</td><td>Salzburg</td><td>1</td></tr>",
                            "<tr><td>Venezuela</td><td>San Cristóbal</td><td>1</td></tr>",
                            "<tr><td>NULL</td><td>San Cristóbal</td><td>1</td></tr>",
                            "<tr><td>USA</td><td>San Francisco</td><td>1</td></tr>",
                            "<tr><td>NULL</td><td>San Francisco</td><td>1</td></tr>",
                            "<tr><td>Brazil</td><td>Sao Paulo</td><td>4</td></tr>",
                            "<tr><td>NULL</td><td>Sao Paulo</td><td>4</td></tr>",
                            "<tr><td>USA</td><td>Seattle</td><td>1</td></tr>",
                            "<tr><td>NULL</td><td>Seattle</td><td>1</td></tr>",
                            "<tr><td>Spain</td><td>Sevilla</td><td>1</td></tr>",
                            "<tr><td>NULL</td><td>Sevilla</td><td>1</td></tr>",
                            "<tr><td>Norway</td><td>Stavern</td><td>1</td></tr>",
                            "<tr><td>NULL</td><td>Stavern</td><td>1</td></tr>",
                            "<tr><td>France</td><td>Strasbourg</td><td>1</td></tr>",
                            "<tr><td>NULL</td><td>Strasbourg</td><td>1</td></tr>",
                            "<tr><td>Germany</td><td>Stuttgart</td><td>1</td></tr>",
                            "<tr><td>NULL</td><td>Stuttgart</td><td>1</td></tr>",
                            "<tr><td>Italy</td><td>Torino</td><td>1</td></tr>",
                            "<tr><td>NULL</td><td>Torino</td><td>1</td></tr>",
                            "<tr><td>France</td><td>Toulouse</td><td>1</td></tr>",
                            "<tr><td>NULL</td><td>Toulouse</td><td>1</td></tr>",
                            "<tr><td>Canada</td><td>Tsawassen</td><td>1</td></tr>",
                            "<tr><td>NULL</td><td>Tsawassen</td><td>1</td></tr>",
                            "<tr><td>Canada</td><td>Vancouver</td><td>1</td></tr>",
                            "<tr><td>NULL</td><td>Vancouver</td><td>1</td></tr>",
                            "<tr><td>France</td><td>Versailles</td><td>1</td></tr>",
                            "<tr><td>NULL</td><td>Versailles</td><td>1</td></tr>",
                            "<tr><td>USA</td><td>Walla Walla</td><td>1</td></tr>",
                            "<tr><td>NULL</td><td>Walla Walla</td><td>1</td></tr>",
                            "<tr><td>Poland</td><td>Warszawa</td><td>1</td></tr>",
                            "<tr><td>NULL</td><td>Warszawa</td><td>1</td></tr>",
                            "<tr><td>NULL</td><td>NULL</td><td>91</td></tr>",
                            "<tr><td>Argentina</td><td>NULL</td><td>3</td></tr>",
                            "<tr><td>Austria</td><td>NULL</td><td>2</td></tr>",
                            "<tr><td>Belgium</td><td>NULL</td><td>2</td></tr>",
                            "<tr><td>Brazil</td><td>NULL</td><td>9</td></tr>",
                            "<tr><td>Canada</td><td>NULL</td><td>3</td></tr>",
                            "<tr><td>Denmark</td><td>NULL</td><td>2</td></tr>",
                            "<tr><td>Finland</td><td>NULL</td><td>2</td></tr>",
                            "<tr><td>France</td><td>NULL</td><td>11</td></tr>",
                            "<tr><td>Germany</td><td>NULL</td><td>11</td></tr>",
                            "<tr><td>Ireland</td><td>NULL</td><td>1</td></tr>",
                            "<tr><td>Italy</td><td>NULL</td><td>3</td></tr>",
                            "<tr><td>Mexico</td><td>NULL</td><td>5</td></tr>",
                            "<tr><td>Norway</td><td>NULL</td><td>1</td></tr>",
                            "<tr><td>Poland</td><td>NULL</td><td>1</td></tr>",
                            "<tr><td>Portugal</td><td>NULL</td><td>2</td></tr>",
                            "<tr><td>Spain</td><td>NULL</td><td>5</td></tr>",
                            "<tr><td>Sweden</td><td>NULL</td><td>2</td></tr>",
                            "<tr><td>Switzerland</td><td>NULL</td><td>2</td></tr>",
                            "<tr><td>UK</td><td>NULL</td><td>7</td></tr>",
                            "<tr><td>USA</td><td>NULL</td><td>13</td></tr>",
                            "<tr><td>Venezuela</td><td>NULL</td><td>4</td></tr>",
                            "</table>"
                        ]
                    }
                }
            ],
            "execution_count": 28
        },
        {
            "cell_type": "markdown",
            "source": [
                "3.2. Escribir una sentencia SELECT contra la vista Sales.OrderValues y traer las columnas:\n",
                "<li>Año de la columna orderdate como orderyear.\n",
                "<li>Mes de la columna orderdate como ordermonth.\n",
                "<li>Día de la columna orderdate como orderday.\n",
                "<li>Valor de Total de Ventas utilizando la columna val como salesvalue.\n",
                "<li>Devolver todas los posibles  grouping sets basados en las columnas orderyear, ordermonth, y orderday."
            ],
            "metadata": {
                "azdata_cell_guid": "717340d3-174a-4ed4-9348-d0f4e4563eb8"
            }
        },
        {
            "cell_type": "code",
            "source": [
                "SELECT\r\n",
                "    YEAR(orderdate) AS orderyear,\r\n",
                "    MONTH(orderdate) AS ordermonth,\r\n",
                "    DAY(orderdate) AS orderday,\r\n",
                "    SUM(val) AS salesvalue\r\n",
                "FROM\r\n",
                "    Sales.OrderValues\r\n",
                "GROUP BY\r\n",
                "    GROUPING SETS (\r\n",
                "        (YEAR(orderdate), MONTH(orderdate), DAY(orderdate)),  -- año, mes, día\r\n",
                "        (YEAR(orderdate), MONTH(orderdate)),                  -- año, mes\r\n",
                "        (YEAR(orderdate)),                                    -- año\r\n",
                "        ()                                                    -- total general\r\n",
                "    );\r\n",
                ""
            ],
            "metadata": {
                "azdata_cell_guid": "d410f43f-54dd-43a1-bbd7-0e175e18b36c",
                "language": "sql"
            },
            "outputs": [
                {
                    "output_type": "display_data",
                    "data": {
                        "text/html": "(507 rows affected)"
                    },
                    "metadata": {}
                },
                {
                    "output_type": "display_data",
                    "data": {
                        "text/html": "Total execution time: 00:00:00.019"
                    },
                    "metadata": {}
                },
                {
                    "output_type": "execute_result",
                    "metadata": {},
                    "execution_count": 29,
                    "data": {
                        "application/vnd.dataresource+json": {
                            "schema": {
                                "fields": [
                                    {
                                        "name": "orderyear"
                                    },
                                    {
                                        "name": "ordermonth"
                                    },
                                    {
                                        "name": "orderday"
                                    },
                                    {
                                        "name": "salesvalue"
                                    }
                                ]
                            },
                            "data": [
                                {
                                    "0": "2006",
                                    "1": "7",
                                    "2": "4",
                                    "3": "440.00"
                                },
                                {
                                    "0": "2006",
                                    "1": "7",
                                    "2": "5",
                                    "3": "1863.40"
                                },
                                {
                                    "0": "2006",
                                    "1": "7",
                                    "2": "8",
                                    "3": "2206.66"
                                },
                                {
                                    "0": "2006",
                                    "1": "7",
                                    "2": "9",
                                    "3": "3597.90"
                                },
                                {
                                    "0": "2006",
                                    "1": "7",
                                    "2": "10",
                                    "3": "1444.80"
                                },
                                {
                                    "0": "2006",
                                    "1": "7",
                                    "2": "11",
                                    "3": "556.62"
                                },
                                {
                                    "0": "2006",
                                    "1": "7",
                                    "2": "12",
                                    "3": "2490.50"
                                },
                                {
                                    "0": "2006",
                                    "1": "7",
                                    "2": "15",
                                    "3": "517.80"
                                },
                                {
                                    "0": "2006",
                                    "1": "7",
                                    "2": "16",
                                    "3": "1119.90"
                                },
                                {
                                    "0": "2006",
                                    "1": "7",
                                    "2": "17",
                                    "3": "1614.88"
                                },
                                {
                                    "0": "2006",
                                    "1": "7",
                                    "2": "18",
                                    "3": "100.80"
                                },
                                {
                                    "0": "2006",
                                    "1": "7",
                                    "2": "19",
                                    "3": "1952.65"
                                },
                                {
                                    "0": "2006",
                                    "1": "7",
                                    "2": "22",
                                    "3": "584.00"
                                },
                                {
                                    "0": "2006",
                                    "1": "7",
                                    "2": "23",
                                    "3": "1873.80"
                                },
                                {
                                    "0": "2006",
                                    "1": "7",
                                    "2": "24",
                                    "3": "695.63"
                                },
                                {
                                    "0": "2006",
                                    "1": "7",
                                    "2": "25",
                                    "3": "1176.00"
                                },
                                {
                                    "0": "2006",
                                    "1": "7",
                                    "2": "26",
                                    "3": "346.56"
                                },
                                {
                                    "0": "2006",
                                    "1": "7",
                                    "2": "29",
                                    "3": "3536.60"
                                },
                                {
                                    "0": "2006",
                                    "1": "7",
                                    "2": "30",
                                    "3": "1101.20"
                                },
                                {
                                    "0": "2006",
                                    "1": "7",
                                    "2": "31",
                                    "3": "642.20"
                                },
                                {
                                    "0": "2006",
                                    "1": "7",
                                    "2": "NULL",
                                    "3": "27861.90"
                                },
                                {
                                    "0": "2006",
                                    "1": "8",
                                    "2": "1",
                                    "3": "1424.00"
                                },
                                {
                                    "0": "2006",
                                    "1": "8",
                                    "2": "2",
                                    "3": "1456.00"
                                },
                                {
                                    "0": "2006",
                                    "1": "8",
                                    "2": "5",
                                    "3": "2037.28"
                                },
                                {
                                    "0": "2006",
                                    "1": "8",
                                    "2": "6",
                                    "3": "538.60"
                                },
                                {
                                    "0": "2006",
                                    "1": "8",
                                    "2": "7",
                                    "3": "291.84"
                                },
                                {
                                    "0": "2006",
                                    "1": "8",
                                    "2": "8",
                                    "3": "420.00"
                                },
                                {
                                    "0": "2006",
                                    "1": "8",
                                    "2": "9",
                                    "3": "1200.80"
                                },
                                {
                                    "0": "2006",
                                    "1": "8",
                                    "2": "12",
                                    "3": "1488.80"
                                },
                                {
                                    "0": "2006",
                                    "1": "8",
                                    "2": "13",
                                    "3": "351.00"
                                },
                                {
                                    "0": "2006",
                                    "1": "8",
                                    "2": "14",
                                    "3": "699.70"
                                },
                                {
                                    "0": "2006",
                                    "1": "8",
                                    "2": "15",
                                    "3": "155.40"
                                },
                                {
                                    "0": "2006",
                                    "1": "8",
                                    "2": "16",
                                    "3": "1414.80"
                                },
                                {
                                    "0": "2006",
                                    "1": "8",
                                    "2": "19",
                                    "3": "1170.38"
                                },
                                {
                                    "0": "2006",
                                    "1": "8",
                                    "2": "20",
                                    "3": "1743.36"
                                },
                                {
                                    "0": "2006",
                                    "1": "8",
                                    "2": "21",
                                    "3": "3016.00"
                                },
                                {
                                    "0": "2006",
                                    "1": "8",
                                    "2": "22",
                                    "3": "819.00"
                                },
                                {
                                    "0": "2006",
                                    "1": "8",
                                    "2": "23",
                                    "3": "80.10"
                                },
                                {
                                    "0": "2006",
                                    "1": "8",
                                    "2": "26",
                                    "3": "479.40"
                                },
                                {
                                    "0": "2006",
                                    "1": "8",
                                    "2": "27",
                                    "3": "2666.52"
                                },
                                {
                                    "0": "2006",
                                    "1": "8",
                                    "2": "28",
                                    "3": "1296.00"
                                },
                                {
                                    "0": "2006",
                                    "1": "8",
                                    "2": "29",
                                    "3": "848.70"
                                },
                                {
                                    "0": "2006",
                                    "1": "8",
                                    "2": "30",
                                    "3": "1887.60"
                                },
                                {
                                    "0": "2006",
                                    "1": "8",
                                    "2": "NULL",
                                    "3": "25485.28"
                                },
                                {
                                    "0": "2006",
                                    "1": "9",
                                    "2": "2",
                                    "3": "121.60"
                                },
                                {
                                    "0": "2006",
                                    "1": "9",
                                    "2": "3",
                                    "3": "1050.60"
                                },
                                {
                                    "0": "2006",
                                    "1": "9",
                                    "2": "4",
                                    "3": "1420.00"
                                },
                                {
                                    "0": "2006",
                                    "1": "9",
                                    "2": "5",
                                    "3": "2645.00"
                                },
                                {
                                    "0": "2006",
                                    "1": "9",
                                    "2": "6",
                                    "3": "349.50"
                                },
                                {
                                    "0": "2006",
                                    "1": "9",
                                    "2": "9",
                                    "3": "1363.00"
                                },
                                {
                                    "0": "2006",
                                    "1": "9",
                                    "2": "10",
                                    "3": "2708.80"
                                },
                                {
                                    "0": "2006",
                                    "1": "9",
                                    "2": "11",
                                    "3": "1117.80"
                                },
                                {
                                    "0": "2006",
                                    "1": "9",
                                    "2": "12",
                                    "3": "954.40"
                                },
                                {
                                    "0": "2006",
                                    "1": "9",
                                    "2": "13",
                                    "3": "3741.30"
                                },
                                {
                                    "0": "2006",
                                    "1": "9",
                                    "2": "16",
                                    "3": "498.50"
                                },
                                {
                                    "0": "2006",
                                    "1": "9",
                                    "2": "17",
                                    "3": "424.00"
                                },
                                {
                                    "0": "2006",
                                    "1": "9",
                                    "2": "18",
                                    "3": "88.80"
                                },
                                {
                                    "0": "2006",
                                    "1": "9",
                                    "2": "19",
                                    "3": "1762.00"
                                },
                                {
                                    "0": "2006",
                                    "1": "9",
                                    "2": "20",
                                    "3": "604.80"
                                },
                                {
                                    "0": "2006",
                                    "1": "9",
                                    "2": "23",
                                    "3": "1614.80"
                                },
                                {
                                    "0": "2006",
                                    "1": "9",
                                    "2": "24",
                                    "3": "182.40"
                                },
                                {
                                    "0": "2006",
                                    "1": "9",
                                    "2": "25",
                                    "3": "2094.30"
                                },
                                {
                                    "0": "2006",
                                    "1": "9",
                                    "2": "26",
                                    "3": "516.80"
                                },
                                {
                                    "0": "2006",
                                    "1": "9",
                                    "2": "27",
                                    "3": "2835.00"
                                },
                                {
                                    "0": "2006",
                                    "1": "9",
                                    "2": "30",
                                    "3": "288.00"
                                },
                                {
                                    "0": "2006",
                                    "1": "9",
                                    "2": "NULL",
                                    "3": "26381.40"
                                },
                                {
                                    "0": "2006",
                                    "1": "10",
                                    "2": "1",
                                    "3": "240.40"
                                },
                                {
                                    "0": "2006",
                                    "1": "10",
                                    "2": "2",
                                    "3": "1191.20"
                                },
                                {
                                    "0": "2006",
                                    "1": "10",
                                    "2": "3",
                                    "3": "660.00"
                                },
                                {
                                    "0": "2006",
                                    "1": "10",
                                    "2": "4",
                                    "3": "112.00"
                                },
                                {
                                    "0": "2006",
                                    "1": "10",
                                    "2": "7",
                                    "3": "164.40"
                                },
                                {
                                    "0": "2006",
                                    "1": "10",
                                    "2": "8",
                                    "3": "5275.72"
                                },
                                {
                                    "0": "2006",
                                    "1": "10",
                                    "2": "9",
                                    "3": "1497.00"
                                },
                                {
                                    "0": "2006",
                                    "1": "10",
                                    "2": "10",
                                    "3": "982.00"
                                },
                                {
                                    "0": "2006",
                                    "1": "10",
                                    "2": "11",
                                    "3": "1810.00"
                                },
                                {
                                    "0": "2006",
                                    "1": "10",
                                    "2": "14",
                                    "3": "1168.00"
                                },
                                {
                                    "0": "2006",
                                    "1": "10",
                                    "2": "15",
                                    "3": "4578.43"
                                },
                                {
                                    "0": "2006",
                                    "1": "10",
                                    "2": "16",
                                    "3": "1737.50"
                                },
                                {
                                    "0": "2006",
                                    "1": "10",
                                    "2": "17",
                                    "3": "1786.88"
                                },
                                {
                                    "0": "2006",
                                    "1": "10",
                                    "2": "18",
                                    "3": "877.20"
                                },
                                {
                                    "0": "2006",
                                    "1": "10",
                                    "2": "21",
                                    "3": "144.80"
                                },
                                {
                                    "0": "2006",
                                    "1": "10",
                                    "2": "22",
                                    "3": "2036.16"
                                },
                                {
                                    "0": "2006",
                                    "1": "10",
                                    "2": "23",
                                    "3": "285.12"
                                },
                                {
                                    "0": "2006",
                                    "1": "10",
                                    "2": "24",
                                    "3": "2467.00"
                                },
                                {
                                    "0": "2006",
                                    "1": "10",
                                    "2": "25",
                                    "3": "934.50"
                                },
                                {
                                    "0": "2006",
                                    "1": "10",
                                    "2": "28",
                                    "3": "3354.00"
                                },
                                {
                                    "0": "2006",
                                    "1": "10",
                                    "2": "29",
                                    "3": "2788.78"
                                },
                                {
                                    "0": "2006",
                                    "1": "10",
                                    "2": "30",
                                    "3": "1840.64"
                                },
                                {
                                    "0": "2006",
                                    "1": "10",
                                    "2": "31",
                                    "3": "1584.00"
                                },
                                {
                                    "0": "2006",
                                    "1": "10",
                                    "2": "NULL",
                                    "3": "37515.73"
                                },
                                {
                                    "0": "2006",
                                    "1": "11",
                                    "2": "1",
                                    "3": "2296.00"
                                },
                                {
                                    "0": "2006",
                                    "1": "11",
                                    "2": "4",
                                    "3": "2924.80"
                                },
                                {
                                    "0": "2006",
                                    "1": "11",
                                    "2": "5",
                                    "3": "1618.88"
                                },
                                {
                                    "0": "2006",
                                    "1": "11",
                                    "2": "6",
                                    "3": "814.42"
                                },
                                {
                                    "0": "2006",
                                    "1": "11",
                                    "2": "7",
                                    "3": "363.60"
                                },
                                {
                                    "0": "2006",
                                    "1": "11",
                                    "2": "8",
                                    "3": "141.60"
                                },
                                {
                                    "0": "2006",
                                    "1": "11",
                                    "2": "11",
                                    "3": "6040.79"
                                },
                                {
                                    "0": "2006",
                                    "1": "11",
                                    "2": "12",
                                    "3": "136.30"
                                },
                                {
                                    "0": "2006",
                                    "1": "11",
                                    "2": "13",
                                    "3": "8593.28"
                                },
                                {
                                    "0": "2006",
                                    "1": "11",
                                    "2": "14",
                                    "3": "568.80"
                                },
                                {
                                    "0": "2006",
                                    "1": "11",
                                    "2": "15",
                                    "3": "480.00"
                                },
                                {
                                    "0": "2006",
                                    "1": "11",
                                    "2": "18",
                                    "3": "1106.40"
                                },
                                {
                                    "0": "2006",
                                    "1": "11",
                                    "2": "19",
                                    "3": "1167.68"
                                },
                                {
                                    "0": "2006",
                                    "1": "11",
                                    "2": "20",
                                    "3": "429.40"
                                },
                                {
                                    "0": "2006",
                                    "1": "11",
                                    "2": "21",
                                    "3": "3471.68"
                                },
                                {
                                    "0": "2006",
                                    "1": "11",
                                    "2": "22",
                                    "3": "9436.44"
                                },
                                {
                                    "0": "2006",
                                    "1": "11",
                                    "2": "25",
                                    "3": "1549.60"
                                },
                                {
                                    "0": "2006",
                                    "1": "11",
                                    "2": "26",
                                    "3": "1397.20"
                                },
                                {
                                    "0": "2006",
                                    "1": "11",
                                    "2": "27",
                                    "3": "403.20"
                                },
                                {
                                    "0": "2006",
                                    "1": "11",
                                    "2": "28",
                                    "3": "970.20"
                                },
                                {
                                    "0": "2006",
                                    "1": "11",
                                    "2": "29",
                                    "3": "1689.78"
                                },
                                {
                                    "0": "2006",
                                    "1": "11",
                                    "2": "NULL",
                                    "3": "45600.05"
                                },
                                {
                                    "0": "2006",
                                    "1": "12",
                                    "2": "2",
                                    "3": "2390.40"
                                },
                                {
                                    "0": "2006",
                                    "1": "12",
                                    "2": "3",
                                    "3": "1190.56"
                                },
                                {
                                    "0": "2006",
                                    "1": "12",
                                    "2": "4",
                                    "3": "9210.90"
                                },
                                {
                                    "0": "2006",
                                    "1": "12",
                                    "2": "5",
                                    "3": "1825.40"
                                },
                                {
                                    "0": "2006",
                                    "1": "12",
                                    "2": "6",
                                    "3": "338.00"
                                },
                                {
                                    "0": "2006",
                                    "1": "12",
                                    "2": "9",
                                    "3": "1262.60"
                                },
                                {
                                    "0": "2006",
                                    "1": "12",
                                    "2": "10",
                                    "3": "103.20"
                                },
                                {
                                    "0": "2006",
                                    "1": "12",
                                    "2": "11",
                                    "3": "863.28"
                                },
                                {
                                    "0": "2006",
                                    "1": "12",
                                    "2": "12",
                                    "3": "1425.82"
                                },
                                {
                                    "0": "2006",
                                    "1": "12",
                                    "2": "13",
                                    "3": "2900.00"
                                },
                                {
                                    "0": "2006",
                                    "1": "12",
                                    "2": "16",
                                    "3": "3121.40"
                                },
                                {
                                    "0": "2006",
                                    "1": "12",
                                    "2": "17",
                                    "3": "691.20"
                                },
                                {
                                    "0": "2006",
                                    "1": "12",
                                    "2": "18",
                                    "3": "1224.40"
                                },
                                {
                                    "0": "2006",
                                    "1": "12",
                                    "2": "19",
                                    "3": "1228.80"
                                },
                                {
                                    "0": "2006",
                                    "1": "12",
                                    "2": "20",
                                    "3": "1832.80"
                                },
                                {
                                    "0": "2006",
                                    "1": "12",
                                    "2": "23",
                                    "3": "2177.28"
                                },
                                {
                                    "0": "2006",
                                    "1": "12",
                                    "2": "24",
                                    "3": "1440.00"
                                },
                                {
                                    "0": "2006",
                                    "1": "12",
                                    "2": "25",
                                    "3": "2998.95"
                                },
                                {
                                    "0": "2006",
                                    "1": "12",
                                    "2": "26",
                                    "3": "2122.92"
                                },
                                {
                                    "0": "2006",
                                    "1": "12",
                                    "2": "27",
                                    "3": "2620.52"
                                },
                                {
                                    "0": "2006",
                                    "1": "12",
                                    "2": "30",
                                    "3": "2505.60"
                                },
                                {
                                    "0": "2006",
                                    "1": "12",
                                    "2": "31",
                                    "3": "1765.60"
                                },
                                {
                                    "0": "2006",
                                    "1": "12",
                                    "2": "NULL",
                                    "3": "45239.63"
                                },
                                {
                                    "0": "2006",
                                    "1": "NULL",
                                    "2": "NULL",
                                    "3": "208083.99"
                                },
                                {
                                    "0": "2007",
                                    "1": "1",
                                    "2": "1",
                                    "3": "6931.60"
                                },
                                {
                                    "0": "2007",
                                    "1": "1",
                                    "2": "2",
                                    "3": "2713.50"
                                },
                                {
                                    "0": "2007",
                                    "1": "1",
                                    "2": "3",
                                    "3": "2446.27"
                                },
                                {
                                    "0": "2007",
                                    "1": "1",
                                    "2": "6",
                                    "3": "400.00"
                                },
                                {
                                    "0": "2007",
                                    "1": "1",
                                    "2": "7",
                                    "3": "3024.78"
                                },
                                {
                                    "0": "2007",
                                    "1": "1",
                                    "2": "8",
                                    "3": "1622.40"
                                },
                                {
                                    "0": "2007",
                                    "1": "1",
                                    "2": "9",
                                    "3": "319.20"
                                },
                                {
                                    "0": "2007",
                                    "1": "1",
                                    "2": "10",
                                    "3": "1768.80"
                                },
                                {
                                    "0": "2007",
                                    "1": "1",
                                    "2": "13",
                                    "3": "334.80"
                                },
                                {
                                    "0": "2007",
                                    "1": "1",
                                    "2": "14",
                                    "3": "2348.03"
                                },
                                {
                                    "0": "2007",
                                    "1": "1",
                                    "2": "15",
                                    "3": "102.40"
                                },
                                {
                                    "0": "2007",
                                    "1": "1",
                                    "2": "16",
                                    "3": "11908.40"
                                },
                                {
                                    "0": "2007",
                                    "1": "1",
                                    "2": "17",
                                    "3": "1814.80"
                                },
                                {
                                    "0": "2007",
                                    "1": "1",
                                    "2": "20",
                                    "3": "2097.60"
                                },
                                {
                                    "0": "2007",
                                    "1": "1",
                                    "2": "21",
                                    "3": "2902.11"
                                },
                                {
                                    "0": "2007",
                                    "1": "1",
                                    "2": "22",
                                    "3": "49.80"
                                },
                                {
                                    "0": "2007",
                                    "1": "1",
                                    "2": "23",
                                    "3": "10214.56"
                                },
                                {
                                    "0": "2007",
                                    "1": "1",
                                    "2": "24",
                                    "3": "360.00"
                                },
                                {
                                    "0": "2007",
                                    "1": "1",
                                    "2": "27",
                                    "3": "989.20"
                                },
                                {
                                    "0": "2007",
                                    "1": "1",
                                    "2": "28",
                                    "3": "192.00"
                                },
                                {
                                    "0": "2007",
                                    "1": "1",
                                    "2": "29",
                                    "3": "1441.38"
                                },
                                {
                                    "0": "2007",
                                    "1": "1",
                                    "2": "30",
                                    "3": "6791.45"
                                },
                                {
                                    "0": "2007",
                                    "1": "1",
                                    "2": "31",
                                    "3": "485.00"
                                },
                                {
                                    "0": "2007",
                                    "1": "1",
                                    "2": "NULL",
                                    "3": "61258.08"
                                },
                                {
                                    "0": "2007",
                                    "1": "2",
                                    "2": "3",
                                    "3": "1172.32"
                                },
                                {
                                    "0": "2007",
                                    "1": "2",
                                    "2": "4",
                                    "3": "631.60"
                                },
                                {
                                    "0": "2007",
                                    "1": "2",
                                    "2": "5",
                                    "3": "2387.52"
                                },
                                {
                                    "0": "2007",
                                    "1": "2",
                                    "2": "6",
                                    "3": "454.00"
                                },
                                {
                                    "0": "2007",
                                    "1": "2",
                                    "2": "7",
                                    "3": "1078.00"
                                },
                                {
                                    "0": "2007",
                                    "1": "2",
                                    "2": "10",
                                    "3": "6679.14"
                                },
                                {
                                    "0": "2007",
                                    "1": "2",
                                    "2": "11",
                                    "3": "1792.00"
                                },
                                {
                                    "0": "2007",
                                    "1": "2",
                                    "2": "12",
                                    "3": "1549.14"
                                },
                                {
                                    "0": "2007",
                                    "1": "2",
                                    "2": "13",
                                    "3": "174.90"
                                },
                                {
                                    "0": "2007",
                                    "1": "2",
                                    "2": "14",
                                    "3": "1160.64"
                                },
                                {
                                    "0": "2007",
                                    "1": "2",
                                    "2": "17",
                                    "3": "443.40"
                                },
                                {
                                    "0": "2007",
                                    "1": "2",
                                    "2": "18",
                                    "3": "1838.20"
                                },
                                {
                                    "0": "2007",
                                    "1": "2",
                                    "2": "19",
                                    "3": "4274.78"
                                },
                                {
                                    "0": "2007",
                                    "1": "2",
                                    "2": "20",
                                    "3": "2018.50"
                                },
                                {
                                    "0": "2007",
                                    "1": "2",
                                    "2": "21",
                                    "3": "738.90"
                                },
                                {
                                    "0": "2007",
                                    "1": "2",
                                    "2": "24",
                                    "3": "2684.00"
                                },
                                {
                                    "0": "2007",
                                    "1": "2",
                                    "2": "25",
                                    "3": "2141.60"
                                },
                                {
                                    "0": "2007",
                                    "1": "2",
                                    "2": "26",
                                    "3": "3891.00"
                                },
                                {
                                    "0": "2007",
                                    "1": "2",
                                    "2": "27",
                                    "3": "1659.20"
                                },
                                {
                                    "0": "2007",
                                    "1": "2",
                                    "2": "28",
                                    "3": "1714.80"
                                },
                                {
                                    "0": "2007",
                                    "1": "2",
                                    "2": "NULL",
                                    "3": "38483.64"
                                },
                                {
                                    "0": "2007",
                                    "1": "3",
                                    "2": "3",
                                    "3": "156.00"
                                },
                                {
                                    "0": "2007",
                                    "1": "3",
                                    "2": "4",
                                    "3": "2322.58"
                                },
                                {
                                    "0": "2007",
                                    "1": "3",
                                    "2": "5",
                                    "3": "2518.00"
                                },
                                {
                                    "0": "2007",
                                    "1": "3",
                                    "2": "6",
                                    "3": "451.20"
                                },
                                {
                                    "0": "2007",
                                    "1": "3",
                                    "2": "7",
                                    "3": "717.60"
                                },
                                {
                                    "0": "2007",
                                    "1": "3",
                                    "2": "10",
                                    "3": "956.68"
                                },
                                {
                                    "0": "2007",
                                    "1": "3",
                                    "2": "11",
                                    "3": "3148.80"
                                },
                                {
                                    "0": "2007",
                                    "1": "3",
                                    "2": "12",
                                    "3": "1036.80"
                                },
                                {
                                    "0": "2007",
                                    "1": "3",
                                    "2": "13",
                                    "3": "1479.50"
                                },
                                {
                                    "0": "2007",
                                    "1": "3",
                                    "2": "14",
                                    "3": "1505.18"
                                },
                                {
                                    "0": "2007",
                                    "1": "3",
                                    "2": "17",
                                    "3": "738.48"
                                },
                                {
                                    "0": "2007",
                                    "1": "3",
                                    "2": "18",
                                    "3": "471.20"
                                },
                                {
                                    "0": "2007",
                                    "1": "3",
                                    "2": "19",
                                    "3": "10495.60"
                                },
                                {
                                    "0": "2007",
                                    "1": "3",
                                    "2": "20",
                                    "3": "2228.00"
                                },
                                {
                                    "0": "2007",
                                    "1": "3",
                                    "2": "21",
                                    "3": "147.00"
                                },
                                {
                                    "0": "2007",
                                    "1": "3",
                                    "2": "24",
                                    "3": "1055.00"
                                },
                                {
                                    "0": "2007",
                                    "1": "3",
                                    "2": "25",
                                    "3": "1584.00"
                                },
                                {
                                    "0": "2007",
                                    "1": "3",
                                    "2": "26",
                                    "3": "2161.70"
                                },
                                {
                                    "0": "2007",
                                    "1": "3",
                                    "2": "27",
                                    "3": "1512.00"
                                },
                                {
                                    "0": "2007",
                                    "1": "3",
                                    "2": "28",
                                    "3": "439.20"
                                },
                                {
                                    "0": "2007",
                                    "1": "3",
                                    "2": "31",
                                    "3": "3422.71"
                                },
                                {
                                    "0": "2007",
                                    "1": "3",
                                    "2": "NULL",
                                    "3": "38547.23"
                                },
                                {
                                    "0": "2007",
                                    "1": "4",
                                    "2": "1",
                                    "3": "851.20"
                                },
                                {
                                    "0": "2007",
                                    "1": "4",
                                    "2": "2",
                                    "3": "1520.40"
                                },
                                {
                                    "0": "2007",
                                    "1": "4",
                                    "2": "3",
                                    "3": "278.00"
                                },
                                {
                                    "0": "2007",
                                    "1": "4",
                                    "2": "4",
                                    "3": "1570.60"
                                },
                                {
                                    "0": "2007",
                                    "1": "4",
                                    "2": "7",
                                    "3": "575.00"
                                },
                                {
                                    "0": "2007",
                                    "1": "4",
                                    "2": "8",
                                    "3": "1412.00"
                                },
                                {
                                    "0": "2007",
                                    "1": "4",
                                    "2": "9",
                                    "3": "672.26"
                                },
                                {
                                    "0": "2007",
                                    "1": "4",
                                    "2": "10",
                                    "3": "816.30"
                                },
                                {
                                    "0": "2007",
                                    "1": "4",
                                    "2": "11",
                                    "3": "3437.00"
                                },
                                {
                                    "0": "2007",
                                    "1": "4",
                                    "2": "14",
                                    "3": "147.90"
                                },
                                {
                                    "0": "2007",
                                    "1": "4",
                                    "2": "15",
                                    "3": "1164.86"
                                },
                                {
                                    "0": "2007",
                                    "1": "4",
                                    "2": "16",
                                    "3": "240.00"
                                },
                                {
                                    "0": "2007",
                                    "1": "4",
                                    "2": "17",
                                    "3": "136.80"
                                },
                                {
                                    "0": "2007",
                                    "1": "4",
                                    "2": "18",
                                    "3": "7257.54"
                                },
                                {
                                    "0": "2007",
                                    "1": "4",
                                    "2": "21",
                                    "3": "525.30"
                                },
                                {
                                    "0": "2007",
                                    "1": "4",
                                    "2": "22",
                                    "3": "10565.45"
                                },
                                {
                                    "0": "2007",
                                    "1": "4",
                                    "2": "23",
                                    "3": "9921.30"
                                },
                                {
                                    "0": "2007",
                                    "1": "4",
                                    "2": "24",
                                    "3": "2733.05"
                                },
                                {
                                    "0": "2007",
                                    "1": "4",
                                    "2": "25",
                                    "3": "4150.05"
                                },
                                {
                                    "0": "2007",
                                    "1": "4",
                                    "2": "28",
                                    "3": "2314.20"
                                },
                                {
                                    "0": "2007",
                                    "1": "4",
                                    "2": "29",
                                    "3": "425.50"
                                },
                                {
                                    "0": "2007",
                                    "1": "4",
                                    "2": "30",
                                    "3": "2318.24"
                                },
                                {
                                    "0": "2007",
                                    "1": "4",
                                    "2": "NULL",
                                    "3": "53032.95"
                                },
                                {
                                    "0": "2007",
                                    "1": "5",
                                    "2": "1",
                                    "3": "5636.96"
                                },
                                {
                                    "0": "2007",
                                    "1": "5",
                                    "2": "2",
                                    "3": "818.40"
                                },
                                {
                                    "0": "2007",
                                    "1": "5",
                                    "2": "5",
                                    "3": "2654.40"
                                },
                                {
                                    "0": "2007",
                                    "1": "5",
                                    "2": "6",
                                    "3": "392.20"
                                },
                                {
                                    "0": "2007",
                                    "1": "5",
                                    "2": "7",
                                    "3": "946.00"
                                },
                                {
                                    "0": "2007",
                                    "1": "5",
                                    "2": "8",
                                    "3": "4290.00"
                                },
                                {
                                    "0": "2007",
                                    "1": "5",
                                    "2": "9",
                                    "3": "796.35"
                                },
                                {
                                    "0": "2007",
                                    "1": "5",
                                    "2": "12",
                                    "3": "2687.90"
                                },
                                {
                                    "0": "2007",
                                    "1": "5",
                                    "2": "13",
                                    "3": "1940.85"
                                },
                                {
                                    "0": "2007",
                                    "1": "5",
                                    "2": "14",
                                    "3": "3468.80"
                                },
                                {
                                    "0": "2007",
                                    "1": "5",
                                    "2": "15",
                                    "3": "139.80"
                                },
                                {
                                    "0": "2007",
                                    "1": "5",
                                    "2": "16",
                                    "3": "355.50"
                                },
                                {
                                    "0": "2007",
                                    "1": "5",
                                    "2": "19",
                                    "3": "12138.22"
                                },
                                {
                                    "0": "2007",
                                    "1": "5",
                                    "2": "20",
                                    "3": "469.11"
                                },
                                {
                                    "0": "2007",
                                    "1": "5",
                                    "2": "21",
                                    "3": "1921.70"
                                },
                                {
                                    "0": "2007",
                                    "1": "5",
                                    "2": "22",
                                    "3": "210.00"
                                },
                                {
                                    "0": "2007",
                                    "1": "5",
                                    "2": "23",
                                    "3": "4604.80"
                                },
                                {
                                    "0": "2007",
                                    "1": "5",
                                    "2": "26",
                                    "3": "240.10"
                                },
                                {
                                    "0": "2007",
                                    "1": "5",
                                    "2": "27",
                                    "3": "3554.28"
                                },
                                {
                                    "0": "2007",
                                    "1": "5",
                                    "2": "28",
                                    "3": "2360.60"
                                },
                                {
                                    "0": "2007",
                                    "1": "5",
                                    "2": "29",
                                    "3": "880.50"
                                },
                                {
                                    "0": "2007",
                                    "1": "5",
                                    "2": "30",
                                    "3": "3274.83"
                                },
                                {
                                    "0": "2007",
                                    "1": "5",
                                    "2": "NULL",
                                    "3": "53781.30"
                                },
                                {
                                    "0": "2007",
                                    "1": "6",
                                    "2": "2",
                                    "3": "2944.40"
                                },
                                {
                                    "0": "2007",
                                    "1": "6",
                                    "2": "3",
                                    "3": "1987.70"
                                },
                                {
                                    "0": "2007",
                                    "1": "6",
                                    "2": "4",
                                    "3": "2142.90"
                                },
                                {
                                    "0": "2007",
                                    "1": "6",
                                    "2": "5",
                                    "3": "520.41"
                                },
                                {
                                    "0": "2007",
                                    "1": "6",
                                    "2": "6",
                                    "3": "3916.93"
                                },
                                {
                                    "0": "2007",
                                    "1": "6",
                                    "2": "9",
                                    "3": "488.70"
                                },
                                {
                                    "0": "2007",
                                    "1": "6",
                                    "2": "10",
                                    "3": "2199.05"
                                },
                                {
                                    "0": "2007",
                                    "1": "6",
                                    "2": "11",
                                    "3": "639.90"
                                },
                                {
                                    "0": "2007",
                                    "1": "6",
                                    "2": "12",
                                    "3": "4280.00"
                                },
                                {
                                    "0": "2007",
                                    "1": "6",
                                    "2": "13",
                                    "3": "155.00"
                                },
                                {
                                    "0": "2007",
                                    "1": "6",
                                    "2": "16",
                                    "3": "890.00"
                                },
                                {
                                    "0": "2007",
                                    "1": "6",
                                    "2": "17",
                                    "3": "3015.84"
                                },
                                {
                                    "0": "2007",
                                    "1": "6",
                                    "2": "18",
                                    "3": "1501.09"
                                },
                                {
                                    "0": "2007",
                                    "1": "6",
                                    "2": "19",
                                    "3": "2846.30"
                                },
                                {
                                    "0": "2007",
                                    "1": "6",
                                    "2": "20",
                                    "3": "2147.40"
                                },
                                {
                                    "0": "2007",
                                    "1": "6",
                                    "2": "23",
                                    "3": "1407.45"
                                },
                                {
                                    "0": "2007",
                                    "1": "6",
                                    "2": "24",
                                    "3": "477.00"
                                },
                                {
                                    "0": "2007",
                                    "1": "6",
                                    "2": "25",
                                    "3": "317.75"
                                },
                                {
                                    "0": "2007",
                                    "1": "6",
                                    "2": "26",
                                    "3": "1323.75"
                                },
                                {
                                    "0": "2007",
                                    "1": "6",
                                    "2": "27",
                                    "3": "330.00"
                                },
                                {
                                    "0": "2007",
                                    "1": "6",
                                    "2": "30",
                                    "3": "2831.25"
                                },
                                {
                                    "0": "2007",
                                    "1": "6",
                                    "2": "NULL",
                                    "3": "36362.82"
                                },
                                {
                                    "0": "2007",
                                    "1": "7",
                                    "2": "1",
                                    "3": "142.50"
                                },
                                {
                                    "0": "2007",
                                    "1": "7",
                                    "2": "2",
                                    "3": "831.18"
                                },
                                {
                                    "0": "2007",
                                    "1": "7",
                                    "2": "3",
                                    "3": "3120.00"
                                },
                                {
                                    "0": "2007",
                                    "1": "7",
                                    "2": "4",
                                    "3": "72.00"
                                },
                                {
                                    "0": "2007",
                                    "1": "7",
                                    "2": "7",
                                    "3": "1913.50"
                                },
                                {
                                    "0": "2007",
                                    "1": "7",
                                    "2": "8",
                                    "3": "516.47"
                                },
                                {
                                    "0": "2007",
                                    "1": "7",
                                    "2": "9",
                                    "3": "2559.90"
                                },
                                {
                                    "0": "2007",
                                    "1": "7",
                                    "2": "10",
                                    "3": "4725.00"
                                },
                                {
                                    "0": "2007",
                                    "1": "7",
                                    "2": "11",
                                    "3": "1898.96"
                                },
                                {
                                    "0": "2007",
                                    "1": "7",
                                    "2": "14",
                                    "3": "2388.50"
                                },
                                {
                                    "0": "2007",
                                    "1": "7",
                                    "2": "15",
                                    "3": "493.00"
                                },
                                {
                                    "0": "2007",
                                    "1": "7",
                                    "2": "16",
                                    "3": "2764.80"
                                },
                                {
                                    "0": "2007",
                                    "1": "7",
                                    "2": "17",
                                    "3": "48.75"
                                },
                                {
                                    "0": "2007",
                                    "1": "7",
                                    "2": "18",
                                    "3": "1713.85"
                                },
                                {
                                    "0": "2007",
                                    "1": "7",
                                    "2": "21",
                                    "3": "4109.70"
                                },
                                {
                                    "0": "2007",
                                    "1": "7",
                                    "2": "22",
                                    "3": "7605.80"
                                },
                                {
                                    "0": "2007",
                                    "1": "7",
                                    "2": "23",
                                    "3": "1064.00"
                                },
                                {
                                    "0": "2007",
                                    "1": "7",
                                    "2": "24",
                                    "3": "424.00"
                                },
                                {
                                    "0": "2007",
                                    "1": "7",
                                    "2": "25",
                                    "3": "1107.25"
                                },
                                {
                                    "0": "2007",
                                    "1": "7",
                                    "2": "28",
                                    "3": "6375.00"
                                },
                                {
                                    "0": "2007",
                                    "1": "7",
                                    "2": "29",
                                    "3": "817.20"
                                },
                                {
                                    "0": "2007",
                                    "1": "7",
                                    "2": "30",
                                    "3": "120.00"
                                },
                                {
                                    "0": "2007",
                                    "1": "7",
                                    "2": "31",
                                    "3": "6209.50"
                                },
                                {
                                    "0": "2007",
                                    "1": "7",
                                    "2": "NULL",
                                    "3": "51020.86"
                                },
                                {
                                    "0": "2007",
                                    "1": "8",
                                    "2": "1",
                                    "3": "2697.50"
                                },
                                {
                                    "0": "2007",
                                    "1": "8",
                                    "2": "4",
                                    "3": "1260.00"
                                },
                                {
                                    "0": "2007",
                                    "1": "8",
                                    "2": "5",
                                    "3": "816.00"
                                },
                                {
                                    "0": "2007",
                                    "1": "8",
                                    "2": "6",
                                    "3": "560.00"
                                },
                                {
                                    "0": "2007",
                                    "1": "8",
                                    "2": "7",
                                    "3": "2730.19"
                                },
                                {
                                    "0": "2007",
                                    "1": "8",
                                    "2": "8",
                                    "3": "479.75"
                                },
                                {
                                    "0": "2007",
                                    "1": "8",
                                    "2": "11",
                                    "3": "2689.35"
                                },
                                {
                                    "0": "2007",
                                    "1": "8",
                                    "2": "12",
                                    "3": "3225.05"
                                },
                                {
                                    "0": "2007",
                                    "1": "8",
                                    "2": "13",
                                    "3": "903.60"
                                },
                                {
                                    "0": "2007",
                                    "1": "8",
                                    "2": "14",
                                    "3": "644.80"
                                },
                                {
                                    "0": "2007",
                                    "1": "8",
                                    "2": "15",
                                    "3": "10496.09"
                                },
                                {
                                    "0": "2007",
                                    "1": "8",
                                    "2": "18",
                                    "3": "1326.23"
                                },
                                {
                                    "0": "2007",
                                    "1": "8",
                                    "2": "19",
                                    "3": "3391.44"
                                },
                                {
                                    "0": "2007",
                                    "1": "8",
                                    "2": "20",
                                    "3": "3220.05"
                                },
                                {
                                    "0": "2007",
                                    "1": "8",
                                    "2": "21",
                                    "3": "708.75"
                                },
                                {
                                    "0": "2007",
                                    "1": "8",
                                    "2": "22",
                                    "3": "2750.00"
                                },
                                {
                                    "0": "2007",
                                    "1": "8",
                                    "2": "25",
                                    "3": "2186.30"
                                },
                                {
                                    "0": "2007",
                                    "1": "8",
                                    "2": "26",
                                    "3": "1535.00"
                                },
                                {
                                    "0": "2007",
                                    "1": "8",
                                    "2": "27",
                                    "3": "2082.00"
                                },
                                {
                                    "0": "2007",
                                    "1": "8",
                                    "2": "28",
                                    "3": "1806.38"
                                },
                                {
                                    "0": "2007",
                                    "1": "8",
                                    "2": "29",
                                    "3": "1779.20"
                                },
                                {
                                    "0": "2007",
                                    "1": "8",
                                    "2": "NULL",
                                    "3": "47287.68"
                                },
                                {
                                    "0": "2007",
                                    "1": "9",
                                    "2": "1",
                                    "3": "716.64"
                                },
                                {
                                    "0": "2007",
                                    "1": "9",
                                    "2": "2",
                                    "3": "1684.98"
                                },
                                {
                                    "0": "2007",
                                    "1": "9",
                                    "2": "3",
                                    "3": "154.40"
                                },
                                {
                                    "0": "2007",
                                    "1": "9",
                                    "2": "4",
                                    "3": "4975.82"
                                },
                                {
                                    "0": "2007",
                                    "1": "9",
                                    "2": "5",
                                    "3": "5691.62"
                                },
                                {
                                    "0": "2007",
                                    "1": "9",
                                    "2": "8",
                                    "3": "1701.00"
                                },
                                {
                                    "0": "2007",
                                    "1": "9",
                                    "2": "9",
                                    "3": "687.60"
                                },
                                {
                                    "0": "2007",
                                    "1": "9",
                                    "2": "10",
                                    "3": "3218.79"
                                },
                                {
                                    "0": "2007",
                                    "1": "9",
                                    "2": "11",
                                    "3": "1295.00"
                                },
                                {
                                    "0": "2007",
                                    "1": "9",
                                    "2": "12",
                                    "3": "6203.74"
                                },
                                {
                                    "0": "2007",
                                    "1": "9",
                                    "2": "15",
                                    "3": "1195.28"
                                },
                                {
                                    "0": "2007",
                                    "1": "9",
                                    "2": "16",
                                    "3": "2301.75"
                                },
                                {
                                    "0": "2007",
                                    "1": "9",
                                    "2": "17",
                                    "3": "4735.35"
                                },
                                {
                                    "0": "2007",
                                    "1": "9",
                                    "2": "18",
                                    "3": "457.35"
                                },
                                {
                                    "0": "2007",
                                    "1": "9",
                                    "2": "19",
                                    "3": "1423.00"
                                },
                                {
                                    "0": "2007",
                                    "1": "9",
                                    "2": "22",
                                    "3": "1348.22"
                                },
                                {
                                    "0": "2007",
                                    "1": "9",
                                    "2": "23",
                                    "3": "5916.50"
                                },
                                {
                                    "0": "2007",
                                    "1": "9",
                                    "2": "24",
                                    "3": "1261.88"
                                },
                                {
                                    "0": "2007",
                                    "1": "9",
                                    "2": "25",
                                    "3": "1662.90"
                                },
                                {
                                    "0": "2007",
                                    "1": "9",
                                    "2": "26",
                                    "3": "1831.00"
                                },
                                {
                                    "0": "2007",
                                    "1": "9",
                                    "2": "29",
                                    "3": "801.10"
                                },
                                {
                                    "0": "2007",
                                    "1": "9",
                                    "2": "30",
                                    "3": "6365.35"
                                },
                                {
                                    "0": "2007",
                                    "1": "9",
                                    "2": "NULL",
                                    "3": "55629.27"
                                },
                                {
                                    "0": "2007",
                                    "1": "10",
                                    "2": "1",
                                    "3": "3633.10"
                                },
                                {
                                    "0": "2007",
                                    "1": "10",
                                    "2": "2",
                                    "3": "862.50"
                                },
                                {
                                    "0": "2007",
                                    "1": "10",
                                    "2": "3",
                                    "3": "11042.80"
                                },
                                {
                                    "0": "2007",
                                    "1": "10",
                                    "2": "6",
                                    "3": "6896.20"
                                },
                                {
                                    "0": "2007",
                                    "1": "10",
                                    "2": "7",
                                    "3": "642.00"
                                },
                                {
                                    "0": "2007",
                                    "1": "10",
                                    "2": "8",
                                    "3": "1801.43"
                                },
                                {
                                    "0": "2007",
                                    "1": "10",
                                    "2": "9",
                                    "3": "3550.44"
                                },
                                {
                                    "0": "2007",
                                    "1": "10",
                                    "2": "10",
                                    "3": "1638.40"
                                },
                                {
                                    "0": "2007",
                                    "1": "10",
                                    "2": "13",
                                    "3": "3194.50"
                                },
                                {
                                    "0": "2007",
                                    "1": "10",
                                    "2": "14",
                                    "3": "3140.50"
                                },
                                {
                                    "0": "2007",
                                    "1": "10",
                                    "2": "15",
                                    "3": "378.00"
                                },
                                {
                                    "0": "2007",
                                    "1": "10",
                                    "2": "16",
                                    "3": "3534.00"
                                },
                                {
                                    "0": "2007",
                                    "1": "10",
                                    "2": "17",
                                    "3": "3604.40"
                                },
                                {
                                    "0": "2007",
                                    "1": "10",
                                    "2": "20",
                                    "3": "93.50"
                                },
                                {
                                    "0": "2007",
                                    "1": "10",
                                    "2": "21",
                                    "3": "5685.18"
                                },
                                {
                                    "0": "2007",
                                    "1": "10",
                                    "2": "22",
                                    "3": "5033.65"
                                },
                                {
                                    "0": "2007",
                                    "1": "10",
                                    "2": "23",
                                    "3": "1296.00"
                                },
                                {
                                    "0": "2007",
                                    "1": "10",
                                    "2": "24",
                                    "3": "1976.75"
                                },
                                {
                                    "0": "2007",
                                    "1": "10",
                                    "2": "27",
                                    "3": "4307.25"
                                },
                                {
                                    "0": "2007",
                                    "1": "10",
                                    "2": "28",
                                    "3": "550.00"
                                },
                                {
                                    "0": "2007",
                                    "1": "10",
                                    "2": "29",
                                    "3": "2493.88"
                                },
                                {
                                    "0": "2007",
                                    "1": "10",
                                    "2": "30",
                                    "3": "1106.95"
                                },
                                {
                                    "0": "2007",
                                    "1": "10",
                                    "2": "31",
                                    "3": "287.80"
                                },
                                {
                                    "0": "2007",
                                    "1": "10",
                                    "2": "NULL",
                                    "3": "66749.23"
                                },
                                {
                                    "0": "2007",
                                    "1": "11",
                                    "2": "3",
                                    "3": "2279.50"
                                },
                                {
                                    "0": "2007",
                                    "1": "11",
                                    "2": "4",
                                    "3": "3146.75"
                                },
                                {
                                    "0": "2007",
                                    "1": "11",
                                    "2": "5",
                                    "3": "484.26"
                                },
                                {
                                    "0": "2007",
                                    "1": "11",
                                    "2": "6",
                                    "3": "2250.50"
                                },
                                {
                                    "0": "2007",
                                    "1": "11",
                                    "2": "7",
                                    "3": "2957.35"
                                },
                                {
                                    "0": "2007",
                                    "1": "11",
                                    "2": "10",
                                    "3": "536.40"
                                },
                                {
                                    "0": "2007",
                                    "1": "11",
                                    "2": "11",
                                    "3": "1136.80"
                                },
                                {
                                    "0": "2007",
                                    "1": "11",
                                    "2": "12",
                                    "3": "292.35"
                                },
                                {
                                    "0": "2007",
                                    "1": "11",
                                    "2": "13",
                                    "3": "1416.00"
                                },
                                {
                                    "0": "2007",
                                    "1": "11",
                                    "2": "14",
                                    "3": "3346.00"
                                },
                                {
                                    "0": "2007",
                                    "1": "11",
                                    "2": "17",
                                    "3": "1055.20"
                                },
                                {
                                    "0": "2007",
                                    "1": "11",
                                    "2": "18",
                                    "3": "4529.80"
                                },
                                {
                                    "0": "2007",
                                    "1": "11",
                                    "2": "19",
                                    "3": "4224.55"
                                },
                                {
                                    "0": "2007",
                                    "1": "11",
                                    "2": "20",
                                    "3": "3276.00"
                                },
                                {
                                    "0": "2007",
                                    "1": "11",
                                    "2": "21",
                                    "3": "1590.56"
                                },
                                {
                                    "0": "2007",
                                    "1": "11",
                                    "2": "24",
                                    "3": "1883.48"
                                },
                                {
                                    "0": "2007",
                                    "1": "11",
                                    "2": "25",
                                    "3": "143.20"
                                },
                                {
                                    "0": "2007",
                                    "1": "11",
                                    "2": "26",
                                    "3": "1948.50"
                                },
                                {
                                    "0": "2007",
                                    "1": "11",
                                    "2": "27",
                                    "3": "5072.00"
                                },
                                {
                                    "0": "2007",
                                    "1": "11",
                                    "2": "28",
                                    "3": "1964.60"
                                },
                                {
                                    "0": "2007",
                                    "1": "11",
                                    "2": "NULL",
                                    "3": "43533.80"
                                },
                                {
                                    "0": "2007",
                                    "1": "12",
                                    "2": "1",
                                    "3": "2917.00"
                                },
                                {
                                    "0": "2007",
                                    "1": "12",
                                    "2": "2",
                                    "3": "4844.00"
                                },
                                {
                                    "0": "2007",
                                    "1": "12",
                                    "2": "3",
                                    "3": "2902.00"
                                },
                                {
                                    "0": "2007",
                                    "1": "12",
                                    "2": "4",
                                    "3": "1515.60"
                                },
                                {
                                    "0": "2007",
                                    "1": "12",
                                    "2": "5",
                                    "3": "2338.00"
                                },
                                {
                                    "0": "2007",
                                    "1": "12",
                                    "2": "8",
                                    "3": "3161.28"
                                },
                                {
                                    "0": "2007",
                                    "1": "12",
                                    "2": "9",
                                    "3": "236.25"
                                },
                                {
                                    "0": "2007",
                                    "1": "12",
                                    "2": "10",
                                    "3": "3947.22"
                                },
                                {
                                    "0": "2007",
                                    "1": "12",
                                    "2": "11",
                                    "3": "2899.15"
                                },
                                {
                                    "0": "2007",
                                    "1": "12",
                                    "2": "12",
                                    "3": "228.00"
                                },
                                {
                                    "0": "2007",
                                    "1": "12",
                                    "2": "15",
                                    "3": "6859.28"
                                },
                                {
                                    "0": "2007",
                                    "1": "12",
                                    "2": "16",
                                    "3": "2151.50"
                                },
                                {
                                    "0": "2007",
                                    "1": "12",
                                    "2": "17",
                                    "3": "988.38"
                                },
                                {
                                    "0": "2007",
                                    "1": "12",
                                    "2": "18",
                                    "3": "3318.00"
                                },
                                {
                                    "0": "2007",
                                    "1": "12",
                                    "2": "19",
                                    "3": "4153.84"
                                },
                                {
                                    "0": "2007",
                                    "1": "12",
                                    "2": "22",
                                    "3": "5141.00"
                                },
                                {
                                    "0": "2007",
                                    "1": "12",
                                    "2": "23",
                                    "3": "2229.61"
                                },
                                {
                                    "0": "2007",
                                    "1": "12",
                                    "2": "24",
                                    "3": "2663.86"
                                },
                                {
                                    "0": "2007",
                                    "1": "12",
                                    "2": "25",
                                    "3": "2761.36"
                                },
                                {
                                    "0": "2007",
                                    "1": "12",
                                    "2": "26",
                                    "3": "3469.04"
                                },
                                {
                                    "0": "2007",
                                    "1": "12",
                                    "2": "29",
                                    "3": "5969.66"
                                },
                                {
                                    "0": "2007",
                                    "1": "12",
                                    "2": "30",
                                    "3": "6246.41"
                                },
                                {
                                    "0": "2007",
                                    "1": "12",
                                    "2": "31",
                                    "3": "458.00"
                                },
                                {
                                    "0": "2007",
                                    "1": "12",
                                    "2": "NULL",
                                    "3": "71398.44"
                                },
                                {
                                    "0": "2007",
                                    "1": "NULL",
                                    "2": "NULL",
                                    "3": "617085.30"
                                },
                                {
                                    "0": "2008",
                                    "1": "1",
                                    "2": "1",
                                    "3": "1738.00"
                                },
                                {
                                    "0": "2008",
                                    "1": "1",
                                    "2": "2",
                                    "3": "2544.80"
                                },
                                {
                                    "0": "2008",
                                    "1": "1",
                                    "2": "5",
                                    "3": "2430.85"
                                },
                                {
                                    "0": "2008",
                                    "1": "1",
                                    "2": "6",
                                    "3": "19399.30"
                                },
                                {
                                    "0": "2008",
                                    "1": "1",
                                    "2": "7",
                                    "3": "2450.00"
                                },
                                {
                                    "0": "2008",
                                    "1": "1",
                                    "2": "8",
                                    "3": "915.90"
                                },
                                {
                                    "0": "2008",
                                    "1": "1",
                                    "2": "9",
                                    "3": "4107.56"
                                },
                                {
                                    "0": "2008",
                                    "1": "1",
                                    "2": "12",
                                    "3": "1573.00"
                                },
                                {
                                    "0": "2008",
                                    "1": "1",
                                    "2": "13",
                                    "3": "4670.00"
                                },
                                {
                                    "0": "2008",
                                    "1": "1",
                                    "2": "14",
                                    "3": "3159.51"
                                },
                                {
                                    "0": "2008",
                                    "1": "1",
                                    "2": "15",
                                    "3": "3185.44"
                                },
                                {
                                    "0": "2008",
                                    "1": "1",
                                    "2": "16",
                                    "3": "5770.00"
                                },
                                {
                                    "0": "2008",
                                    "1": "1",
                                    "2": "19",
                                    "3": "2977.13"
                                },
                                {
                                    "0": "2008",
                                    "1": "1",
                                    "2": "20",
                                    "3": "5556.00"
                                },
                                {
                                    "0": "2008",
                                    "1": "1",
                                    "2": "21",
                                    "3": "4706.70"
                                },
                                {
                                    "0": "2008",
                                    "1": "1",
                                    "2": "22",
                                    "3": "6043.92"
                                },
                                {
                                    "0": "2008",
                                    "1": "1",
                                    "2": "23",
                                    "3": "2528.32"
                                },
                                {
                                    "0": "2008",
                                    "1": "1",
                                    "2": "26",
                                    "3": "5587.00"
                                },
                                {
                                    "0": "2008",
                                    "1": "1",
                                    "2": "27",
                                    "3": "5819.39"
                                },
                                {
                                    "0": "2008",
                                    "1": "1",
                                    "2": "28",
                                    "3": "2708.21"
                                },
                                {
                                    "0": "2008",
                                    "1": "1",
                                    "2": "29",
                                    "3": "2246.69"
                                },
                                {
                                    "0": "2008",
                                    "1": "1",
                                    "2": "30",
                                    "3": "4104.40"
                                },
                                {
                                    "0": "2008",
                                    "1": "1",
                                    "2": "NULL",
                                    "3": "94222.12"
                                },
                                {
                                    "0": "2008",
                                    "1": "2",
                                    "2": "2",
                                    "3": "17110.65"
                                },
                                {
                                    "0": "2008",
                                    "1": "2",
                                    "2": "3",
                                    "3": "1194.60"
                                },
                                {
                                    "0": "2008",
                                    "1": "2",
                                    "2": "4",
                                    "3": "3710.60"
                                },
                                {
                                    "0": "2008",
                                    "1": "2",
                                    "2": "5",
                                    "3": "4037.69"
                                },
                                {
                                    "0": "2008",
                                    "1": "2",
                                    "2": "6",
                                    "3": "1356.35"
                                },
                                {
                                    "0": "2008",
                                    "1": "2",
                                    "2": "9",
                                    "3": "2872.13"
                                },
                                {
                                    "0": "2008",
                                    "1": "2",
                                    "2": "10",
                                    "3": "3650.30"
                                },
                                {
                                    "0": "2008",
                                    "1": "2",
                                    "2": "11",
                                    "3": "1042.64"
                                },
                                {
                                    "0": "2008",
                                    "1": "2",
                                    "2": "12",
                                    "3": "2623.07"
                                },
                                {
                                    "0": "2008",
                                    "1": "2",
                                    "2": "13",
                                    "3": "3197.50"
                                },
                                {
                                    "0": "2008",
                                    "1": "2",
                                    "2": "16",
                                    "3": "12845.10"
                                },
                                {
                                    "0": "2008",
                                    "1": "2",
                                    "2": "17",
                                    "3": "2458.93"
                                },
                                {
                                    "0": "2008",
                                    "1": "2",
                                    "2": "18",
                                    "3": "14634.61"
                                },
                                {
                                    "0": "2008",
                                    "1": "2",
                                    "2": "19",
                                    "3": "11585.74"
                                },
                                {
                                    "0": "2008",
                                    "1": "2",
                                    "2": "20",
                                    "3": "186.15"
                                },
                                {
                                    "0": "2008",
                                    "1": "2",
                                    "2": "23",
                                    "3": "1797.93"
                                },
                                {
                                    "0": "2008",
                                    "1": "2",
                                    "2": "24",
                                    "3": "3198.30"
                                },
                                {
                                    "0": "2008",
                                    "1": "2",
                                    "2": "25",
                                    "3": "536.00"
                                },
                                {
                                    "0": "2008",
                                    "1": "2",
                                    "2": "26",
                                    "3": "9613.30"
                                },
                                {
                                    "0": "2008",
                                    "1": "2",
                                    "2": "27",
                                    "3": "1763.70"
                                },
                                {
                                    "0": "2008",
                                    "1": "2",
                                    "2": "NULL",
                                    "3": "99415.29"
                                },
                                {
                                    "0": "2008",
                                    "1": "3",
                                    "2": "2",
                                    "3": "2936.19"
                                },
                                {
                                    "0": "2008",
                                    "1": "3",
                                    "2": "3",
                                    "3": "3817.30"
                                },
                                {
                                    "0": "2008",
                                    "1": "3",
                                    "2": "4",
                                    "3": "2825.25"
                                },
                                {
                                    "0": "2008",
                                    "1": "3",
                                    "2": "5",
                                    "3": "2112.25"
                                },
                                {
                                    "0": "2008",
                                    "1": "3",
                                    "2": "6",
                                    "3": "5763.93"
                                },
                                {
                                    "0": "2008",
                                    "1": "3",
                                    "2": "9",
                                    "3": "1575.50"
                                },
                                {
                                    "0": "2008",
                                    "1": "3",
                                    "2": "10",
                                    "3": "4014.18"
                                },
                                {
                                    "0": "2008",
                                    "1": "3",
                                    "2": "11",
                                    "3": "5642.75"
                                },
                                {
                                    "0": "2008",
                                    "1": "3",
                                    "2": "12",
                                    "3": "2677.83"
                                },
                                {
                                    "0": "2008",
                                    "1": "3",
                                    "2": "13",
                                    "3": "7004.25"
                                },
                                {
                                    "0": "2008",
                                    "1": "3",
                                    "2": "16",
                                    "3": "5481.21"
                                },
                                {
                                    "0": "2008",
                                    "1": "3",
                                    "2": "17",
                                    "3": "2410.94"
                                },
                                {
                                    "0": "2008",
                                    "1": "3",
                                    "2": "18",
                                    "3": "2675.45"
                                },
                                {
                                    "0": "2008",
                                    "1": "3",
                                    "2": "19",
                                    "3": "5027.05"
                                },
                                {
                                    "0": "2008",
                                    "1": "3",
                                    "2": "20",
                                    "3": "3998.96"
                                },
                                {
                                    "0": "2008",
                                    "1": "3",
                                    "2": "23",
                                    "3": "2426.40"
                                },
                                {
                                    "0": "2008",
                                    "1": "3",
                                    "2": "24",
                                    "3": "2500.11"
                                },
                                {
                                    "0": "2008",
                                    "1": "3",
                                    "2": "25",
                                    "3": "2068.50"
                                },
                                {
                                    "0": "2008",
                                    "1": "3",
                                    "2": "26",
                                    "3": "8349.70"
                                },
                                {
                                    "0": "2008",
                                    "1": "3",
                                    "2": "27",
                                    "3": "17792.90"
                                },
                                {
                                    "0": "2008",
                                    "1": "3",
                                    "2": "30",
                                    "3": "6053.13"
                                },
                                {
                                    "0": "2008",
                                    "1": "3",
                                    "2": "31",
                                    "3": "7700.40"
                                },
                                {
                                    "0": "2008",
                                    "1": "3",
                                    "2": "NULL",
                                    "3": "104854.18"
                                },
                                {
                                    "0": "2008",
                                    "1": "4",
                                    "2": "1",
                                    "3": "11549.89"
                                },
                                {
                                    "0": "2008",
                                    "1": "4",
                                    "2": "2",
                                    "3": "2696.50"
                                },
                                {
                                    "0": "2008",
                                    "1": "4",
                                    "2": "3",
                                    "3": "3768.95"
                                },
                                {
                                    "0": "2008",
                                    "1": "4",
                                    "2": "6",
                                    "3": "5809.85"
                                },
                                {
                                    "0": "2008",
                                    "1": "4",
                                    "2": "7",
                                    "3": "1211.07"
                                },
                                {
                                    "0": "2008",
                                    "1": "4",
                                    "2": "8",
                                    "3": "7931.30"
                                },
                                {
                                    "0": "2008",
                                    "1": "4",
                                    "2": "9",
                                    "3": "4764.80"
                                },
                                {
                                    "0": "2008",
                                    "1": "4",
                                    "2": "10",
                                    "3": "1357.03"
                                },
                                {
                                    "0": "2008",
                                    "1": "4",
                                    "2": "13",
                                    "3": "8401.00"
                                },
                                {
                                    "0": "2008",
                                    "1": "4",
                                    "2": "14",
                                    "3": "9840.64"
                                },
                                {
                                    "0": "2008",
                                    "1": "4",
                                    "2": "15",
                                    "3": "3266.81"
                                },
                                {
                                    "0": "2008",
                                    "1": "4",
                                    "2": "16",
                                    "3": "4324.53"
                                },
                                {
                                    "0": "2008",
                                    "1": "4",
                                    "2": "17",
                                    "3": "27143.85"
                                },
                                {
                                    "0": "2008",
                                    "1": "4",
                                    "2": "20",
                                    "3": "3985.90"
                                },
                                {
                                    "0": "2008",
                                    "1": "4",
                                    "2": "21",
                                    "3": "3882.60"
                                },
                                {
                                    "0": "2008",
                                    "1": "4",
                                    "2": "22",
                                    "3": "2588.75"
                                },
                                {
                                    "0": "2008",
                                    "1": "4",
                                    "2": "23",
                                    "3": "3386.90"
                                },
                                {
                                    "0": "2008",
                                    "1": "4",
                                    "2": "24",
                                    "3": "1616.48"
                                },
                                {
                                    "0": "2008",
                                    "1": "4",
                                    "2": "27",
                                    "3": "5233.00"
                                },
                                {
                                    "0": "2008",
                                    "1": "4",
                                    "2": "28",
                                    "3": "5772.50"
                                },
                                {
                                    "0": "2008",
                                    "1": "4",
                                    "2": "29",
                                    "3": "2741.00"
                                },
                                {
                                    "0": "2008",
                                    "1": "4",
                                    "2": "30",
                                    "3": "2525.35"
                                },
                                {
                                    "0": "2008",
                                    "1": "4",
                                    "2": "NULL",
                                    "3": "123798.70"
                                },
                                {
                                    "0": "2008",
                                    "1": "5",
                                    "2": "1",
                                    "3": "5448.57"
                                },
                                {
                                    "0": "2008",
                                    "1": "5",
                                    "2": "4",
                                    "3": "2473.93"
                                },
                                {
                                    "0": "2008",
                                    "1": "5",
                                    "2": "5",
                                    "3": "7632.48"
                                },
                                {
                                    "0": "2008",
                                    "1": "5",
                                    "2": "6",
                                    "3": "2778.66"
                                },
                                {
                                    "0": "2008",
                                    "1": "5",
                                    "2": "NULL",
                                    "3": "18333.64"
                                },
                                {
                                    "0": "2008",
                                    "1": "NULL",
                                    "2": "NULL",
                                    "3": "440623.93"
                                },
                                {
                                    "0": "NULL",
                                    "1": "NULL",
                                    "2": "NULL",
                                    "3": "1265793.22"
                                }
                            ]
                        },
                        "text/html": [
                            "<table>",
                            "<tr><th>orderyear</th><th>ordermonth</th><th>orderday</th><th>salesvalue</th></tr>",
                            "<tr><td>2006</td><td>7</td><td>4</td><td>440.00</td></tr>",
                            "<tr><td>2006</td><td>7</td><td>5</td><td>1863.40</td></tr>",
                            "<tr><td>2006</td><td>7</td><td>8</td><td>2206.66</td></tr>",
                            "<tr><td>2006</td><td>7</td><td>9</td><td>3597.90</td></tr>",
                            "<tr><td>2006</td><td>7</td><td>10</td><td>1444.80</td></tr>",
                            "<tr><td>2006</td><td>7</td><td>11</td><td>556.62</td></tr>",
                            "<tr><td>2006</td><td>7</td><td>12</td><td>2490.50</td></tr>",
                            "<tr><td>2006</td><td>7</td><td>15</td><td>517.80</td></tr>",
                            "<tr><td>2006</td><td>7</td><td>16</td><td>1119.90</td></tr>",
                            "<tr><td>2006</td><td>7</td><td>17</td><td>1614.88</td></tr>",
                            "<tr><td>2006</td><td>7</td><td>18</td><td>100.80</td></tr>",
                            "<tr><td>2006</td><td>7</td><td>19</td><td>1952.65</td></tr>",
                            "<tr><td>2006</td><td>7</td><td>22</td><td>584.00</td></tr>",
                            "<tr><td>2006</td><td>7</td><td>23</td><td>1873.80</td></tr>",
                            "<tr><td>2006</td><td>7</td><td>24</td><td>695.63</td></tr>",
                            "<tr><td>2006</td><td>7</td><td>25</td><td>1176.00</td></tr>",
                            "<tr><td>2006</td><td>7</td><td>26</td><td>346.56</td></tr>",
                            "<tr><td>2006</td><td>7</td><td>29</td><td>3536.60</td></tr>",
                            "<tr><td>2006</td><td>7</td><td>30</td><td>1101.20</td></tr>",
                            "<tr><td>2006</td><td>7</td><td>31</td><td>642.20</td></tr>",
                            "<tr><td>2006</td><td>7</td><td>NULL</td><td>27861.90</td></tr>",
                            "<tr><td>2006</td><td>8</td><td>1</td><td>1424.00</td></tr>",
                            "<tr><td>2006</td><td>8</td><td>2</td><td>1456.00</td></tr>",
                            "<tr><td>2006</td><td>8</td><td>5</td><td>2037.28</td></tr>",
                            "<tr><td>2006</td><td>8</td><td>6</td><td>538.60</td></tr>",
                            "<tr><td>2006</td><td>8</td><td>7</td><td>291.84</td></tr>",
                            "<tr><td>2006</td><td>8</td><td>8</td><td>420.00</td></tr>",
                            "<tr><td>2006</td><td>8</td><td>9</td><td>1200.80</td></tr>",
                            "<tr><td>2006</td><td>8</td><td>12</td><td>1488.80</td></tr>",
                            "<tr><td>2006</td><td>8</td><td>13</td><td>351.00</td></tr>",
                            "<tr><td>2006</td><td>8</td><td>14</td><td>699.70</td></tr>",
                            "<tr><td>2006</td><td>8</td><td>15</td><td>155.40</td></tr>",
                            "<tr><td>2006</td><td>8</td><td>16</td><td>1414.80</td></tr>",
                            "<tr><td>2006</td><td>8</td><td>19</td><td>1170.38</td></tr>",
                            "<tr><td>2006</td><td>8</td><td>20</td><td>1743.36</td></tr>",
                            "<tr><td>2006</td><td>8</td><td>21</td><td>3016.00</td></tr>",
                            "<tr><td>2006</td><td>8</td><td>22</td><td>819.00</td></tr>",
                            "<tr><td>2006</td><td>8</td><td>23</td><td>80.10</td></tr>",
                            "<tr><td>2006</td><td>8</td><td>26</td><td>479.40</td></tr>",
                            "<tr><td>2006</td><td>8</td><td>27</td><td>2666.52</td></tr>",
                            "<tr><td>2006</td><td>8</td><td>28</td><td>1296.00</td></tr>",
                            "<tr><td>2006</td><td>8</td><td>29</td><td>848.70</td></tr>",
                            "<tr><td>2006</td><td>8</td><td>30</td><td>1887.60</td></tr>",
                            "<tr><td>2006</td><td>8</td><td>NULL</td><td>25485.28</td></tr>",
                            "<tr><td>2006</td><td>9</td><td>2</td><td>121.60</td></tr>",
                            "<tr><td>2006</td><td>9</td><td>3</td><td>1050.60</td></tr>",
                            "<tr><td>2006</td><td>9</td><td>4</td><td>1420.00</td></tr>",
                            "<tr><td>2006</td><td>9</td><td>5</td><td>2645.00</td></tr>",
                            "<tr><td>2006</td><td>9</td><td>6</td><td>349.50</td></tr>",
                            "<tr><td>2006</td><td>9</td><td>9</td><td>1363.00</td></tr>",
                            "<tr><td>2006</td><td>9</td><td>10</td><td>2708.80</td></tr>",
                            "<tr><td>2006</td><td>9</td><td>11</td><td>1117.80</td></tr>",
                            "<tr><td>2006</td><td>9</td><td>12</td><td>954.40</td></tr>",
                            "<tr><td>2006</td><td>9</td><td>13</td><td>3741.30</td></tr>",
                            "<tr><td>2006</td><td>9</td><td>16</td><td>498.50</td></tr>",
                            "<tr><td>2006</td><td>9</td><td>17</td><td>424.00</td></tr>",
                            "<tr><td>2006</td><td>9</td><td>18</td><td>88.80</td></tr>",
                            "<tr><td>2006</td><td>9</td><td>19</td><td>1762.00</td></tr>",
                            "<tr><td>2006</td><td>9</td><td>20</td><td>604.80</td></tr>",
                            "<tr><td>2006</td><td>9</td><td>23</td><td>1614.80</td></tr>",
                            "<tr><td>2006</td><td>9</td><td>24</td><td>182.40</td></tr>",
                            "<tr><td>2006</td><td>9</td><td>25</td><td>2094.30</td></tr>",
                            "<tr><td>2006</td><td>9</td><td>26</td><td>516.80</td></tr>",
                            "<tr><td>2006</td><td>9</td><td>27</td><td>2835.00</td></tr>",
                            "<tr><td>2006</td><td>9</td><td>30</td><td>288.00</td></tr>",
                            "<tr><td>2006</td><td>9</td><td>NULL</td><td>26381.40</td></tr>",
                            "<tr><td>2006</td><td>10</td><td>1</td><td>240.40</td></tr>",
                            "<tr><td>2006</td><td>10</td><td>2</td><td>1191.20</td></tr>",
                            "<tr><td>2006</td><td>10</td><td>3</td><td>660.00</td></tr>",
                            "<tr><td>2006</td><td>10</td><td>4</td><td>112.00</td></tr>",
                            "<tr><td>2006</td><td>10</td><td>7</td><td>164.40</td></tr>",
                            "<tr><td>2006</td><td>10</td><td>8</td><td>5275.72</td></tr>",
                            "<tr><td>2006</td><td>10</td><td>9</td><td>1497.00</td></tr>",
                            "<tr><td>2006</td><td>10</td><td>10</td><td>982.00</td></tr>",
                            "<tr><td>2006</td><td>10</td><td>11</td><td>1810.00</td></tr>",
                            "<tr><td>2006</td><td>10</td><td>14</td><td>1168.00</td></tr>",
                            "<tr><td>2006</td><td>10</td><td>15</td><td>4578.43</td></tr>",
                            "<tr><td>2006</td><td>10</td><td>16</td><td>1737.50</td></tr>",
                            "<tr><td>2006</td><td>10</td><td>17</td><td>1786.88</td></tr>",
                            "<tr><td>2006</td><td>10</td><td>18</td><td>877.20</td></tr>",
                            "<tr><td>2006</td><td>10</td><td>21</td><td>144.80</td></tr>",
                            "<tr><td>2006</td><td>10</td><td>22</td><td>2036.16</td></tr>",
                            "<tr><td>2006</td><td>10</td><td>23</td><td>285.12</td></tr>",
                            "<tr><td>2006</td><td>10</td><td>24</td><td>2467.00</td></tr>",
                            "<tr><td>2006</td><td>10</td><td>25</td><td>934.50</td></tr>",
                            "<tr><td>2006</td><td>10</td><td>28</td><td>3354.00</td></tr>",
                            "<tr><td>2006</td><td>10</td><td>29</td><td>2788.78</td></tr>",
                            "<tr><td>2006</td><td>10</td><td>30</td><td>1840.64</td></tr>",
                            "<tr><td>2006</td><td>10</td><td>31</td><td>1584.00</td></tr>",
                            "<tr><td>2006</td><td>10</td><td>NULL</td><td>37515.73</td></tr>",
                            "<tr><td>2006</td><td>11</td><td>1</td><td>2296.00</td></tr>",
                            "<tr><td>2006</td><td>11</td><td>4</td><td>2924.80</td></tr>",
                            "<tr><td>2006</td><td>11</td><td>5</td><td>1618.88</td></tr>",
                            "<tr><td>2006</td><td>11</td><td>6</td><td>814.42</td></tr>",
                            "<tr><td>2006</td><td>11</td><td>7</td><td>363.60</td></tr>",
                            "<tr><td>2006</td><td>11</td><td>8</td><td>141.60</td></tr>",
                            "<tr><td>2006</td><td>11</td><td>11</td><td>6040.79</td></tr>",
                            "<tr><td>2006</td><td>11</td><td>12</td><td>136.30</td></tr>",
                            "<tr><td>2006</td><td>11</td><td>13</td><td>8593.28</td></tr>",
                            "<tr><td>2006</td><td>11</td><td>14</td><td>568.80</td></tr>",
                            "<tr><td>2006</td><td>11</td><td>15</td><td>480.00</td></tr>",
                            "<tr><td>2006</td><td>11</td><td>18</td><td>1106.40</td></tr>",
                            "<tr><td>2006</td><td>11</td><td>19</td><td>1167.68</td></tr>",
                            "<tr><td>2006</td><td>11</td><td>20</td><td>429.40</td></tr>",
                            "<tr><td>2006</td><td>11</td><td>21</td><td>3471.68</td></tr>",
                            "<tr><td>2006</td><td>11</td><td>22</td><td>9436.44</td></tr>",
                            "<tr><td>2006</td><td>11</td><td>25</td><td>1549.60</td></tr>",
                            "<tr><td>2006</td><td>11</td><td>26</td><td>1397.20</td></tr>",
                            "<tr><td>2006</td><td>11</td><td>27</td><td>403.20</td></tr>",
                            "<tr><td>2006</td><td>11</td><td>28</td><td>970.20</td></tr>",
                            "<tr><td>2006</td><td>11</td><td>29</td><td>1689.78</td></tr>",
                            "<tr><td>2006</td><td>11</td><td>NULL</td><td>45600.05</td></tr>",
                            "<tr><td>2006</td><td>12</td><td>2</td><td>2390.40</td></tr>",
                            "<tr><td>2006</td><td>12</td><td>3</td><td>1190.56</td></tr>",
                            "<tr><td>2006</td><td>12</td><td>4</td><td>9210.90</td></tr>",
                            "<tr><td>2006</td><td>12</td><td>5</td><td>1825.40</td></tr>",
                            "<tr><td>2006</td><td>12</td><td>6</td><td>338.00</td></tr>",
                            "<tr><td>2006</td><td>12</td><td>9</td><td>1262.60</td></tr>",
                            "<tr><td>2006</td><td>12</td><td>10</td><td>103.20</td></tr>",
                            "<tr><td>2006</td><td>12</td><td>11</td><td>863.28</td></tr>",
                            "<tr><td>2006</td><td>12</td><td>12</td><td>1425.82</td></tr>",
                            "<tr><td>2006</td><td>12</td><td>13</td><td>2900.00</td></tr>",
                            "<tr><td>2006</td><td>12</td><td>16</td><td>3121.40</td></tr>",
                            "<tr><td>2006</td><td>12</td><td>17</td><td>691.20</td></tr>",
                            "<tr><td>2006</td><td>12</td><td>18</td><td>1224.40</td></tr>",
                            "<tr><td>2006</td><td>12</td><td>19</td><td>1228.80</td></tr>",
                            "<tr><td>2006</td><td>12</td><td>20</td><td>1832.80</td></tr>",
                            "<tr><td>2006</td><td>12</td><td>23</td><td>2177.28</td></tr>",
                            "<tr><td>2006</td><td>12</td><td>24</td><td>1440.00</td></tr>",
                            "<tr><td>2006</td><td>12</td><td>25</td><td>2998.95</td></tr>",
                            "<tr><td>2006</td><td>12</td><td>26</td><td>2122.92</td></tr>",
                            "<tr><td>2006</td><td>12</td><td>27</td><td>2620.52</td></tr>",
                            "<tr><td>2006</td><td>12</td><td>30</td><td>2505.60</td></tr>",
                            "<tr><td>2006</td><td>12</td><td>31</td><td>1765.60</td></tr>",
                            "<tr><td>2006</td><td>12</td><td>NULL</td><td>45239.63</td></tr>",
                            "<tr><td>2006</td><td>NULL</td><td>NULL</td><td>208083.99</td></tr>",
                            "<tr><td>2007</td><td>1</td><td>1</td><td>6931.60</td></tr>",
                            "<tr><td>2007</td><td>1</td><td>2</td><td>2713.50</td></tr>",
                            "<tr><td>2007</td><td>1</td><td>3</td><td>2446.27</td></tr>",
                            "<tr><td>2007</td><td>1</td><td>6</td><td>400.00</td></tr>",
                            "<tr><td>2007</td><td>1</td><td>7</td><td>3024.78</td></tr>",
                            "<tr><td>2007</td><td>1</td><td>8</td><td>1622.40</td></tr>",
                            "<tr><td>2007</td><td>1</td><td>9</td><td>319.20</td></tr>",
                            "<tr><td>2007</td><td>1</td><td>10</td><td>1768.80</td></tr>",
                            "<tr><td>2007</td><td>1</td><td>13</td><td>334.80</td></tr>",
                            "<tr><td>2007</td><td>1</td><td>14</td><td>2348.03</td></tr>",
                            "<tr><td>2007</td><td>1</td><td>15</td><td>102.40</td></tr>",
                            "<tr><td>2007</td><td>1</td><td>16</td><td>11908.40</td></tr>",
                            "<tr><td>2007</td><td>1</td><td>17</td><td>1814.80</td></tr>",
                            "<tr><td>2007</td><td>1</td><td>20</td><td>2097.60</td></tr>",
                            "<tr><td>2007</td><td>1</td><td>21</td><td>2902.11</td></tr>",
                            "<tr><td>2007</td><td>1</td><td>22</td><td>49.80</td></tr>",
                            "<tr><td>2007</td><td>1</td><td>23</td><td>10214.56</td></tr>",
                            "<tr><td>2007</td><td>1</td><td>24</td><td>360.00</td></tr>",
                            "<tr><td>2007</td><td>1</td><td>27</td><td>989.20</td></tr>",
                            "<tr><td>2007</td><td>1</td><td>28</td><td>192.00</td></tr>",
                            "<tr><td>2007</td><td>1</td><td>29</td><td>1441.38</td></tr>",
                            "<tr><td>2007</td><td>1</td><td>30</td><td>6791.45</td></tr>",
                            "<tr><td>2007</td><td>1</td><td>31</td><td>485.00</td></tr>",
                            "<tr><td>2007</td><td>1</td><td>NULL</td><td>61258.08</td></tr>",
                            "<tr><td>2007</td><td>2</td><td>3</td><td>1172.32</td></tr>",
                            "<tr><td>2007</td><td>2</td><td>4</td><td>631.60</td></tr>",
                            "<tr><td>2007</td><td>2</td><td>5</td><td>2387.52</td></tr>",
                            "<tr><td>2007</td><td>2</td><td>6</td><td>454.00</td></tr>",
                            "<tr><td>2007</td><td>2</td><td>7</td><td>1078.00</td></tr>",
                            "<tr><td>2007</td><td>2</td><td>10</td><td>6679.14</td></tr>",
                            "<tr><td>2007</td><td>2</td><td>11</td><td>1792.00</td></tr>",
                            "<tr><td>2007</td><td>2</td><td>12</td><td>1549.14</td></tr>",
                            "<tr><td>2007</td><td>2</td><td>13</td><td>174.90</td></tr>",
                            "<tr><td>2007</td><td>2</td><td>14</td><td>1160.64</td></tr>",
                            "<tr><td>2007</td><td>2</td><td>17</td><td>443.40</td></tr>",
                            "<tr><td>2007</td><td>2</td><td>18</td><td>1838.20</td></tr>",
                            "<tr><td>2007</td><td>2</td><td>19</td><td>4274.78</td></tr>",
                            "<tr><td>2007</td><td>2</td><td>20</td><td>2018.50</td></tr>",
                            "<tr><td>2007</td><td>2</td><td>21</td><td>738.90</td></tr>",
                            "<tr><td>2007</td><td>2</td><td>24</td><td>2684.00</td></tr>",
                            "<tr><td>2007</td><td>2</td><td>25</td><td>2141.60</td></tr>",
                            "<tr><td>2007</td><td>2</td><td>26</td><td>3891.00</td></tr>",
                            "<tr><td>2007</td><td>2</td><td>27</td><td>1659.20</td></tr>",
                            "<tr><td>2007</td><td>2</td><td>28</td><td>1714.80</td></tr>",
                            "<tr><td>2007</td><td>2</td><td>NULL</td><td>38483.64</td></tr>",
                            "<tr><td>2007</td><td>3</td><td>3</td><td>156.00</td></tr>",
                            "<tr><td>2007</td><td>3</td><td>4</td><td>2322.58</td></tr>",
                            "<tr><td>2007</td><td>3</td><td>5</td><td>2518.00</td></tr>",
                            "<tr><td>2007</td><td>3</td><td>6</td><td>451.20</td></tr>",
                            "<tr><td>2007</td><td>3</td><td>7</td><td>717.60</td></tr>",
                            "<tr><td>2007</td><td>3</td><td>10</td><td>956.68</td></tr>",
                            "<tr><td>2007</td><td>3</td><td>11</td><td>3148.80</td></tr>",
                            "<tr><td>2007</td><td>3</td><td>12</td><td>1036.80</td></tr>",
                            "<tr><td>2007</td><td>3</td><td>13</td><td>1479.50</td></tr>",
                            "<tr><td>2007</td><td>3</td><td>14</td><td>1505.18</td></tr>",
                            "<tr><td>2007</td><td>3</td><td>17</td><td>738.48</td></tr>",
                            "<tr><td>2007</td><td>3</td><td>18</td><td>471.20</td></tr>",
                            "<tr><td>2007</td><td>3</td><td>19</td><td>10495.60</td></tr>",
                            "<tr><td>2007</td><td>3</td><td>20</td><td>2228.00</td></tr>",
                            "<tr><td>2007</td><td>3</td><td>21</td><td>147.00</td></tr>",
                            "<tr><td>2007</td><td>3</td><td>24</td><td>1055.00</td></tr>",
                            "<tr><td>2007</td><td>3</td><td>25</td><td>1584.00</td></tr>",
                            "<tr><td>2007</td><td>3</td><td>26</td><td>2161.70</td></tr>",
                            "<tr><td>2007</td><td>3</td><td>27</td><td>1512.00</td></tr>",
                            "<tr><td>2007</td><td>3</td><td>28</td><td>439.20</td></tr>",
                            "<tr><td>2007</td><td>3</td><td>31</td><td>3422.71</td></tr>",
                            "<tr><td>2007</td><td>3</td><td>NULL</td><td>38547.23</td></tr>",
                            "<tr><td>2007</td><td>4</td><td>1</td><td>851.20</td></tr>",
                            "<tr><td>2007</td><td>4</td><td>2</td><td>1520.40</td></tr>",
                            "<tr><td>2007</td><td>4</td><td>3</td><td>278.00</td></tr>",
                            "<tr><td>2007</td><td>4</td><td>4</td><td>1570.60</td></tr>",
                            "<tr><td>2007</td><td>4</td><td>7</td><td>575.00</td></tr>",
                            "<tr><td>2007</td><td>4</td><td>8</td><td>1412.00</td></tr>",
                            "<tr><td>2007</td><td>4</td><td>9</td><td>672.26</td></tr>",
                            "<tr><td>2007</td><td>4</td><td>10</td><td>816.30</td></tr>",
                            "<tr><td>2007</td><td>4</td><td>11</td><td>3437.00</td></tr>",
                            "<tr><td>2007</td><td>4</td><td>14</td><td>147.90</td></tr>",
                            "<tr><td>2007</td><td>4</td><td>15</td><td>1164.86</td></tr>",
                            "<tr><td>2007</td><td>4</td><td>16</td><td>240.00</td></tr>",
                            "<tr><td>2007</td><td>4</td><td>17</td><td>136.80</td></tr>",
                            "<tr><td>2007</td><td>4</td><td>18</td><td>7257.54</td></tr>",
                            "<tr><td>2007</td><td>4</td><td>21</td><td>525.30</td></tr>",
                            "<tr><td>2007</td><td>4</td><td>22</td><td>10565.45</td></tr>",
                            "<tr><td>2007</td><td>4</td><td>23</td><td>9921.30</td></tr>",
                            "<tr><td>2007</td><td>4</td><td>24</td><td>2733.05</td></tr>",
                            "<tr><td>2007</td><td>4</td><td>25</td><td>4150.05</td></tr>",
                            "<tr><td>2007</td><td>4</td><td>28</td><td>2314.20</td></tr>",
                            "<tr><td>2007</td><td>4</td><td>29</td><td>425.50</td></tr>",
                            "<tr><td>2007</td><td>4</td><td>30</td><td>2318.24</td></tr>",
                            "<tr><td>2007</td><td>4</td><td>NULL</td><td>53032.95</td></tr>",
                            "<tr><td>2007</td><td>5</td><td>1</td><td>5636.96</td></tr>",
                            "<tr><td>2007</td><td>5</td><td>2</td><td>818.40</td></tr>",
                            "<tr><td>2007</td><td>5</td><td>5</td><td>2654.40</td></tr>",
                            "<tr><td>2007</td><td>5</td><td>6</td><td>392.20</td></tr>",
                            "<tr><td>2007</td><td>5</td><td>7</td><td>946.00</td></tr>",
                            "<tr><td>2007</td><td>5</td><td>8</td><td>4290.00</td></tr>",
                            "<tr><td>2007</td><td>5</td><td>9</td><td>796.35</td></tr>",
                            "<tr><td>2007</td><td>5</td><td>12</td><td>2687.90</td></tr>",
                            "<tr><td>2007</td><td>5</td><td>13</td><td>1940.85</td></tr>",
                            "<tr><td>2007</td><td>5</td><td>14</td><td>3468.80</td></tr>",
                            "<tr><td>2007</td><td>5</td><td>15</td><td>139.80</td></tr>",
                            "<tr><td>2007</td><td>5</td><td>16</td><td>355.50</td></tr>",
                            "<tr><td>2007</td><td>5</td><td>19</td><td>12138.22</td></tr>",
                            "<tr><td>2007</td><td>5</td><td>20</td><td>469.11</td></tr>",
                            "<tr><td>2007</td><td>5</td><td>21</td><td>1921.70</td></tr>",
                            "<tr><td>2007</td><td>5</td><td>22</td><td>210.00</td></tr>",
                            "<tr><td>2007</td><td>5</td><td>23</td><td>4604.80</td></tr>",
                            "<tr><td>2007</td><td>5</td><td>26</td><td>240.10</td></tr>",
                            "<tr><td>2007</td><td>5</td><td>27</td><td>3554.28</td></tr>",
                            "<tr><td>2007</td><td>5</td><td>28</td><td>2360.60</td></tr>",
                            "<tr><td>2007</td><td>5</td><td>29</td><td>880.50</td></tr>",
                            "<tr><td>2007</td><td>5</td><td>30</td><td>3274.83</td></tr>",
                            "<tr><td>2007</td><td>5</td><td>NULL</td><td>53781.30</td></tr>",
                            "<tr><td>2007</td><td>6</td><td>2</td><td>2944.40</td></tr>",
                            "<tr><td>2007</td><td>6</td><td>3</td><td>1987.70</td></tr>",
                            "<tr><td>2007</td><td>6</td><td>4</td><td>2142.90</td></tr>",
                            "<tr><td>2007</td><td>6</td><td>5</td><td>520.41</td></tr>",
                            "<tr><td>2007</td><td>6</td><td>6</td><td>3916.93</td></tr>",
                            "<tr><td>2007</td><td>6</td><td>9</td><td>488.70</td></tr>",
                            "<tr><td>2007</td><td>6</td><td>10</td><td>2199.05</td></tr>",
                            "<tr><td>2007</td><td>6</td><td>11</td><td>639.90</td></tr>",
                            "<tr><td>2007</td><td>6</td><td>12</td><td>4280.00</td></tr>",
                            "<tr><td>2007</td><td>6</td><td>13</td><td>155.00</td></tr>",
                            "<tr><td>2007</td><td>6</td><td>16</td><td>890.00</td></tr>",
                            "<tr><td>2007</td><td>6</td><td>17</td><td>3015.84</td></tr>",
                            "<tr><td>2007</td><td>6</td><td>18</td><td>1501.09</td></tr>",
                            "<tr><td>2007</td><td>6</td><td>19</td><td>2846.30</td></tr>",
                            "<tr><td>2007</td><td>6</td><td>20</td><td>2147.40</td></tr>",
                            "<tr><td>2007</td><td>6</td><td>23</td><td>1407.45</td></tr>",
                            "<tr><td>2007</td><td>6</td><td>24</td><td>477.00</td></tr>",
                            "<tr><td>2007</td><td>6</td><td>25</td><td>317.75</td></tr>",
                            "<tr><td>2007</td><td>6</td><td>26</td><td>1323.75</td></tr>",
                            "<tr><td>2007</td><td>6</td><td>27</td><td>330.00</td></tr>",
                            "<tr><td>2007</td><td>6</td><td>30</td><td>2831.25</td></tr>",
                            "<tr><td>2007</td><td>6</td><td>NULL</td><td>36362.82</td></tr>",
                            "<tr><td>2007</td><td>7</td><td>1</td><td>142.50</td></tr>",
                            "<tr><td>2007</td><td>7</td><td>2</td><td>831.18</td></tr>",
                            "<tr><td>2007</td><td>7</td><td>3</td><td>3120.00</td></tr>",
                            "<tr><td>2007</td><td>7</td><td>4</td><td>72.00</td></tr>",
                            "<tr><td>2007</td><td>7</td><td>7</td><td>1913.50</td></tr>",
                            "<tr><td>2007</td><td>7</td><td>8</td><td>516.47</td></tr>",
                            "<tr><td>2007</td><td>7</td><td>9</td><td>2559.90</td></tr>",
                            "<tr><td>2007</td><td>7</td><td>10</td><td>4725.00</td></tr>",
                            "<tr><td>2007</td><td>7</td><td>11</td><td>1898.96</td></tr>",
                            "<tr><td>2007</td><td>7</td><td>14</td><td>2388.50</td></tr>",
                            "<tr><td>2007</td><td>7</td><td>15</td><td>493.00</td></tr>",
                            "<tr><td>2007</td><td>7</td><td>16</td><td>2764.80</td></tr>",
                            "<tr><td>2007</td><td>7</td><td>17</td><td>48.75</td></tr>",
                            "<tr><td>2007</td><td>7</td><td>18</td><td>1713.85</td></tr>",
                            "<tr><td>2007</td><td>7</td><td>21</td><td>4109.70</td></tr>",
                            "<tr><td>2007</td><td>7</td><td>22</td><td>7605.80</td></tr>",
                            "<tr><td>2007</td><td>7</td><td>23</td><td>1064.00</td></tr>",
                            "<tr><td>2007</td><td>7</td><td>24</td><td>424.00</td></tr>",
                            "<tr><td>2007</td><td>7</td><td>25</td><td>1107.25</td></tr>",
                            "<tr><td>2007</td><td>7</td><td>28</td><td>6375.00</td></tr>",
                            "<tr><td>2007</td><td>7</td><td>29</td><td>817.20</td></tr>",
                            "<tr><td>2007</td><td>7</td><td>30</td><td>120.00</td></tr>",
                            "<tr><td>2007</td><td>7</td><td>31</td><td>6209.50</td></tr>",
                            "<tr><td>2007</td><td>7</td><td>NULL</td><td>51020.86</td></tr>",
                            "<tr><td>2007</td><td>8</td><td>1</td><td>2697.50</td></tr>",
                            "<tr><td>2007</td><td>8</td><td>4</td><td>1260.00</td></tr>",
                            "<tr><td>2007</td><td>8</td><td>5</td><td>816.00</td></tr>",
                            "<tr><td>2007</td><td>8</td><td>6</td><td>560.00</td></tr>",
                            "<tr><td>2007</td><td>8</td><td>7</td><td>2730.19</td></tr>",
                            "<tr><td>2007</td><td>8</td><td>8</td><td>479.75</td></tr>",
                            "<tr><td>2007</td><td>8</td><td>11</td><td>2689.35</td></tr>",
                            "<tr><td>2007</td><td>8</td><td>12</td><td>3225.05</td></tr>",
                            "<tr><td>2007</td><td>8</td><td>13</td><td>903.60</td></tr>",
                            "<tr><td>2007</td><td>8</td><td>14</td><td>644.80</td></tr>",
                            "<tr><td>2007</td><td>8</td><td>15</td><td>10496.09</td></tr>",
                            "<tr><td>2007</td><td>8</td><td>18</td><td>1326.23</td></tr>",
                            "<tr><td>2007</td><td>8</td><td>19</td><td>3391.44</td></tr>",
                            "<tr><td>2007</td><td>8</td><td>20</td><td>3220.05</td></tr>",
                            "<tr><td>2007</td><td>8</td><td>21</td><td>708.75</td></tr>",
                            "<tr><td>2007</td><td>8</td><td>22</td><td>2750.00</td></tr>",
                            "<tr><td>2007</td><td>8</td><td>25</td><td>2186.30</td></tr>",
                            "<tr><td>2007</td><td>8</td><td>26</td><td>1535.00</td></tr>",
                            "<tr><td>2007</td><td>8</td><td>27</td><td>2082.00</td></tr>",
                            "<tr><td>2007</td><td>8</td><td>28</td><td>1806.38</td></tr>",
                            "<tr><td>2007</td><td>8</td><td>29</td><td>1779.20</td></tr>",
                            "<tr><td>2007</td><td>8</td><td>NULL</td><td>47287.68</td></tr>",
                            "<tr><td>2007</td><td>9</td><td>1</td><td>716.64</td></tr>",
                            "<tr><td>2007</td><td>9</td><td>2</td><td>1684.98</td></tr>",
                            "<tr><td>2007</td><td>9</td><td>3</td><td>154.40</td></tr>",
                            "<tr><td>2007</td><td>9</td><td>4</td><td>4975.82</td></tr>",
                            "<tr><td>2007</td><td>9</td><td>5</td><td>5691.62</td></tr>",
                            "<tr><td>2007</td><td>9</td><td>8</td><td>1701.00</td></tr>",
                            "<tr><td>2007</td><td>9</td><td>9</td><td>687.60</td></tr>",
                            "<tr><td>2007</td><td>9</td><td>10</td><td>3218.79</td></tr>",
                            "<tr><td>2007</td><td>9</td><td>11</td><td>1295.00</td></tr>",
                            "<tr><td>2007</td><td>9</td><td>12</td><td>6203.74</td></tr>",
                            "<tr><td>2007</td><td>9</td><td>15</td><td>1195.28</td></tr>",
                            "<tr><td>2007</td><td>9</td><td>16</td><td>2301.75</td></tr>",
                            "<tr><td>2007</td><td>9</td><td>17</td><td>4735.35</td></tr>",
                            "<tr><td>2007</td><td>9</td><td>18</td><td>457.35</td></tr>",
                            "<tr><td>2007</td><td>9</td><td>19</td><td>1423.00</td></tr>",
                            "<tr><td>2007</td><td>9</td><td>22</td><td>1348.22</td></tr>",
                            "<tr><td>2007</td><td>9</td><td>23</td><td>5916.50</td></tr>",
                            "<tr><td>2007</td><td>9</td><td>24</td><td>1261.88</td></tr>",
                            "<tr><td>2007</td><td>9</td><td>25</td><td>1662.90</td></tr>",
                            "<tr><td>2007</td><td>9</td><td>26</td><td>1831.00</td></tr>",
                            "<tr><td>2007</td><td>9</td><td>29</td><td>801.10</td></tr>",
                            "<tr><td>2007</td><td>9</td><td>30</td><td>6365.35</td></tr>",
                            "<tr><td>2007</td><td>9</td><td>NULL</td><td>55629.27</td></tr>",
                            "<tr><td>2007</td><td>10</td><td>1</td><td>3633.10</td></tr>",
                            "<tr><td>2007</td><td>10</td><td>2</td><td>862.50</td></tr>",
                            "<tr><td>2007</td><td>10</td><td>3</td><td>11042.80</td></tr>",
                            "<tr><td>2007</td><td>10</td><td>6</td><td>6896.20</td></tr>",
                            "<tr><td>2007</td><td>10</td><td>7</td><td>642.00</td></tr>",
                            "<tr><td>2007</td><td>10</td><td>8</td><td>1801.43</td></tr>",
                            "<tr><td>2007</td><td>10</td><td>9</td><td>3550.44</td></tr>",
                            "<tr><td>2007</td><td>10</td><td>10</td><td>1638.40</td></tr>",
                            "<tr><td>2007</td><td>10</td><td>13</td><td>3194.50</td></tr>",
                            "<tr><td>2007</td><td>10</td><td>14</td><td>3140.50</td></tr>",
                            "<tr><td>2007</td><td>10</td><td>15</td><td>378.00</td></tr>",
                            "<tr><td>2007</td><td>10</td><td>16</td><td>3534.00</td></tr>",
                            "<tr><td>2007</td><td>10</td><td>17</td><td>3604.40</td></tr>",
                            "<tr><td>2007</td><td>10</td><td>20</td><td>93.50</td></tr>",
                            "<tr><td>2007</td><td>10</td><td>21</td><td>5685.18</td></tr>",
                            "<tr><td>2007</td><td>10</td><td>22</td><td>5033.65</td></tr>",
                            "<tr><td>2007</td><td>10</td><td>23</td><td>1296.00</td></tr>",
                            "<tr><td>2007</td><td>10</td><td>24</td><td>1976.75</td></tr>",
                            "<tr><td>2007</td><td>10</td><td>27</td><td>4307.25</td></tr>",
                            "<tr><td>2007</td><td>10</td><td>28</td><td>550.00</td></tr>",
                            "<tr><td>2007</td><td>10</td><td>29</td><td>2493.88</td></tr>",
                            "<tr><td>2007</td><td>10</td><td>30</td><td>1106.95</td></tr>",
                            "<tr><td>2007</td><td>10</td><td>31</td><td>287.80</td></tr>",
                            "<tr><td>2007</td><td>10</td><td>NULL</td><td>66749.23</td></tr>",
                            "<tr><td>2007</td><td>11</td><td>3</td><td>2279.50</td></tr>",
                            "<tr><td>2007</td><td>11</td><td>4</td><td>3146.75</td></tr>",
                            "<tr><td>2007</td><td>11</td><td>5</td><td>484.26</td></tr>",
                            "<tr><td>2007</td><td>11</td><td>6</td><td>2250.50</td></tr>",
                            "<tr><td>2007</td><td>11</td><td>7</td><td>2957.35</td></tr>",
                            "<tr><td>2007</td><td>11</td><td>10</td><td>536.40</td></tr>",
                            "<tr><td>2007</td><td>11</td><td>11</td><td>1136.80</td></tr>",
                            "<tr><td>2007</td><td>11</td><td>12</td><td>292.35</td></tr>",
                            "<tr><td>2007</td><td>11</td><td>13</td><td>1416.00</td></tr>",
                            "<tr><td>2007</td><td>11</td><td>14</td><td>3346.00</td></tr>",
                            "<tr><td>2007</td><td>11</td><td>17</td><td>1055.20</td></tr>",
                            "<tr><td>2007</td><td>11</td><td>18</td><td>4529.80</td></tr>",
                            "<tr><td>2007</td><td>11</td><td>19</td><td>4224.55</td></tr>",
                            "<tr><td>2007</td><td>11</td><td>20</td><td>3276.00</td></tr>",
                            "<tr><td>2007</td><td>11</td><td>21</td><td>1590.56</td></tr>",
                            "<tr><td>2007</td><td>11</td><td>24</td><td>1883.48</td></tr>",
                            "<tr><td>2007</td><td>11</td><td>25</td><td>143.20</td></tr>",
                            "<tr><td>2007</td><td>11</td><td>26</td><td>1948.50</td></tr>",
                            "<tr><td>2007</td><td>11</td><td>27</td><td>5072.00</td></tr>",
                            "<tr><td>2007</td><td>11</td><td>28</td><td>1964.60</td></tr>",
                            "<tr><td>2007</td><td>11</td><td>NULL</td><td>43533.80</td></tr>",
                            "<tr><td>2007</td><td>12</td><td>1</td><td>2917.00</td></tr>",
                            "<tr><td>2007</td><td>12</td><td>2</td><td>4844.00</td></tr>",
                            "<tr><td>2007</td><td>12</td><td>3</td><td>2902.00</td></tr>",
                            "<tr><td>2007</td><td>12</td><td>4</td><td>1515.60</td></tr>",
                            "<tr><td>2007</td><td>12</td><td>5</td><td>2338.00</td></tr>",
                            "<tr><td>2007</td><td>12</td><td>8</td><td>3161.28</td></tr>",
                            "<tr><td>2007</td><td>12</td><td>9</td><td>236.25</td></tr>",
                            "<tr><td>2007</td><td>12</td><td>10</td><td>3947.22</td></tr>",
                            "<tr><td>2007</td><td>12</td><td>11</td><td>2899.15</td></tr>",
                            "<tr><td>2007</td><td>12</td><td>12</td><td>228.00</td></tr>",
                            "<tr><td>2007</td><td>12</td><td>15</td><td>6859.28</td></tr>",
                            "<tr><td>2007</td><td>12</td><td>16</td><td>2151.50</td></tr>",
                            "<tr><td>2007</td><td>12</td><td>17</td><td>988.38</td></tr>",
                            "<tr><td>2007</td><td>12</td><td>18</td><td>3318.00</td></tr>",
                            "<tr><td>2007</td><td>12</td><td>19</td><td>4153.84</td></tr>",
                            "<tr><td>2007</td><td>12</td><td>22</td><td>5141.00</td></tr>",
                            "<tr><td>2007</td><td>12</td><td>23</td><td>2229.61</td></tr>",
                            "<tr><td>2007</td><td>12</td><td>24</td><td>2663.86</td></tr>",
                            "<tr><td>2007</td><td>12</td><td>25</td><td>2761.36</td></tr>",
                            "<tr><td>2007</td><td>12</td><td>26</td><td>3469.04</td></tr>",
                            "<tr><td>2007</td><td>12</td><td>29</td><td>5969.66</td></tr>",
                            "<tr><td>2007</td><td>12</td><td>30</td><td>6246.41</td></tr>",
                            "<tr><td>2007</td><td>12</td><td>31</td><td>458.00</td></tr>",
                            "<tr><td>2007</td><td>12</td><td>NULL</td><td>71398.44</td></tr>",
                            "<tr><td>2007</td><td>NULL</td><td>NULL</td><td>617085.30</td></tr>",
                            "<tr><td>2008</td><td>1</td><td>1</td><td>1738.00</td></tr>",
                            "<tr><td>2008</td><td>1</td><td>2</td><td>2544.80</td></tr>",
                            "<tr><td>2008</td><td>1</td><td>5</td><td>2430.85</td></tr>",
                            "<tr><td>2008</td><td>1</td><td>6</td><td>19399.30</td></tr>",
                            "<tr><td>2008</td><td>1</td><td>7</td><td>2450.00</td></tr>",
                            "<tr><td>2008</td><td>1</td><td>8</td><td>915.90</td></tr>",
                            "<tr><td>2008</td><td>1</td><td>9</td><td>4107.56</td></tr>",
                            "<tr><td>2008</td><td>1</td><td>12</td><td>1573.00</td></tr>",
                            "<tr><td>2008</td><td>1</td><td>13</td><td>4670.00</td></tr>",
                            "<tr><td>2008</td><td>1</td><td>14</td><td>3159.51</td></tr>",
                            "<tr><td>2008</td><td>1</td><td>15</td><td>3185.44</td></tr>",
                            "<tr><td>2008</td><td>1</td><td>16</td><td>5770.00</td></tr>",
                            "<tr><td>2008</td><td>1</td><td>19</td><td>2977.13</td></tr>",
                            "<tr><td>2008</td><td>1</td><td>20</td><td>5556.00</td></tr>",
                            "<tr><td>2008</td><td>1</td><td>21</td><td>4706.70</td></tr>",
                            "<tr><td>2008</td><td>1</td><td>22</td><td>6043.92</td></tr>",
                            "<tr><td>2008</td><td>1</td><td>23</td><td>2528.32</td></tr>",
                            "<tr><td>2008</td><td>1</td><td>26</td><td>5587.00</td></tr>",
                            "<tr><td>2008</td><td>1</td><td>27</td><td>5819.39</td></tr>",
                            "<tr><td>2008</td><td>1</td><td>28</td><td>2708.21</td></tr>",
                            "<tr><td>2008</td><td>1</td><td>29</td><td>2246.69</td></tr>",
                            "<tr><td>2008</td><td>1</td><td>30</td><td>4104.40</td></tr>",
                            "<tr><td>2008</td><td>1</td><td>NULL</td><td>94222.12</td></tr>",
                            "<tr><td>2008</td><td>2</td><td>2</td><td>17110.65</td></tr>",
                            "<tr><td>2008</td><td>2</td><td>3</td><td>1194.60</td></tr>",
                            "<tr><td>2008</td><td>2</td><td>4</td><td>3710.60</td></tr>",
                            "<tr><td>2008</td><td>2</td><td>5</td><td>4037.69</td></tr>",
                            "<tr><td>2008</td><td>2</td><td>6</td><td>1356.35</td></tr>",
                            "<tr><td>2008</td><td>2</td><td>9</td><td>2872.13</td></tr>",
                            "<tr><td>2008</td><td>2</td><td>10</td><td>3650.30</td></tr>",
                            "<tr><td>2008</td><td>2</td><td>11</td><td>1042.64</td></tr>",
                            "<tr><td>2008</td><td>2</td><td>12</td><td>2623.07</td></tr>",
                            "<tr><td>2008</td><td>2</td><td>13</td><td>3197.50</td></tr>",
                            "<tr><td>2008</td><td>2</td><td>16</td><td>12845.10</td></tr>",
                            "<tr><td>2008</td><td>2</td><td>17</td><td>2458.93</td></tr>",
                            "<tr><td>2008</td><td>2</td><td>18</td><td>14634.61</td></tr>",
                            "<tr><td>2008</td><td>2</td><td>19</td><td>11585.74</td></tr>",
                            "<tr><td>2008</td><td>2</td><td>20</td><td>186.15</td></tr>",
                            "<tr><td>2008</td><td>2</td><td>23</td><td>1797.93</td></tr>",
                            "<tr><td>2008</td><td>2</td><td>24</td><td>3198.30</td></tr>",
                            "<tr><td>2008</td><td>2</td><td>25</td><td>536.00</td></tr>",
                            "<tr><td>2008</td><td>2</td><td>26</td><td>9613.30</td></tr>",
                            "<tr><td>2008</td><td>2</td><td>27</td><td>1763.70</td></tr>",
                            "<tr><td>2008</td><td>2</td><td>NULL</td><td>99415.29</td></tr>",
                            "<tr><td>2008</td><td>3</td><td>2</td><td>2936.19</td></tr>",
                            "<tr><td>2008</td><td>3</td><td>3</td><td>3817.30</td></tr>",
                            "<tr><td>2008</td><td>3</td><td>4</td><td>2825.25</td></tr>",
                            "<tr><td>2008</td><td>3</td><td>5</td><td>2112.25</td></tr>",
                            "<tr><td>2008</td><td>3</td><td>6</td><td>5763.93</td></tr>",
                            "<tr><td>2008</td><td>3</td><td>9</td><td>1575.50</td></tr>",
                            "<tr><td>2008</td><td>3</td><td>10</td><td>4014.18</td></tr>",
                            "<tr><td>2008</td><td>3</td><td>11</td><td>5642.75</td></tr>",
                            "<tr><td>2008</td><td>3</td><td>12</td><td>2677.83</td></tr>",
                            "<tr><td>2008</td><td>3</td><td>13</td><td>7004.25</td></tr>",
                            "<tr><td>2008</td><td>3</td><td>16</td><td>5481.21</td></tr>",
                            "<tr><td>2008</td><td>3</td><td>17</td><td>2410.94</td></tr>",
                            "<tr><td>2008</td><td>3</td><td>18</td><td>2675.45</td></tr>",
                            "<tr><td>2008</td><td>3</td><td>19</td><td>5027.05</td></tr>",
                            "<tr><td>2008</td><td>3</td><td>20</td><td>3998.96</td></tr>",
                            "<tr><td>2008</td><td>3</td><td>23</td><td>2426.40</td></tr>",
                            "<tr><td>2008</td><td>3</td><td>24</td><td>2500.11</td></tr>",
                            "<tr><td>2008</td><td>3</td><td>25</td><td>2068.50</td></tr>",
                            "<tr><td>2008</td><td>3</td><td>26</td><td>8349.70</td></tr>",
                            "<tr><td>2008</td><td>3</td><td>27</td><td>17792.90</td></tr>",
                            "<tr><td>2008</td><td>3</td><td>30</td><td>6053.13</td></tr>",
                            "<tr><td>2008</td><td>3</td><td>31</td><td>7700.40</td></tr>",
                            "<tr><td>2008</td><td>3</td><td>NULL</td><td>104854.18</td></tr>",
                            "<tr><td>2008</td><td>4</td><td>1</td><td>11549.89</td></tr>",
                            "<tr><td>2008</td><td>4</td><td>2</td><td>2696.50</td></tr>",
                            "<tr><td>2008</td><td>4</td><td>3</td><td>3768.95</td></tr>",
                            "<tr><td>2008</td><td>4</td><td>6</td><td>5809.85</td></tr>",
                            "<tr><td>2008</td><td>4</td><td>7</td><td>1211.07</td></tr>",
                            "<tr><td>2008</td><td>4</td><td>8</td><td>7931.30</td></tr>",
                            "<tr><td>2008</td><td>4</td><td>9</td><td>4764.80</td></tr>",
                            "<tr><td>2008</td><td>4</td><td>10</td><td>1357.03</td></tr>",
                            "<tr><td>2008</td><td>4</td><td>13</td><td>8401.00</td></tr>",
                            "<tr><td>2008</td><td>4</td><td>14</td><td>9840.64</td></tr>",
                            "<tr><td>2008</td><td>4</td><td>15</td><td>3266.81</td></tr>",
                            "<tr><td>2008</td><td>4</td><td>16</td><td>4324.53</td></tr>",
                            "<tr><td>2008</td><td>4</td><td>17</td><td>27143.85</td></tr>",
                            "<tr><td>2008</td><td>4</td><td>20</td><td>3985.90</td></tr>",
                            "<tr><td>2008</td><td>4</td><td>21</td><td>3882.60</td></tr>",
                            "<tr><td>2008</td><td>4</td><td>22</td><td>2588.75</td></tr>",
                            "<tr><td>2008</td><td>4</td><td>23</td><td>3386.90</td></tr>",
                            "<tr><td>2008</td><td>4</td><td>24</td><td>1616.48</td></tr>",
                            "<tr><td>2008</td><td>4</td><td>27</td><td>5233.00</td></tr>",
                            "<tr><td>2008</td><td>4</td><td>28</td><td>5772.50</td></tr>",
                            "<tr><td>2008</td><td>4</td><td>29</td><td>2741.00</td></tr>",
                            "<tr><td>2008</td><td>4</td><td>30</td><td>2525.35</td></tr>",
                            "<tr><td>2008</td><td>4</td><td>NULL</td><td>123798.70</td></tr>",
                            "<tr><td>2008</td><td>5</td><td>1</td><td>5448.57</td></tr>",
                            "<tr><td>2008</td><td>5</td><td>4</td><td>2473.93</td></tr>",
                            "<tr><td>2008</td><td>5</td><td>5</td><td>7632.48</td></tr>",
                            "<tr><td>2008</td><td>5</td><td>6</td><td>2778.66</td></tr>",
                            "<tr><td>2008</td><td>5</td><td>NULL</td><td>18333.64</td></tr>",
                            "<tr><td>2008</td><td>NULL</td><td>NULL</td><td>440623.93</td></tr>",
                            "<tr><td>NULL</td><td>NULL</td><td>NULL</td><td>1265793.22</td></tr>",
                            "</table>"
                        ]
                    }
                }
            ],
            "execution_count": 29
        },
        {
            "cell_type": "markdown",
            "source": [
                "3.3. Copiar la consulta previa y modificarla para utilizar la clausula ROLLUP en vez de CUBE."
            ],
            "metadata": {
                "azdata_cell_guid": "44e193a2-e9d5-4a51-875f-d6c60a921bde"
            }
        },
        {
            "cell_type": "code",
            "source": [
                "SELECT\r\n",
                "    YEAR(orderdate) AS orderyear,\r\n",
                "    MONTH(orderdate) AS ordermonth,\r\n",
                "    DAY(orderdate) AS orderday,\r\n",
                "    SUM(val) AS salesvalue\r\n",
                "FROM\r\n",
                "    Sales.OrderValues\r\n",
                "GROUP BY\r\n",
                "    ROLLUP (\r\n",
                "        YEAR(orderdate),\r\n",
                "        MONTH(orderdate),\r\n",
                "        DAY(orderdate)\r\n",
                "    );\r\n",
                ""
            ],
            "metadata": {
                "azdata_cell_guid": "ef4b0d49-20c9-40a7-a7fa-b4fe76b0a8d0",
                "language": "sql"
            },
            "outputs": [
                {
                    "output_type": "display_data",
                    "data": {
                        "text/html": "(507 rows affected)"
                    },
                    "metadata": {}
                },
                {
                    "output_type": "display_data",
                    "data": {
                        "text/html": "Total execution time: 00:00:00.018"
                    },
                    "metadata": {}
                },
                {
                    "output_type": "execute_result",
                    "metadata": {},
                    "execution_count": 30,
                    "data": {
                        "application/vnd.dataresource+json": {
                            "schema": {
                                "fields": [
                                    {
                                        "name": "orderyear"
                                    },
                                    {
                                        "name": "ordermonth"
                                    },
                                    {
                                        "name": "orderday"
                                    },
                                    {
                                        "name": "salesvalue"
                                    }
                                ]
                            },
                            "data": [
                                {
                                    "0": "2006",
                                    "1": "7",
                                    "2": "4",
                                    "3": "440.00"
                                },
                                {
                                    "0": "2006",
                                    "1": "7",
                                    "2": "5",
                                    "3": "1863.40"
                                },
                                {
                                    "0": "2006",
                                    "1": "7",
                                    "2": "8",
                                    "3": "2206.66"
                                },
                                {
                                    "0": "2006",
                                    "1": "7",
                                    "2": "9",
                                    "3": "3597.90"
                                },
                                {
                                    "0": "2006",
                                    "1": "7",
                                    "2": "10",
                                    "3": "1444.80"
                                },
                                {
                                    "0": "2006",
                                    "1": "7",
                                    "2": "11",
                                    "3": "556.62"
                                },
                                {
                                    "0": "2006",
                                    "1": "7",
                                    "2": "12",
                                    "3": "2490.50"
                                },
                                {
                                    "0": "2006",
                                    "1": "7",
                                    "2": "15",
                                    "3": "517.80"
                                },
                                {
                                    "0": "2006",
                                    "1": "7",
                                    "2": "16",
                                    "3": "1119.90"
                                },
                                {
                                    "0": "2006",
                                    "1": "7",
                                    "2": "17",
                                    "3": "1614.88"
                                },
                                {
                                    "0": "2006",
                                    "1": "7",
                                    "2": "18",
                                    "3": "100.80"
                                },
                                {
                                    "0": "2006",
                                    "1": "7",
                                    "2": "19",
                                    "3": "1952.65"
                                },
                                {
                                    "0": "2006",
                                    "1": "7",
                                    "2": "22",
                                    "3": "584.00"
                                },
                                {
                                    "0": "2006",
                                    "1": "7",
                                    "2": "23",
                                    "3": "1873.80"
                                },
                                {
                                    "0": "2006",
                                    "1": "7",
                                    "2": "24",
                                    "3": "695.63"
                                },
                                {
                                    "0": "2006",
                                    "1": "7",
                                    "2": "25",
                                    "3": "1176.00"
                                },
                                {
                                    "0": "2006",
                                    "1": "7",
                                    "2": "26",
                                    "3": "346.56"
                                },
                                {
                                    "0": "2006",
                                    "1": "7",
                                    "2": "29",
                                    "3": "3536.60"
                                },
                                {
                                    "0": "2006",
                                    "1": "7",
                                    "2": "30",
                                    "3": "1101.20"
                                },
                                {
                                    "0": "2006",
                                    "1": "7",
                                    "2": "31",
                                    "3": "642.20"
                                },
                                {
                                    "0": "2006",
                                    "1": "7",
                                    "2": "NULL",
                                    "3": "27861.90"
                                },
                                {
                                    "0": "2006",
                                    "1": "8",
                                    "2": "1",
                                    "3": "1424.00"
                                },
                                {
                                    "0": "2006",
                                    "1": "8",
                                    "2": "2",
                                    "3": "1456.00"
                                },
                                {
                                    "0": "2006",
                                    "1": "8",
                                    "2": "5",
                                    "3": "2037.28"
                                },
                                {
                                    "0": "2006",
                                    "1": "8",
                                    "2": "6",
                                    "3": "538.60"
                                },
                                {
                                    "0": "2006",
                                    "1": "8",
                                    "2": "7",
                                    "3": "291.84"
                                },
                                {
                                    "0": "2006",
                                    "1": "8",
                                    "2": "8",
                                    "3": "420.00"
                                },
                                {
                                    "0": "2006",
                                    "1": "8",
                                    "2": "9",
                                    "3": "1200.80"
                                },
                                {
                                    "0": "2006",
                                    "1": "8",
                                    "2": "12",
                                    "3": "1488.80"
                                },
                                {
                                    "0": "2006",
                                    "1": "8",
                                    "2": "13",
                                    "3": "351.00"
                                },
                                {
                                    "0": "2006",
                                    "1": "8",
                                    "2": "14",
                                    "3": "699.70"
                                },
                                {
                                    "0": "2006",
                                    "1": "8",
                                    "2": "15",
                                    "3": "155.40"
                                },
                                {
                                    "0": "2006",
                                    "1": "8",
                                    "2": "16",
                                    "3": "1414.80"
                                },
                                {
                                    "0": "2006",
                                    "1": "8",
                                    "2": "19",
                                    "3": "1170.38"
                                },
                                {
                                    "0": "2006",
                                    "1": "8",
                                    "2": "20",
                                    "3": "1743.36"
                                },
                                {
                                    "0": "2006",
                                    "1": "8",
                                    "2": "21",
                                    "3": "3016.00"
                                },
                                {
                                    "0": "2006",
                                    "1": "8",
                                    "2": "22",
                                    "3": "819.00"
                                },
                                {
                                    "0": "2006",
                                    "1": "8",
                                    "2": "23",
                                    "3": "80.10"
                                },
                                {
                                    "0": "2006",
                                    "1": "8",
                                    "2": "26",
                                    "3": "479.40"
                                },
                                {
                                    "0": "2006",
                                    "1": "8",
                                    "2": "27",
                                    "3": "2666.52"
                                },
                                {
                                    "0": "2006",
                                    "1": "8",
                                    "2": "28",
                                    "3": "1296.00"
                                },
                                {
                                    "0": "2006",
                                    "1": "8",
                                    "2": "29",
                                    "3": "848.70"
                                },
                                {
                                    "0": "2006",
                                    "1": "8",
                                    "2": "30",
                                    "3": "1887.60"
                                },
                                {
                                    "0": "2006",
                                    "1": "8",
                                    "2": "NULL",
                                    "3": "25485.28"
                                },
                                {
                                    "0": "2006",
                                    "1": "9",
                                    "2": "2",
                                    "3": "121.60"
                                },
                                {
                                    "0": "2006",
                                    "1": "9",
                                    "2": "3",
                                    "3": "1050.60"
                                },
                                {
                                    "0": "2006",
                                    "1": "9",
                                    "2": "4",
                                    "3": "1420.00"
                                },
                                {
                                    "0": "2006",
                                    "1": "9",
                                    "2": "5",
                                    "3": "2645.00"
                                },
                                {
                                    "0": "2006",
                                    "1": "9",
                                    "2": "6",
                                    "3": "349.50"
                                },
                                {
                                    "0": "2006",
                                    "1": "9",
                                    "2": "9",
                                    "3": "1363.00"
                                },
                                {
                                    "0": "2006",
                                    "1": "9",
                                    "2": "10",
                                    "3": "2708.80"
                                },
                                {
                                    "0": "2006",
                                    "1": "9",
                                    "2": "11",
                                    "3": "1117.80"
                                },
                                {
                                    "0": "2006",
                                    "1": "9",
                                    "2": "12",
                                    "3": "954.40"
                                },
                                {
                                    "0": "2006",
                                    "1": "9",
                                    "2": "13",
                                    "3": "3741.30"
                                },
                                {
                                    "0": "2006",
                                    "1": "9",
                                    "2": "16",
                                    "3": "498.50"
                                },
                                {
                                    "0": "2006",
                                    "1": "9",
                                    "2": "17",
                                    "3": "424.00"
                                },
                                {
                                    "0": "2006",
                                    "1": "9",
                                    "2": "18",
                                    "3": "88.80"
                                },
                                {
                                    "0": "2006",
                                    "1": "9",
                                    "2": "19",
                                    "3": "1762.00"
                                },
                                {
                                    "0": "2006",
                                    "1": "9",
                                    "2": "20",
                                    "3": "604.80"
                                },
                                {
                                    "0": "2006",
                                    "1": "9",
                                    "2": "23",
                                    "3": "1614.80"
                                },
                                {
                                    "0": "2006",
                                    "1": "9",
                                    "2": "24",
                                    "3": "182.40"
                                },
                                {
                                    "0": "2006",
                                    "1": "9",
                                    "2": "25",
                                    "3": "2094.30"
                                },
                                {
                                    "0": "2006",
                                    "1": "9",
                                    "2": "26",
                                    "3": "516.80"
                                },
                                {
                                    "0": "2006",
                                    "1": "9",
                                    "2": "27",
                                    "3": "2835.00"
                                },
                                {
                                    "0": "2006",
                                    "1": "9",
                                    "2": "30",
                                    "3": "288.00"
                                },
                                {
                                    "0": "2006",
                                    "1": "9",
                                    "2": "NULL",
                                    "3": "26381.40"
                                },
                                {
                                    "0": "2006",
                                    "1": "10",
                                    "2": "1",
                                    "3": "240.40"
                                },
                                {
                                    "0": "2006",
                                    "1": "10",
                                    "2": "2",
                                    "3": "1191.20"
                                },
                                {
                                    "0": "2006",
                                    "1": "10",
                                    "2": "3",
                                    "3": "660.00"
                                },
                                {
                                    "0": "2006",
                                    "1": "10",
                                    "2": "4",
                                    "3": "112.00"
                                },
                                {
                                    "0": "2006",
                                    "1": "10",
                                    "2": "7",
                                    "3": "164.40"
                                },
                                {
                                    "0": "2006",
                                    "1": "10",
                                    "2": "8",
                                    "3": "5275.72"
                                },
                                {
                                    "0": "2006",
                                    "1": "10",
                                    "2": "9",
                                    "3": "1497.00"
                                },
                                {
                                    "0": "2006",
                                    "1": "10",
                                    "2": "10",
                                    "3": "982.00"
                                },
                                {
                                    "0": "2006",
                                    "1": "10",
                                    "2": "11",
                                    "3": "1810.00"
                                },
                                {
                                    "0": "2006",
                                    "1": "10",
                                    "2": "14",
                                    "3": "1168.00"
                                },
                                {
                                    "0": "2006",
                                    "1": "10",
                                    "2": "15",
                                    "3": "4578.43"
                                },
                                {
                                    "0": "2006",
                                    "1": "10",
                                    "2": "16",
                                    "3": "1737.50"
                                },
                                {
                                    "0": "2006",
                                    "1": "10",
                                    "2": "17",
                                    "3": "1786.88"
                                },
                                {
                                    "0": "2006",
                                    "1": "10",
                                    "2": "18",
                                    "3": "877.20"
                                },
                                {
                                    "0": "2006",
                                    "1": "10",
                                    "2": "21",
                                    "3": "144.80"
                                },
                                {
                                    "0": "2006",
                                    "1": "10",
                                    "2": "22",
                                    "3": "2036.16"
                                },
                                {
                                    "0": "2006",
                                    "1": "10",
                                    "2": "23",
                                    "3": "285.12"
                                },
                                {
                                    "0": "2006",
                                    "1": "10",
                                    "2": "24",
                                    "3": "2467.00"
                                },
                                {
                                    "0": "2006",
                                    "1": "10",
                                    "2": "25",
                                    "3": "934.50"
                                },
                                {
                                    "0": "2006",
                                    "1": "10",
                                    "2": "28",
                                    "3": "3354.00"
                                },
                                {
                                    "0": "2006",
                                    "1": "10",
                                    "2": "29",
                                    "3": "2788.78"
                                },
                                {
                                    "0": "2006",
                                    "1": "10",
                                    "2": "30",
                                    "3": "1840.64"
                                },
                                {
                                    "0": "2006",
                                    "1": "10",
                                    "2": "31",
                                    "3": "1584.00"
                                },
                                {
                                    "0": "2006",
                                    "1": "10",
                                    "2": "NULL",
                                    "3": "37515.73"
                                },
                                {
                                    "0": "2006",
                                    "1": "11",
                                    "2": "1",
                                    "3": "2296.00"
                                },
                                {
                                    "0": "2006",
                                    "1": "11",
                                    "2": "4",
                                    "3": "2924.80"
                                },
                                {
                                    "0": "2006",
                                    "1": "11",
                                    "2": "5",
                                    "3": "1618.88"
                                },
                                {
                                    "0": "2006",
                                    "1": "11",
                                    "2": "6",
                                    "3": "814.42"
                                },
                                {
                                    "0": "2006",
                                    "1": "11",
                                    "2": "7",
                                    "3": "363.60"
                                },
                                {
                                    "0": "2006",
                                    "1": "11",
                                    "2": "8",
                                    "3": "141.60"
                                },
                                {
                                    "0": "2006",
                                    "1": "11",
                                    "2": "11",
                                    "3": "6040.79"
                                },
                                {
                                    "0": "2006",
                                    "1": "11",
                                    "2": "12",
                                    "3": "136.30"
                                },
                                {
                                    "0": "2006",
                                    "1": "11",
                                    "2": "13",
                                    "3": "8593.28"
                                },
                                {
                                    "0": "2006",
                                    "1": "11",
                                    "2": "14",
                                    "3": "568.80"
                                },
                                {
                                    "0": "2006",
                                    "1": "11",
                                    "2": "15",
                                    "3": "480.00"
                                },
                                {
                                    "0": "2006",
                                    "1": "11",
                                    "2": "18",
                                    "3": "1106.40"
                                },
                                {
                                    "0": "2006",
                                    "1": "11",
                                    "2": "19",
                                    "3": "1167.68"
                                },
                                {
                                    "0": "2006",
                                    "1": "11",
                                    "2": "20",
                                    "3": "429.40"
                                },
                                {
                                    "0": "2006",
                                    "1": "11",
                                    "2": "21",
                                    "3": "3471.68"
                                },
                                {
                                    "0": "2006",
                                    "1": "11",
                                    "2": "22",
                                    "3": "9436.44"
                                },
                                {
                                    "0": "2006",
                                    "1": "11",
                                    "2": "25",
                                    "3": "1549.60"
                                },
                                {
                                    "0": "2006",
                                    "1": "11",
                                    "2": "26",
                                    "3": "1397.20"
                                },
                                {
                                    "0": "2006",
                                    "1": "11",
                                    "2": "27",
                                    "3": "403.20"
                                },
                                {
                                    "0": "2006",
                                    "1": "11",
                                    "2": "28",
                                    "3": "970.20"
                                },
                                {
                                    "0": "2006",
                                    "1": "11",
                                    "2": "29",
                                    "3": "1689.78"
                                },
                                {
                                    "0": "2006",
                                    "1": "11",
                                    "2": "NULL",
                                    "3": "45600.05"
                                },
                                {
                                    "0": "2006",
                                    "1": "12",
                                    "2": "2",
                                    "3": "2390.40"
                                },
                                {
                                    "0": "2006",
                                    "1": "12",
                                    "2": "3",
                                    "3": "1190.56"
                                },
                                {
                                    "0": "2006",
                                    "1": "12",
                                    "2": "4",
                                    "3": "9210.90"
                                },
                                {
                                    "0": "2006",
                                    "1": "12",
                                    "2": "5",
                                    "3": "1825.40"
                                },
                                {
                                    "0": "2006",
                                    "1": "12",
                                    "2": "6",
                                    "3": "338.00"
                                },
                                {
                                    "0": "2006",
                                    "1": "12",
                                    "2": "9",
                                    "3": "1262.60"
                                },
                                {
                                    "0": "2006",
                                    "1": "12",
                                    "2": "10",
                                    "3": "103.20"
                                },
                                {
                                    "0": "2006",
                                    "1": "12",
                                    "2": "11",
                                    "3": "863.28"
                                },
                                {
                                    "0": "2006",
                                    "1": "12",
                                    "2": "12",
                                    "3": "1425.82"
                                },
                                {
                                    "0": "2006",
                                    "1": "12",
                                    "2": "13",
                                    "3": "2900.00"
                                },
                                {
                                    "0": "2006",
                                    "1": "12",
                                    "2": "16",
                                    "3": "3121.40"
                                },
                                {
                                    "0": "2006",
                                    "1": "12",
                                    "2": "17",
                                    "3": "691.20"
                                },
                                {
                                    "0": "2006",
                                    "1": "12",
                                    "2": "18",
                                    "3": "1224.40"
                                },
                                {
                                    "0": "2006",
                                    "1": "12",
                                    "2": "19",
                                    "3": "1228.80"
                                },
                                {
                                    "0": "2006",
                                    "1": "12",
                                    "2": "20",
                                    "3": "1832.80"
                                },
                                {
                                    "0": "2006",
                                    "1": "12",
                                    "2": "23",
                                    "3": "2177.28"
                                },
                                {
                                    "0": "2006",
                                    "1": "12",
                                    "2": "24",
                                    "3": "1440.00"
                                },
                                {
                                    "0": "2006",
                                    "1": "12",
                                    "2": "25",
                                    "3": "2998.95"
                                },
                                {
                                    "0": "2006",
                                    "1": "12",
                                    "2": "26",
                                    "3": "2122.92"
                                },
                                {
                                    "0": "2006",
                                    "1": "12",
                                    "2": "27",
                                    "3": "2620.52"
                                },
                                {
                                    "0": "2006",
                                    "1": "12",
                                    "2": "30",
                                    "3": "2505.60"
                                },
                                {
                                    "0": "2006",
                                    "1": "12",
                                    "2": "31",
                                    "3": "1765.60"
                                },
                                {
                                    "0": "2006",
                                    "1": "12",
                                    "2": "NULL",
                                    "3": "45239.63"
                                },
                                {
                                    "0": "2006",
                                    "1": "NULL",
                                    "2": "NULL",
                                    "3": "208083.99"
                                },
                                {
                                    "0": "2007",
                                    "1": "1",
                                    "2": "1",
                                    "3": "6931.60"
                                },
                                {
                                    "0": "2007",
                                    "1": "1",
                                    "2": "2",
                                    "3": "2713.50"
                                },
                                {
                                    "0": "2007",
                                    "1": "1",
                                    "2": "3",
                                    "3": "2446.27"
                                },
                                {
                                    "0": "2007",
                                    "1": "1",
                                    "2": "6",
                                    "3": "400.00"
                                },
                                {
                                    "0": "2007",
                                    "1": "1",
                                    "2": "7",
                                    "3": "3024.78"
                                },
                                {
                                    "0": "2007",
                                    "1": "1",
                                    "2": "8",
                                    "3": "1622.40"
                                },
                                {
                                    "0": "2007",
                                    "1": "1",
                                    "2": "9",
                                    "3": "319.20"
                                },
                                {
                                    "0": "2007",
                                    "1": "1",
                                    "2": "10",
                                    "3": "1768.80"
                                },
                                {
                                    "0": "2007",
                                    "1": "1",
                                    "2": "13",
                                    "3": "334.80"
                                },
                                {
                                    "0": "2007",
                                    "1": "1",
                                    "2": "14",
                                    "3": "2348.03"
                                },
                                {
                                    "0": "2007",
                                    "1": "1",
                                    "2": "15",
                                    "3": "102.40"
                                },
                                {
                                    "0": "2007",
                                    "1": "1",
                                    "2": "16",
                                    "3": "11908.40"
                                },
                                {
                                    "0": "2007",
                                    "1": "1",
                                    "2": "17",
                                    "3": "1814.80"
                                },
                                {
                                    "0": "2007",
                                    "1": "1",
                                    "2": "20",
                                    "3": "2097.60"
                                },
                                {
                                    "0": "2007",
                                    "1": "1",
                                    "2": "21",
                                    "3": "2902.11"
                                },
                                {
                                    "0": "2007",
                                    "1": "1",
                                    "2": "22",
                                    "3": "49.80"
                                },
                                {
                                    "0": "2007",
                                    "1": "1",
                                    "2": "23",
                                    "3": "10214.56"
                                },
                                {
                                    "0": "2007",
                                    "1": "1",
                                    "2": "24",
                                    "3": "360.00"
                                },
                                {
                                    "0": "2007",
                                    "1": "1",
                                    "2": "27",
                                    "3": "989.20"
                                },
                                {
                                    "0": "2007",
                                    "1": "1",
                                    "2": "28",
                                    "3": "192.00"
                                },
                                {
                                    "0": "2007",
                                    "1": "1",
                                    "2": "29",
                                    "3": "1441.38"
                                },
                                {
                                    "0": "2007",
                                    "1": "1",
                                    "2": "30",
                                    "3": "6791.45"
                                },
                                {
                                    "0": "2007",
                                    "1": "1",
                                    "2": "31",
                                    "3": "485.00"
                                },
                                {
                                    "0": "2007",
                                    "1": "1",
                                    "2": "NULL",
                                    "3": "61258.08"
                                },
                                {
                                    "0": "2007",
                                    "1": "2",
                                    "2": "3",
                                    "3": "1172.32"
                                },
                                {
                                    "0": "2007",
                                    "1": "2",
                                    "2": "4",
                                    "3": "631.60"
                                },
                                {
                                    "0": "2007",
                                    "1": "2",
                                    "2": "5",
                                    "3": "2387.52"
                                },
                                {
                                    "0": "2007",
                                    "1": "2",
                                    "2": "6",
                                    "3": "454.00"
                                },
                                {
                                    "0": "2007",
                                    "1": "2",
                                    "2": "7",
                                    "3": "1078.00"
                                },
                                {
                                    "0": "2007",
                                    "1": "2",
                                    "2": "10",
                                    "3": "6679.14"
                                },
                                {
                                    "0": "2007",
                                    "1": "2",
                                    "2": "11",
                                    "3": "1792.00"
                                },
                                {
                                    "0": "2007",
                                    "1": "2",
                                    "2": "12",
                                    "3": "1549.14"
                                },
                                {
                                    "0": "2007",
                                    "1": "2",
                                    "2": "13",
                                    "3": "174.90"
                                },
                                {
                                    "0": "2007",
                                    "1": "2",
                                    "2": "14",
                                    "3": "1160.64"
                                },
                                {
                                    "0": "2007",
                                    "1": "2",
                                    "2": "17",
                                    "3": "443.40"
                                },
                                {
                                    "0": "2007",
                                    "1": "2",
                                    "2": "18",
                                    "3": "1838.20"
                                },
                                {
                                    "0": "2007",
                                    "1": "2",
                                    "2": "19",
                                    "3": "4274.78"
                                },
                                {
                                    "0": "2007",
                                    "1": "2",
                                    "2": "20",
                                    "3": "2018.50"
                                },
                                {
                                    "0": "2007",
                                    "1": "2",
                                    "2": "21",
                                    "3": "738.90"
                                },
                                {
                                    "0": "2007",
                                    "1": "2",
                                    "2": "24",
                                    "3": "2684.00"
                                },
                                {
                                    "0": "2007",
                                    "1": "2",
                                    "2": "25",
                                    "3": "2141.60"
                                },
                                {
                                    "0": "2007",
                                    "1": "2",
                                    "2": "26",
                                    "3": "3891.00"
                                },
                                {
                                    "0": "2007",
                                    "1": "2",
                                    "2": "27",
                                    "3": "1659.20"
                                },
                                {
                                    "0": "2007",
                                    "1": "2",
                                    "2": "28",
                                    "3": "1714.80"
                                },
                                {
                                    "0": "2007",
                                    "1": "2",
                                    "2": "NULL",
                                    "3": "38483.64"
                                },
                                {
                                    "0": "2007",
                                    "1": "3",
                                    "2": "3",
                                    "3": "156.00"
                                },
                                {
                                    "0": "2007",
                                    "1": "3",
                                    "2": "4",
                                    "3": "2322.58"
                                },
                                {
                                    "0": "2007",
                                    "1": "3",
                                    "2": "5",
                                    "3": "2518.00"
                                },
                                {
                                    "0": "2007",
                                    "1": "3",
                                    "2": "6",
                                    "3": "451.20"
                                },
                                {
                                    "0": "2007",
                                    "1": "3",
                                    "2": "7",
                                    "3": "717.60"
                                },
                                {
                                    "0": "2007",
                                    "1": "3",
                                    "2": "10",
                                    "3": "956.68"
                                },
                                {
                                    "0": "2007",
                                    "1": "3",
                                    "2": "11",
                                    "3": "3148.80"
                                },
                                {
                                    "0": "2007",
                                    "1": "3",
                                    "2": "12",
                                    "3": "1036.80"
                                },
                                {
                                    "0": "2007",
                                    "1": "3",
                                    "2": "13",
                                    "3": "1479.50"
                                },
                                {
                                    "0": "2007",
                                    "1": "3",
                                    "2": "14",
                                    "3": "1505.18"
                                },
                                {
                                    "0": "2007",
                                    "1": "3",
                                    "2": "17",
                                    "3": "738.48"
                                },
                                {
                                    "0": "2007",
                                    "1": "3",
                                    "2": "18",
                                    "3": "471.20"
                                },
                                {
                                    "0": "2007",
                                    "1": "3",
                                    "2": "19",
                                    "3": "10495.60"
                                },
                                {
                                    "0": "2007",
                                    "1": "3",
                                    "2": "20",
                                    "3": "2228.00"
                                },
                                {
                                    "0": "2007",
                                    "1": "3",
                                    "2": "21",
                                    "3": "147.00"
                                },
                                {
                                    "0": "2007",
                                    "1": "3",
                                    "2": "24",
                                    "3": "1055.00"
                                },
                                {
                                    "0": "2007",
                                    "1": "3",
                                    "2": "25",
                                    "3": "1584.00"
                                },
                                {
                                    "0": "2007",
                                    "1": "3",
                                    "2": "26",
                                    "3": "2161.70"
                                },
                                {
                                    "0": "2007",
                                    "1": "3",
                                    "2": "27",
                                    "3": "1512.00"
                                },
                                {
                                    "0": "2007",
                                    "1": "3",
                                    "2": "28",
                                    "3": "439.20"
                                },
                                {
                                    "0": "2007",
                                    "1": "3",
                                    "2": "31",
                                    "3": "3422.71"
                                },
                                {
                                    "0": "2007",
                                    "1": "3",
                                    "2": "NULL",
                                    "3": "38547.23"
                                },
                                {
                                    "0": "2007",
                                    "1": "4",
                                    "2": "1",
                                    "3": "851.20"
                                },
                                {
                                    "0": "2007",
                                    "1": "4",
                                    "2": "2",
                                    "3": "1520.40"
                                },
                                {
                                    "0": "2007",
                                    "1": "4",
                                    "2": "3",
                                    "3": "278.00"
                                },
                                {
                                    "0": "2007",
                                    "1": "4",
                                    "2": "4",
                                    "3": "1570.60"
                                },
                                {
                                    "0": "2007",
                                    "1": "4",
                                    "2": "7",
                                    "3": "575.00"
                                },
                                {
                                    "0": "2007",
                                    "1": "4",
                                    "2": "8",
                                    "3": "1412.00"
                                },
                                {
                                    "0": "2007",
                                    "1": "4",
                                    "2": "9",
                                    "3": "672.26"
                                },
                                {
                                    "0": "2007",
                                    "1": "4",
                                    "2": "10",
                                    "3": "816.30"
                                },
                                {
                                    "0": "2007",
                                    "1": "4",
                                    "2": "11",
                                    "3": "3437.00"
                                },
                                {
                                    "0": "2007",
                                    "1": "4",
                                    "2": "14",
                                    "3": "147.90"
                                },
                                {
                                    "0": "2007",
                                    "1": "4",
                                    "2": "15",
                                    "3": "1164.86"
                                },
                                {
                                    "0": "2007",
                                    "1": "4",
                                    "2": "16",
                                    "3": "240.00"
                                },
                                {
                                    "0": "2007",
                                    "1": "4",
                                    "2": "17",
                                    "3": "136.80"
                                },
                                {
                                    "0": "2007",
                                    "1": "4",
                                    "2": "18",
                                    "3": "7257.54"
                                },
                                {
                                    "0": "2007",
                                    "1": "4",
                                    "2": "21",
                                    "3": "525.30"
                                },
                                {
                                    "0": "2007",
                                    "1": "4",
                                    "2": "22",
                                    "3": "10565.45"
                                },
                                {
                                    "0": "2007",
                                    "1": "4",
                                    "2": "23",
                                    "3": "9921.30"
                                },
                                {
                                    "0": "2007",
                                    "1": "4",
                                    "2": "24",
                                    "3": "2733.05"
                                },
                                {
                                    "0": "2007",
                                    "1": "4",
                                    "2": "25",
                                    "3": "4150.05"
                                },
                                {
                                    "0": "2007",
                                    "1": "4",
                                    "2": "28",
                                    "3": "2314.20"
                                },
                                {
                                    "0": "2007",
                                    "1": "4",
                                    "2": "29",
                                    "3": "425.50"
                                },
                                {
                                    "0": "2007",
                                    "1": "4",
                                    "2": "30",
                                    "3": "2318.24"
                                },
                                {
                                    "0": "2007",
                                    "1": "4",
                                    "2": "NULL",
                                    "3": "53032.95"
                                },
                                {
                                    "0": "2007",
                                    "1": "5",
                                    "2": "1",
                                    "3": "5636.96"
                                },
                                {
                                    "0": "2007",
                                    "1": "5",
                                    "2": "2",
                                    "3": "818.40"
                                },
                                {
                                    "0": "2007",
                                    "1": "5",
                                    "2": "5",
                                    "3": "2654.40"
                                },
                                {
                                    "0": "2007",
                                    "1": "5",
                                    "2": "6",
                                    "3": "392.20"
                                },
                                {
                                    "0": "2007",
                                    "1": "5",
                                    "2": "7",
                                    "3": "946.00"
                                },
                                {
                                    "0": "2007",
                                    "1": "5",
                                    "2": "8",
                                    "3": "4290.00"
                                },
                                {
                                    "0": "2007",
                                    "1": "5",
                                    "2": "9",
                                    "3": "796.35"
                                },
                                {
                                    "0": "2007",
                                    "1": "5",
                                    "2": "12",
                                    "3": "2687.90"
                                },
                                {
                                    "0": "2007",
                                    "1": "5",
                                    "2": "13",
                                    "3": "1940.85"
                                },
                                {
                                    "0": "2007",
                                    "1": "5",
                                    "2": "14",
                                    "3": "3468.80"
                                },
                                {
                                    "0": "2007",
                                    "1": "5",
                                    "2": "15",
                                    "3": "139.80"
                                },
                                {
                                    "0": "2007",
                                    "1": "5",
                                    "2": "16",
                                    "3": "355.50"
                                },
                                {
                                    "0": "2007",
                                    "1": "5",
                                    "2": "19",
                                    "3": "12138.22"
                                },
                                {
                                    "0": "2007",
                                    "1": "5",
                                    "2": "20",
                                    "3": "469.11"
                                },
                                {
                                    "0": "2007",
                                    "1": "5",
                                    "2": "21",
                                    "3": "1921.70"
                                },
                                {
                                    "0": "2007",
                                    "1": "5",
                                    "2": "22",
                                    "3": "210.00"
                                },
                                {
                                    "0": "2007",
                                    "1": "5",
                                    "2": "23",
                                    "3": "4604.80"
                                },
                                {
                                    "0": "2007",
                                    "1": "5",
                                    "2": "26",
                                    "3": "240.10"
                                },
                                {
                                    "0": "2007",
                                    "1": "5",
                                    "2": "27",
                                    "3": "3554.28"
                                },
                                {
                                    "0": "2007",
                                    "1": "5",
                                    "2": "28",
                                    "3": "2360.60"
                                },
                                {
                                    "0": "2007",
                                    "1": "5",
                                    "2": "29",
                                    "3": "880.50"
                                },
                                {
                                    "0": "2007",
                                    "1": "5",
                                    "2": "30",
                                    "3": "3274.83"
                                },
                                {
                                    "0": "2007",
                                    "1": "5",
                                    "2": "NULL",
                                    "3": "53781.30"
                                },
                                {
                                    "0": "2007",
                                    "1": "6",
                                    "2": "2",
                                    "3": "2944.40"
                                },
                                {
                                    "0": "2007",
                                    "1": "6",
                                    "2": "3",
                                    "3": "1987.70"
                                },
                                {
                                    "0": "2007",
                                    "1": "6",
                                    "2": "4",
                                    "3": "2142.90"
                                },
                                {
                                    "0": "2007",
                                    "1": "6",
                                    "2": "5",
                                    "3": "520.41"
                                },
                                {
                                    "0": "2007",
                                    "1": "6",
                                    "2": "6",
                                    "3": "3916.93"
                                },
                                {
                                    "0": "2007",
                                    "1": "6",
                                    "2": "9",
                                    "3": "488.70"
                                },
                                {
                                    "0": "2007",
                                    "1": "6",
                                    "2": "10",
                                    "3": "2199.05"
                                },
                                {
                                    "0": "2007",
                                    "1": "6",
                                    "2": "11",
                                    "3": "639.90"
                                },
                                {
                                    "0": "2007",
                                    "1": "6",
                                    "2": "12",
                                    "3": "4280.00"
                                },
                                {
                                    "0": "2007",
                                    "1": "6",
                                    "2": "13",
                                    "3": "155.00"
                                },
                                {
                                    "0": "2007",
                                    "1": "6",
                                    "2": "16",
                                    "3": "890.00"
                                },
                                {
                                    "0": "2007",
                                    "1": "6",
                                    "2": "17",
                                    "3": "3015.84"
                                },
                                {
                                    "0": "2007",
                                    "1": "6",
                                    "2": "18",
                                    "3": "1501.09"
                                },
                                {
                                    "0": "2007",
                                    "1": "6",
                                    "2": "19",
                                    "3": "2846.30"
                                },
                                {
                                    "0": "2007",
                                    "1": "6",
                                    "2": "20",
                                    "3": "2147.40"
                                },
                                {
                                    "0": "2007",
                                    "1": "6",
                                    "2": "23",
                                    "3": "1407.45"
                                },
                                {
                                    "0": "2007",
                                    "1": "6",
                                    "2": "24",
                                    "3": "477.00"
                                },
                                {
                                    "0": "2007",
                                    "1": "6",
                                    "2": "25",
                                    "3": "317.75"
                                },
                                {
                                    "0": "2007",
                                    "1": "6",
                                    "2": "26",
                                    "3": "1323.75"
                                },
                                {
                                    "0": "2007",
                                    "1": "6",
                                    "2": "27",
                                    "3": "330.00"
                                },
                                {
                                    "0": "2007",
                                    "1": "6",
                                    "2": "30",
                                    "3": "2831.25"
                                },
                                {
                                    "0": "2007",
                                    "1": "6",
                                    "2": "NULL",
                                    "3": "36362.82"
                                },
                                {
                                    "0": "2007",
                                    "1": "7",
                                    "2": "1",
                                    "3": "142.50"
                                },
                                {
                                    "0": "2007",
                                    "1": "7",
                                    "2": "2",
                                    "3": "831.18"
                                },
                                {
                                    "0": "2007",
                                    "1": "7",
                                    "2": "3",
                                    "3": "3120.00"
                                },
                                {
                                    "0": "2007",
                                    "1": "7",
                                    "2": "4",
                                    "3": "72.00"
                                },
                                {
                                    "0": "2007",
                                    "1": "7",
                                    "2": "7",
                                    "3": "1913.50"
                                },
                                {
                                    "0": "2007",
                                    "1": "7",
                                    "2": "8",
                                    "3": "516.47"
                                },
                                {
                                    "0": "2007",
                                    "1": "7",
                                    "2": "9",
                                    "3": "2559.90"
                                },
                                {
                                    "0": "2007",
                                    "1": "7",
                                    "2": "10",
                                    "3": "4725.00"
                                },
                                {
                                    "0": "2007",
                                    "1": "7",
                                    "2": "11",
                                    "3": "1898.96"
                                },
                                {
                                    "0": "2007",
                                    "1": "7",
                                    "2": "14",
                                    "3": "2388.50"
                                },
                                {
                                    "0": "2007",
                                    "1": "7",
                                    "2": "15",
                                    "3": "493.00"
                                },
                                {
                                    "0": "2007",
                                    "1": "7",
                                    "2": "16",
                                    "3": "2764.80"
                                },
                                {
                                    "0": "2007",
                                    "1": "7",
                                    "2": "17",
                                    "3": "48.75"
                                },
                                {
                                    "0": "2007",
                                    "1": "7",
                                    "2": "18",
                                    "3": "1713.85"
                                },
                                {
                                    "0": "2007",
                                    "1": "7",
                                    "2": "21",
                                    "3": "4109.70"
                                },
                                {
                                    "0": "2007",
                                    "1": "7",
                                    "2": "22",
                                    "3": "7605.80"
                                },
                                {
                                    "0": "2007",
                                    "1": "7",
                                    "2": "23",
                                    "3": "1064.00"
                                },
                                {
                                    "0": "2007",
                                    "1": "7",
                                    "2": "24",
                                    "3": "424.00"
                                },
                                {
                                    "0": "2007",
                                    "1": "7",
                                    "2": "25",
                                    "3": "1107.25"
                                },
                                {
                                    "0": "2007",
                                    "1": "7",
                                    "2": "28",
                                    "3": "6375.00"
                                },
                                {
                                    "0": "2007",
                                    "1": "7",
                                    "2": "29",
                                    "3": "817.20"
                                },
                                {
                                    "0": "2007",
                                    "1": "7",
                                    "2": "30",
                                    "3": "120.00"
                                },
                                {
                                    "0": "2007",
                                    "1": "7",
                                    "2": "31",
                                    "3": "6209.50"
                                },
                                {
                                    "0": "2007",
                                    "1": "7",
                                    "2": "NULL",
                                    "3": "51020.86"
                                },
                                {
                                    "0": "2007",
                                    "1": "8",
                                    "2": "1",
                                    "3": "2697.50"
                                },
                                {
                                    "0": "2007",
                                    "1": "8",
                                    "2": "4",
                                    "3": "1260.00"
                                },
                                {
                                    "0": "2007",
                                    "1": "8",
                                    "2": "5",
                                    "3": "816.00"
                                },
                                {
                                    "0": "2007",
                                    "1": "8",
                                    "2": "6",
                                    "3": "560.00"
                                },
                                {
                                    "0": "2007",
                                    "1": "8",
                                    "2": "7",
                                    "3": "2730.19"
                                },
                                {
                                    "0": "2007",
                                    "1": "8",
                                    "2": "8",
                                    "3": "479.75"
                                },
                                {
                                    "0": "2007",
                                    "1": "8",
                                    "2": "11",
                                    "3": "2689.35"
                                },
                                {
                                    "0": "2007",
                                    "1": "8",
                                    "2": "12",
                                    "3": "3225.05"
                                },
                                {
                                    "0": "2007",
                                    "1": "8",
                                    "2": "13",
                                    "3": "903.60"
                                },
                                {
                                    "0": "2007",
                                    "1": "8",
                                    "2": "14",
                                    "3": "644.80"
                                },
                                {
                                    "0": "2007",
                                    "1": "8",
                                    "2": "15",
                                    "3": "10496.09"
                                },
                                {
                                    "0": "2007",
                                    "1": "8",
                                    "2": "18",
                                    "3": "1326.23"
                                },
                                {
                                    "0": "2007",
                                    "1": "8",
                                    "2": "19",
                                    "3": "3391.44"
                                },
                                {
                                    "0": "2007",
                                    "1": "8",
                                    "2": "20",
                                    "3": "3220.05"
                                },
                                {
                                    "0": "2007",
                                    "1": "8",
                                    "2": "21",
                                    "3": "708.75"
                                },
                                {
                                    "0": "2007",
                                    "1": "8",
                                    "2": "22",
                                    "3": "2750.00"
                                },
                                {
                                    "0": "2007",
                                    "1": "8",
                                    "2": "25",
                                    "3": "2186.30"
                                },
                                {
                                    "0": "2007",
                                    "1": "8",
                                    "2": "26",
                                    "3": "1535.00"
                                },
                                {
                                    "0": "2007",
                                    "1": "8",
                                    "2": "27",
                                    "3": "2082.00"
                                },
                                {
                                    "0": "2007",
                                    "1": "8",
                                    "2": "28",
                                    "3": "1806.38"
                                },
                                {
                                    "0": "2007",
                                    "1": "8",
                                    "2": "29",
                                    "3": "1779.20"
                                },
                                {
                                    "0": "2007",
                                    "1": "8",
                                    "2": "NULL",
                                    "3": "47287.68"
                                },
                                {
                                    "0": "2007",
                                    "1": "9",
                                    "2": "1",
                                    "3": "716.64"
                                },
                                {
                                    "0": "2007",
                                    "1": "9",
                                    "2": "2",
                                    "3": "1684.98"
                                },
                                {
                                    "0": "2007",
                                    "1": "9",
                                    "2": "3",
                                    "3": "154.40"
                                },
                                {
                                    "0": "2007",
                                    "1": "9",
                                    "2": "4",
                                    "3": "4975.82"
                                },
                                {
                                    "0": "2007",
                                    "1": "9",
                                    "2": "5",
                                    "3": "5691.62"
                                },
                                {
                                    "0": "2007",
                                    "1": "9",
                                    "2": "8",
                                    "3": "1701.00"
                                },
                                {
                                    "0": "2007",
                                    "1": "9",
                                    "2": "9",
                                    "3": "687.60"
                                },
                                {
                                    "0": "2007",
                                    "1": "9",
                                    "2": "10",
                                    "3": "3218.79"
                                },
                                {
                                    "0": "2007",
                                    "1": "9",
                                    "2": "11",
                                    "3": "1295.00"
                                },
                                {
                                    "0": "2007",
                                    "1": "9",
                                    "2": "12",
                                    "3": "6203.74"
                                },
                                {
                                    "0": "2007",
                                    "1": "9",
                                    "2": "15",
                                    "3": "1195.28"
                                },
                                {
                                    "0": "2007",
                                    "1": "9",
                                    "2": "16",
                                    "3": "2301.75"
                                },
                                {
                                    "0": "2007",
                                    "1": "9",
                                    "2": "17",
                                    "3": "4735.35"
                                },
                                {
                                    "0": "2007",
                                    "1": "9",
                                    "2": "18",
                                    "3": "457.35"
                                },
                                {
                                    "0": "2007",
                                    "1": "9",
                                    "2": "19",
                                    "3": "1423.00"
                                },
                                {
                                    "0": "2007",
                                    "1": "9",
                                    "2": "22",
                                    "3": "1348.22"
                                },
                                {
                                    "0": "2007",
                                    "1": "9",
                                    "2": "23",
                                    "3": "5916.50"
                                },
                                {
                                    "0": "2007",
                                    "1": "9",
                                    "2": "24",
                                    "3": "1261.88"
                                },
                                {
                                    "0": "2007",
                                    "1": "9",
                                    "2": "25",
                                    "3": "1662.90"
                                },
                                {
                                    "0": "2007",
                                    "1": "9",
                                    "2": "26",
                                    "3": "1831.00"
                                },
                                {
                                    "0": "2007",
                                    "1": "9",
                                    "2": "29",
                                    "3": "801.10"
                                },
                                {
                                    "0": "2007",
                                    "1": "9",
                                    "2": "30",
                                    "3": "6365.35"
                                },
                                {
                                    "0": "2007",
                                    "1": "9",
                                    "2": "NULL",
                                    "3": "55629.27"
                                },
                                {
                                    "0": "2007",
                                    "1": "10",
                                    "2": "1",
                                    "3": "3633.10"
                                },
                                {
                                    "0": "2007",
                                    "1": "10",
                                    "2": "2",
                                    "3": "862.50"
                                },
                                {
                                    "0": "2007",
                                    "1": "10",
                                    "2": "3",
                                    "3": "11042.80"
                                },
                                {
                                    "0": "2007",
                                    "1": "10",
                                    "2": "6",
                                    "3": "6896.20"
                                },
                                {
                                    "0": "2007",
                                    "1": "10",
                                    "2": "7",
                                    "3": "642.00"
                                },
                                {
                                    "0": "2007",
                                    "1": "10",
                                    "2": "8",
                                    "3": "1801.43"
                                },
                                {
                                    "0": "2007",
                                    "1": "10",
                                    "2": "9",
                                    "3": "3550.44"
                                },
                                {
                                    "0": "2007",
                                    "1": "10",
                                    "2": "10",
                                    "3": "1638.40"
                                },
                                {
                                    "0": "2007",
                                    "1": "10",
                                    "2": "13",
                                    "3": "3194.50"
                                },
                                {
                                    "0": "2007",
                                    "1": "10",
                                    "2": "14",
                                    "3": "3140.50"
                                },
                                {
                                    "0": "2007",
                                    "1": "10",
                                    "2": "15",
                                    "3": "378.00"
                                },
                                {
                                    "0": "2007",
                                    "1": "10",
                                    "2": "16",
                                    "3": "3534.00"
                                },
                                {
                                    "0": "2007",
                                    "1": "10",
                                    "2": "17",
                                    "3": "3604.40"
                                },
                                {
                                    "0": "2007",
                                    "1": "10",
                                    "2": "20",
                                    "3": "93.50"
                                },
                                {
                                    "0": "2007",
                                    "1": "10",
                                    "2": "21",
                                    "3": "5685.18"
                                },
                                {
                                    "0": "2007",
                                    "1": "10",
                                    "2": "22",
                                    "3": "5033.65"
                                },
                                {
                                    "0": "2007",
                                    "1": "10",
                                    "2": "23",
                                    "3": "1296.00"
                                },
                                {
                                    "0": "2007",
                                    "1": "10",
                                    "2": "24",
                                    "3": "1976.75"
                                },
                                {
                                    "0": "2007",
                                    "1": "10",
                                    "2": "27",
                                    "3": "4307.25"
                                },
                                {
                                    "0": "2007",
                                    "1": "10",
                                    "2": "28",
                                    "3": "550.00"
                                },
                                {
                                    "0": "2007",
                                    "1": "10",
                                    "2": "29",
                                    "3": "2493.88"
                                },
                                {
                                    "0": "2007",
                                    "1": "10",
                                    "2": "30",
                                    "3": "1106.95"
                                },
                                {
                                    "0": "2007",
                                    "1": "10",
                                    "2": "31",
                                    "3": "287.80"
                                },
                                {
                                    "0": "2007",
                                    "1": "10",
                                    "2": "NULL",
                                    "3": "66749.23"
                                },
                                {
                                    "0": "2007",
                                    "1": "11",
                                    "2": "3",
                                    "3": "2279.50"
                                },
                                {
                                    "0": "2007",
                                    "1": "11",
                                    "2": "4",
                                    "3": "3146.75"
                                },
                                {
                                    "0": "2007",
                                    "1": "11",
                                    "2": "5",
                                    "3": "484.26"
                                },
                                {
                                    "0": "2007",
                                    "1": "11",
                                    "2": "6",
                                    "3": "2250.50"
                                },
                                {
                                    "0": "2007",
                                    "1": "11",
                                    "2": "7",
                                    "3": "2957.35"
                                },
                                {
                                    "0": "2007",
                                    "1": "11",
                                    "2": "10",
                                    "3": "536.40"
                                },
                                {
                                    "0": "2007",
                                    "1": "11",
                                    "2": "11",
                                    "3": "1136.80"
                                },
                                {
                                    "0": "2007",
                                    "1": "11",
                                    "2": "12",
                                    "3": "292.35"
                                },
                                {
                                    "0": "2007",
                                    "1": "11",
                                    "2": "13",
                                    "3": "1416.00"
                                },
                                {
                                    "0": "2007",
                                    "1": "11",
                                    "2": "14",
                                    "3": "3346.00"
                                },
                                {
                                    "0": "2007",
                                    "1": "11",
                                    "2": "17",
                                    "3": "1055.20"
                                },
                                {
                                    "0": "2007",
                                    "1": "11",
                                    "2": "18",
                                    "3": "4529.80"
                                },
                                {
                                    "0": "2007",
                                    "1": "11",
                                    "2": "19",
                                    "3": "4224.55"
                                },
                                {
                                    "0": "2007",
                                    "1": "11",
                                    "2": "20",
                                    "3": "3276.00"
                                },
                                {
                                    "0": "2007",
                                    "1": "11",
                                    "2": "21",
                                    "3": "1590.56"
                                },
                                {
                                    "0": "2007",
                                    "1": "11",
                                    "2": "24",
                                    "3": "1883.48"
                                },
                                {
                                    "0": "2007",
                                    "1": "11",
                                    "2": "25",
                                    "3": "143.20"
                                },
                                {
                                    "0": "2007",
                                    "1": "11",
                                    "2": "26",
                                    "3": "1948.50"
                                },
                                {
                                    "0": "2007",
                                    "1": "11",
                                    "2": "27",
                                    "3": "5072.00"
                                },
                                {
                                    "0": "2007",
                                    "1": "11",
                                    "2": "28",
                                    "3": "1964.60"
                                },
                                {
                                    "0": "2007",
                                    "1": "11",
                                    "2": "NULL",
                                    "3": "43533.80"
                                },
                                {
                                    "0": "2007",
                                    "1": "12",
                                    "2": "1",
                                    "3": "2917.00"
                                },
                                {
                                    "0": "2007",
                                    "1": "12",
                                    "2": "2",
                                    "3": "4844.00"
                                },
                                {
                                    "0": "2007",
                                    "1": "12",
                                    "2": "3",
                                    "3": "2902.00"
                                },
                                {
                                    "0": "2007",
                                    "1": "12",
                                    "2": "4",
                                    "3": "1515.60"
                                },
                                {
                                    "0": "2007",
                                    "1": "12",
                                    "2": "5",
                                    "3": "2338.00"
                                },
                                {
                                    "0": "2007",
                                    "1": "12",
                                    "2": "8",
                                    "3": "3161.28"
                                },
                                {
                                    "0": "2007",
                                    "1": "12",
                                    "2": "9",
                                    "3": "236.25"
                                },
                                {
                                    "0": "2007",
                                    "1": "12",
                                    "2": "10",
                                    "3": "3947.22"
                                },
                                {
                                    "0": "2007",
                                    "1": "12",
                                    "2": "11",
                                    "3": "2899.15"
                                },
                                {
                                    "0": "2007",
                                    "1": "12",
                                    "2": "12",
                                    "3": "228.00"
                                },
                                {
                                    "0": "2007",
                                    "1": "12",
                                    "2": "15",
                                    "3": "6859.28"
                                },
                                {
                                    "0": "2007",
                                    "1": "12",
                                    "2": "16",
                                    "3": "2151.50"
                                },
                                {
                                    "0": "2007",
                                    "1": "12",
                                    "2": "17",
                                    "3": "988.38"
                                },
                                {
                                    "0": "2007",
                                    "1": "12",
                                    "2": "18",
                                    "3": "3318.00"
                                },
                                {
                                    "0": "2007",
                                    "1": "12",
                                    "2": "19",
                                    "3": "4153.84"
                                },
                                {
                                    "0": "2007",
                                    "1": "12",
                                    "2": "22",
                                    "3": "5141.00"
                                },
                                {
                                    "0": "2007",
                                    "1": "12",
                                    "2": "23",
                                    "3": "2229.61"
                                },
                                {
                                    "0": "2007",
                                    "1": "12",
                                    "2": "24",
                                    "3": "2663.86"
                                },
                                {
                                    "0": "2007",
                                    "1": "12",
                                    "2": "25",
                                    "3": "2761.36"
                                },
                                {
                                    "0": "2007",
                                    "1": "12",
                                    "2": "26",
                                    "3": "3469.04"
                                },
                                {
                                    "0": "2007",
                                    "1": "12",
                                    "2": "29",
                                    "3": "5969.66"
                                },
                                {
                                    "0": "2007",
                                    "1": "12",
                                    "2": "30",
                                    "3": "6246.41"
                                },
                                {
                                    "0": "2007",
                                    "1": "12",
                                    "2": "31",
                                    "3": "458.00"
                                },
                                {
                                    "0": "2007",
                                    "1": "12",
                                    "2": "NULL",
                                    "3": "71398.44"
                                },
                                {
                                    "0": "2007",
                                    "1": "NULL",
                                    "2": "NULL",
                                    "3": "617085.30"
                                },
                                {
                                    "0": "2008",
                                    "1": "1",
                                    "2": "1",
                                    "3": "1738.00"
                                },
                                {
                                    "0": "2008",
                                    "1": "1",
                                    "2": "2",
                                    "3": "2544.80"
                                },
                                {
                                    "0": "2008",
                                    "1": "1",
                                    "2": "5",
                                    "3": "2430.85"
                                },
                                {
                                    "0": "2008",
                                    "1": "1",
                                    "2": "6",
                                    "3": "19399.30"
                                },
                                {
                                    "0": "2008",
                                    "1": "1",
                                    "2": "7",
                                    "3": "2450.00"
                                },
                                {
                                    "0": "2008",
                                    "1": "1",
                                    "2": "8",
                                    "3": "915.90"
                                },
                                {
                                    "0": "2008",
                                    "1": "1",
                                    "2": "9",
                                    "3": "4107.56"
                                },
                                {
                                    "0": "2008",
                                    "1": "1",
                                    "2": "12",
                                    "3": "1573.00"
                                },
                                {
                                    "0": "2008",
                                    "1": "1",
                                    "2": "13",
                                    "3": "4670.00"
                                },
                                {
                                    "0": "2008",
                                    "1": "1",
                                    "2": "14",
                                    "3": "3159.51"
                                },
                                {
                                    "0": "2008",
                                    "1": "1",
                                    "2": "15",
                                    "3": "3185.44"
                                },
                                {
                                    "0": "2008",
                                    "1": "1",
                                    "2": "16",
                                    "3": "5770.00"
                                },
                                {
                                    "0": "2008",
                                    "1": "1",
                                    "2": "19",
                                    "3": "2977.13"
                                },
                                {
                                    "0": "2008",
                                    "1": "1",
                                    "2": "20",
                                    "3": "5556.00"
                                },
                                {
                                    "0": "2008",
                                    "1": "1",
                                    "2": "21",
                                    "3": "4706.70"
                                },
                                {
                                    "0": "2008",
                                    "1": "1",
                                    "2": "22",
                                    "3": "6043.92"
                                },
                                {
                                    "0": "2008",
                                    "1": "1",
                                    "2": "23",
                                    "3": "2528.32"
                                },
                                {
                                    "0": "2008",
                                    "1": "1",
                                    "2": "26",
                                    "3": "5587.00"
                                },
                                {
                                    "0": "2008",
                                    "1": "1",
                                    "2": "27",
                                    "3": "5819.39"
                                },
                                {
                                    "0": "2008",
                                    "1": "1",
                                    "2": "28",
                                    "3": "2708.21"
                                },
                                {
                                    "0": "2008",
                                    "1": "1",
                                    "2": "29",
                                    "3": "2246.69"
                                },
                                {
                                    "0": "2008",
                                    "1": "1",
                                    "2": "30",
                                    "3": "4104.40"
                                },
                                {
                                    "0": "2008",
                                    "1": "1",
                                    "2": "NULL",
                                    "3": "94222.12"
                                },
                                {
                                    "0": "2008",
                                    "1": "2",
                                    "2": "2",
                                    "3": "17110.65"
                                },
                                {
                                    "0": "2008",
                                    "1": "2",
                                    "2": "3",
                                    "3": "1194.60"
                                },
                                {
                                    "0": "2008",
                                    "1": "2",
                                    "2": "4",
                                    "3": "3710.60"
                                },
                                {
                                    "0": "2008",
                                    "1": "2",
                                    "2": "5",
                                    "3": "4037.69"
                                },
                                {
                                    "0": "2008",
                                    "1": "2",
                                    "2": "6",
                                    "3": "1356.35"
                                },
                                {
                                    "0": "2008",
                                    "1": "2",
                                    "2": "9",
                                    "3": "2872.13"
                                },
                                {
                                    "0": "2008",
                                    "1": "2",
                                    "2": "10",
                                    "3": "3650.30"
                                },
                                {
                                    "0": "2008",
                                    "1": "2",
                                    "2": "11",
                                    "3": "1042.64"
                                },
                                {
                                    "0": "2008",
                                    "1": "2",
                                    "2": "12",
                                    "3": "2623.07"
                                },
                                {
                                    "0": "2008",
                                    "1": "2",
                                    "2": "13",
                                    "3": "3197.50"
                                },
                                {
                                    "0": "2008",
                                    "1": "2",
                                    "2": "16",
                                    "3": "12845.10"
                                },
                                {
                                    "0": "2008",
                                    "1": "2",
                                    "2": "17",
                                    "3": "2458.93"
                                },
                                {
                                    "0": "2008",
                                    "1": "2",
                                    "2": "18",
                                    "3": "14634.61"
                                },
                                {
                                    "0": "2008",
                                    "1": "2",
                                    "2": "19",
                                    "3": "11585.74"
                                },
                                {
                                    "0": "2008",
                                    "1": "2",
                                    "2": "20",
                                    "3": "186.15"
                                },
                                {
                                    "0": "2008",
                                    "1": "2",
                                    "2": "23",
                                    "3": "1797.93"
                                },
                                {
                                    "0": "2008",
                                    "1": "2",
                                    "2": "24",
                                    "3": "3198.30"
                                },
                                {
                                    "0": "2008",
                                    "1": "2",
                                    "2": "25",
                                    "3": "536.00"
                                },
                                {
                                    "0": "2008",
                                    "1": "2",
                                    "2": "26",
                                    "3": "9613.30"
                                },
                                {
                                    "0": "2008",
                                    "1": "2",
                                    "2": "27",
                                    "3": "1763.70"
                                },
                                {
                                    "0": "2008",
                                    "1": "2",
                                    "2": "NULL",
                                    "3": "99415.29"
                                },
                                {
                                    "0": "2008",
                                    "1": "3",
                                    "2": "2",
                                    "3": "2936.19"
                                },
                                {
                                    "0": "2008",
                                    "1": "3",
                                    "2": "3",
                                    "3": "3817.30"
                                },
                                {
                                    "0": "2008",
                                    "1": "3",
                                    "2": "4",
                                    "3": "2825.25"
                                },
                                {
                                    "0": "2008",
                                    "1": "3",
                                    "2": "5",
                                    "3": "2112.25"
                                },
                                {
                                    "0": "2008",
                                    "1": "3",
                                    "2": "6",
                                    "3": "5763.93"
                                },
                                {
                                    "0": "2008",
                                    "1": "3",
                                    "2": "9",
                                    "3": "1575.50"
                                },
                                {
                                    "0": "2008",
                                    "1": "3",
                                    "2": "10",
                                    "3": "4014.18"
                                },
                                {
                                    "0": "2008",
                                    "1": "3",
                                    "2": "11",
                                    "3": "5642.75"
                                },
                                {
                                    "0": "2008",
                                    "1": "3",
                                    "2": "12",
                                    "3": "2677.83"
                                },
                                {
                                    "0": "2008",
                                    "1": "3",
                                    "2": "13",
                                    "3": "7004.25"
                                },
                                {
                                    "0": "2008",
                                    "1": "3",
                                    "2": "16",
                                    "3": "5481.21"
                                },
                                {
                                    "0": "2008",
                                    "1": "3",
                                    "2": "17",
                                    "3": "2410.94"
                                },
                                {
                                    "0": "2008",
                                    "1": "3",
                                    "2": "18",
                                    "3": "2675.45"
                                },
                                {
                                    "0": "2008",
                                    "1": "3",
                                    "2": "19",
                                    "3": "5027.05"
                                },
                                {
                                    "0": "2008",
                                    "1": "3",
                                    "2": "20",
                                    "3": "3998.96"
                                },
                                {
                                    "0": "2008",
                                    "1": "3",
                                    "2": "23",
                                    "3": "2426.40"
                                },
                                {
                                    "0": "2008",
                                    "1": "3",
                                    "2": "24",
                                    "3": "2500.11"
                                },
                                {
                                    "0": "2008",
                                    "1": "3",
                                    "2": "25",
                                    "3": "2068.50"
                                },
                                {
                                    "0": "2008",
                                    "1": "3",
                                    "2": "26",
                                    "3": "8349.70"
                                },
                                {
                                    "0": "2008",
                                    "1": "3",
                                    "2": "27",
                                    "3": "17792.90"
                                },
                                {
                                    "0": "2008",
                                    "1": "3",
                                    "2": "30",
                                    "3": "6053.13"
                                },
                                {
                                    "0": "2008",
                                    "1": "3",
                                    "2": "31",
                                    "3": "7700.40"
                                },
                                {
                                    "0": "2008",
                                    "1": "3",
                                    "2": "NULL",
                                    "3": "104854.18"
                                },
                                {
                                    "0": "2008",
                                    "1": "4",
                                    "2": "1",
                                    "3": "11549.89"
                                },
                                {
                                    "0": "2008",
                                    "1": "4",
                                    "2": "2",
                                    "3": "2696.50"
                                },
                                {
                                    "0": "2008",
                                    "1": "4",
                                    "2": "3",
                                    "3": "3768.95"
                                },
                                {
                                    "0": "2008",
                                    "1": "4",
                                    "2": "6",
                                    "3": "5809.85"
                                },
                                {
                                    "0": "2008",
                                    "1": "4",
                                    "2": "7",
                                    "3": "1211.07"
                                },
                                {
                                    "0": "2008",
                                    "1": "4",
                                    "2": "8",
                                    "3": "7931.30"
                                },
                                {
                                    "0": "2008",
                                    "1": "4",
                                    "2": "9",
                                    "3": "4764.80"
                                },
                                {
                                    "0": "2008",
                                    "1": "4",
                                    "2": "10",
                                    "3": "1357.03"
                                },
                                {
                                    "0": "2008",
                                    "1": "4",
                                    "2": "13",
                                    "3": "8401.00"
                                },
                                {
                                    "0": "2008",
                                    "1": "4",
                                    "2": "14",
                                    "3": "9840.64"
                                },
                                {
                                    "0": "2008",
                                    "1": "4",
                                    "2": "15",
                                    "3": "3266.81"
                                },
                                {
                                    "0": "2008",
                                    "1": "4",
                                    "2": "16",
                                    "3": "4324.53"
                                },
                                {
                                    "0": "2008",
                                    "1": "4",
                                    "2": "17",
                                    "3": "27143.85"
                                },
                                {
                                    "0": "2008",
                                    "1": "4",
                                    "2": "20",
                                    "3": "3985.90"
                                },
                                {
                                    "0": "2008",
                                    "1": "4",
                                    "2": "21",
                                    "3": "3882.60"
                                },
                                {
                                    "0": "2008",
                                    "1": "4",
                                    "2": "22",
                                    "3": "2588.75"
                                },
                                {
                                    "0": "2008",
                                    "1": "4",
                                    "2": "23",
                                    "3": "3386.90"
                                },
                                {
                                    "0": "2008",
                                    "1": "4",
                                    "2": "24",
                                    "3": "1616.48"
                                },
                                {
                                    "0": "2008",
                                    "1": "4",
                                    "2": "27",
                                    "3": "5233.00"
                                },
                                {
                                    "0": "2008",
                                    "1": "4",
                                    "2": "28",
                                    "3": "5772.50"
                                },
                                {
                                    "0": "2008",
                                    "1": "4",
                                    "2": "29",
                                    "3": "2741.00"
                                },
                                {
                                    "0": "2008",
                                    "1": "4",
                                    "2": "30",
                                    "3": "2525.35"
                                },
                                {
                                    "0": "2008",
                                    "1": "4",
                                    "2": "NULL",
                                    "3": "123798.70"
                                },
                                {
                                    "0": "2008",
                                    "1": "5",
                                    "2": "1",
                                    "3": "5448.57"
                                },
                                {
                                    "0": "2008",
                                    "1": "5",
                                    "2": "4",
                                    "3": "2473.93"
                                },
                                {
                                    "0": "2008",
                                    "1": "5",
                                    "2": "5",
                                    "3": "7632.48"
                                },
                                {
                                    "0": "2008",
                                    "1": "5",
                                    "2": "6",
                                    "3": "2778.66"
                                },
                                {
                                    "0": "2008",
                                    "1": "5",
                                    "2": "NULL",
                                    "3": "18333.64"
                                },
                                {
                                    "0": "2008",
                                    "1": "NULL",
                                    "2": "NULL",
                                    "3": "440623.93"
                                },
                                {
                                    "0": "NULL",
                                    "1": "NULL",
                                    "2": "NULL",
                                    "3": "1265793.22"
                                }
                            ]
                        },
                        "text/html": [
                            "<table>",
                            "<tr><th>orderyear</th><th>ordermonth</th><th>orderday</th><th>salesvalue</th></tr>",
                            "<tr><td>2006</td><td>7</td><td>4</td><td>440.00</td></tr>",
                            "<tr><td>2006</td><td>7</td><td>5</td><td>1863.40</td></tr>",
                            "<tr><td>2006</td><td>7</td><td>8</td><td>2206.66</td></tr>",
                            "<tr><td>2006</td><td>7</td><td>9</td><td>3597.90</td></tr>",
                            "<tr><td>2006</td><td>7</td><td>10</td><td>1444.80</td></tr>",
                            "<tr><td>2006</td><td>7</td><td>11</td><td>556.62</td></tr>",
                            "<tr><td>2006</td><td>7</td><td>12</td><td>2490.50</td></tr>",
                            "<tr><td>2006</td><td>7</td><td>15</td><td>517.80</td></tr>",
                            "<tr><td>2006</td><td>7</td><td>16</td><td>1119.90</td></tr>",
                            "<tr><td>2006</td><td>7</td><td>17</td><td>1614.88</td></tr>",
                            "<tr><td>2006</td><td>7</td><td>18</td><td>100.80</td></tr>",
                            "<tr><td>2006</td><td>7</td><td>19</td><td>1952.65</td></tr>",
                            "<tr><td>2006</td><td>7</td><td>22</td><td>584.00</td></tr>",
                            "<tr><td>2006</td><td>7</td><td>23</td><td>1873.80</td></tr>",
                            "<tr><td>2006</td><td>7</td><td>24</td><td>695.63</td></tr>",
                            "<tr><td>2006</td><td>7</td><td>25</td><td>1176.00</td></tr>",
                            "<tr><td>2006</td><td>7</td><td>26</td><td>346.56</td></tr>",
                            "<tr><td>2006</td><td>7</td><td>29</td><td>3536.60</td></tr>",
                            "<tr><td>2006</td><td>7</td><td>30</td><td>1101.20</td></tr>",
                            "<tr><td>2006</td><td>7</td><td>31</td><td>642.20</td></tr>",
                            "<tr><td>2006</td><td>7</td><td>NULL</td><td>27861.90</td></tr>",
                            "<tr><td>2006</td><td>8</td><td>1</td><td>1424.00</td></tr>",
                            "<tr><td>2006</td><td>8</td><td>2</td><td>1456.00</td></tr>",
                            "<tr><td>2006</td><td>8</td><td>5</td><td>2037.28</td></tr>",
                            "<tr><td>2006</td><td>8</td><td>6</td><td>538.60</td></tr>",
                            "<tr><td>2006</td><td>8</td><td>7</td><td>291.84</td></tr>",
                            "<tr><td>2006</td><td>8</td><td>8</td><td>420.00</td></tr>",
                            "<tr><td>2006</td><td>8</td><td>9</td><td>1200.80</td></tr>",
                            "<tr><td>2006</td><td>8</td><td>12</td><td>1488.80</td></tr>",
                            "<tr><td>2006</td><td>8</td><td>13</td><td>351.00</td></tr>",
                            "<tr><td>2006</td><td>8</td><td>14</td><td>699.70</td></tr>",
                            "<tr><td>2006</td><td>8</td><td>15</td><td>155.40</td></tr>",
                            "<tr><td>2006</td><td>8</td><td>16</td><td>1414.80</td></tr>",
                            "<tr><td>2006</td><td>8</td><td>19</td><td>1170.38</td></tr>",
                            "<tr><td>2006</td><td>8</td><td>20</td><td>1743.36</td></tr>",
                            "<tr><td>2006</td><td>8</td><td>21</td><td>3016.00</td></tr>",
                            "<tr><td>2006</td><td>8</td><td>22</td><td>819.00</td></tr>",
                            "<tr><td>2006</td><td>8</td><td>23</td><td>80.10</td></tr>",
                            "<tr><td>2006</td><td>8</td><td>26</td><td>479.40</td></tr>",
                            "<tr><td>2006</td><td>8</td><td>27</td><td>2666.52</td></tr>",
                            "<tr><td>2006</td><td>8</td><td>28</td><td>1296.00</td></tr>",
                            "<tr><td>2006</td><td>8</td><td>29</td><td>848.70</td></tr>",
                            "<tr><td>2006</td><td>8</td><td>30</td><td>1887.60</td></tr>",
                            "<tr><td>2006</td><td>8</td><td>NULL</td><td>25485.28</td></tr>",
                            "<tr><td>2006</td><td>9</td><td>2</td><td>121.60</td></tr>",
                            "<tr><td>2006</td><td>9</td><td>3</td><td>1050.60</td></tr>",
                            "<tr><td>2006</td><td>9</td><td>4</td><td>1420.00</td></tr>",
                            "<tr><td>2006</td><td>9</td><td>5</td><td>2645.00</td></tr>",
                            "<tr><td>2006</td><td>9</td><td>6</td><td>349.50</td></tr>",
                            "<tr><td>2006</td><td>9</td><td>9</td><td>1363.00</td></tr>",
                            "<tr><td>2006</td><td>9</td><td>10</td><td>2708.80</td></tr>",
                            "<tr><td>2006</td><td>9</td><td>11</td><td>1117.80</td></tr>",
                            "<tr><td>2006</td><td>9</td><td>12</td><td>954.40</td></tr>",
                            "<tr><td>2006</td><td>9</td><td>13</td><td>3741.30</td></tr>",
                            "<tr><td>2006</td><td>9</td><td>16</td><td>498.50</td></tr>",
                            "<tr><td>2006</td><td>9</td><td>17</td><td>424.00</td></tr>",
                            "<tr><td>2006</td><td>9</td><td>18</td><td>88.80</td></tr>",
                            "<tr><td>2006</td><td>9</td><td>19</td><td>1762.00</td></tr>",
                            "<tr><td>2006</td><td>9</td><td>20</td><td>604.80</td></tr>",
                            "<tr><td>2006</td><td>9</td><td>23</td><td>1614.80</td></tr>",
                            "<tr><td>2006</td><td>9</td><td>24</td><td>182.40</td></tr>",
                            "<tr><td>2006</td><td>9</td><td>25</td><td>2094.30</td></tr>",
                            "<tr><td>2006</td><td>9</td><td>26</td><td>516.80</td></tr>",
                            "<tr><td>2006</td><td>9</td><td>27</td><td>2835.00</td></tr>",
                            "<tr><td>2006</td><td>9</td><td>30</td><td>288.00</td></tr>",
                            "<tr><td>2006</td><td>9</td><td>NULL</td><td>26381.40</td></tr>",
                            "<tr><td>2006</td><td>10</td><td>1</td><td>240.40</td></tr>",
                            "<tr><td>2006</td><td>10</td><td>2</td><td>1191.20</td></tr>",
                            "<tr><td>2006</td><td>10</td><td>3</td><td>660.00</td></tr>",
                            "<tr><td>2006</td><td>10</td><td>4</td><td>112.00</td></tr>",
                            "<tr><td>2006</td><td>10</td><td>7</td><td>164.40</td></tr>",
                            "<tr><td>2006</td><td>10</td><td>8</td><td>5275.72</td></tr>",
                            "<tr><td>2006</td><td>10</td><td>9</td><td>1497.00</td></tr>",
                            "<tr><td>2006</td><td>10</td><td>10</td><td>982.00</td></tr>",
                            "<tr><td>2006</td><td>10</td><td>11</td><td>1810.00</td></tr>",
                            "<tr><td>2006</td><td>10</td><td>14</td><td>1168.00</td></tr>",
                            "<tr><td>2006</td><td>10</td><td>15</td><td>4578.43</td></tr>",
                            "<tr><td>2006</td><td>10</td><td>16</td><td>1737.50</td></tr>",
                            "<tr><td>2006</td><td>10</td><td>17</td><td>1786.88</td></tr>",
                            "<tr><td>2006</td><td>10</td><td>18</td><td>877.20</td></tr>",
                            "<tr><td>2006</td><td>10</td><td>21</td><td>144.80</td></tr>",
                            "<tr><td>2006</td><td>10</td><td>22</td><td>2036.16</td></tr>",
                            "<tr><td>2006</td><td>10</td><td>23</td><td>285.12</td></tr>",
                            "<tr><td>2006</td><td>10</td><td>24</td><td>2467.00</td></tr>",
                            "<tr><td>2006</td><td>10</td><td>25</td><td>934.50</td></tr>",
                            "<tr><td>2006</td><td>10</td><td>28</td><td>3354.00</td></tr>",
                            "<tr><td>2006</td><td>10</td><td>29</td><td>2788.78</td></tr>",
                            "<tr><td>2006</td><td>10</td><td>30</td><td>1840.64</td></tr>",
                            "<tr><td>2006</td><td>10</td><td>31</td><td>1584.00</td></tr>",
                            "<tr><td>2006</td><td>10</td><td>NULL</td><td>37515.73</td></tr>",
                            "<tr><td>2006</td><td>11</td><td>1</td><td>2296.00</td></tr>",
                            "<tr><td>2006</td><td>11</td><td>4</td><td>2924.80</td></tr>",
                            "<tr><td>2006</td><td>11</td><td>5</td><td>1618.88</td></tr>",
                            "<tr><td>2006</td><td>11</td><td>6</td><td>814.42</td></tr>",
                            "<tr><td>2006</td><td>11</td><td>7</td><td>363.60</td></tr>",
                            "<tr><td>2006</td><td>11</td><td>8</td><td>141.60</td></tr>",
                            "<tr><td>2006</td><td>11</td><td>11</td><td>6040.79</td></tr>",
                            "<tr><td>2006</td><td>11</td><td>12</td><td>136.30</td></tr>",
                            "<tr><td>2006</td><td>11</td><td>13</td><td>8593.28</td></tr>",
                            "<tr><td>2006</td><td>11</td><td>14</td><td>568.80</td></tr>",
                            "<tr><td>2006</td><td>11</td><td>15</td><td>480.00</td></tr>",
                            "<tr><td>2006</td><td>11</td><td>18</td><td>1106.40</td></tr>",
                            "<tr><td>2006</td><td>11</td><td>19</td><td>1167.68</td></tr>",
                            "<tr><td>2006</td><td>11</td><td>20</td><td>429.40</td></tr>",
                            "<tr><td>2006</td><td>11</td><td>21</td><td>3471.68</td></tr>",
                            "<tr><td>2006</td><td>11</td><td>22</td><td>9436.44</td></tr>",
                            "<tr><td>2006</td><td>11</td><td>25</td><td>1549.60</td></tr>",
                            "<tr><td>2006</td><td>11</td><td>26</td><td>1397.20</td></tr>",
                            "<tr><td>2006</td><td>11</td><td>27</td><td>403.20</td></tr>",
                            "<tr><td>2006</td><td>11</td><td>28</td><td>970.20</td></tr>",
                            "<tr><td>2006</td><td>11</td><td>29</td><td>1689.78</td></tr>",
                            "<tr><td>2006</td><td>11</td><td>NULL</td><td>45600.05</td></tr>",
                            "<tr><td>2006</td><td>12</td><td>2</td><td>2390.40</td></tr>",
                            "<tr><td>2006</td><td>12</td><td>3</td><td>1190.56</td></tr>",
                            "<tr><td>2006</td><td>12</td><td>4</td><td>9210.90</td></tr>",
                            "<tr><td>2006</td><td>12</td><td>5</td><td>1825.40</td></tr>",
                            "<tr><td>2006</td><td>12</td><td>6</td><td>338.00</td></tr>",
                            "<tr><td>2006</td><td>12</td><td>9</td><td>1262.60</td></tr>",
                            "<tr><td>2006</td><td>12</td><td>10</td><td>103.20</td></tr>",
                            "<tr><td>2006</td><td>12</td><td>11</td><td>863.28</td></tr>",
                            "<tr><td>2006</td><td>12</td><td>12</td><td>1425.82</td></tr>",
                            "<tr><td>2006</td><td>12</td><td>13</td><td>2900.00</td></tr>",
                            "<tr><td>2006</td><td>12</td><td>16</td><td>3121.40</td></tr>",
                            "<tr><td>2006</td><td>12</td><td>17</td><td>691.20</td></tr>",
                            "<tr><td>2006</td><td>12</td><td>18</td><td>1224.40</td></tr>",
                            "<tr><td>2006</td><td>12</td><td>19</td><td>1228.80</td></tr>",
                            "<tr><td>2006</td><td>12</td><td>20</td><td>1832.80</td></tr>",
                            "<tr><td>2006</td><td>12</td><td>23</td><td>2177.28</td></tr>",
                            "<tr><td>2006</td><td>12</td><td>24</td><td>1440.00</td></tr>",
                            "<tr><td>2006</td><td>12</td><td>25</td><td>2998.95</td></tr>",
                            "<tr><td>2006</td><td>12</td><td>26</td><td>2122.92</td></tr>",
                            "<tr><td>2006</td><td>12</td><td>27</td><td>2620.52</td></tr>",
                            "<tr><td>2006</td><td>12</td><td>30</td><td>2505.60</td></tr>",
                            "<tr><td>2006</td><td>12</td><td>31</td><td>1765.60</td></tr>",
                            "<tr><td>2006</td><td>12</td><td>NULL</td><td>45239.63</td></tr>",
                            "<tr><td>2006</td><td>NULL</td><td>NULL</td><td>208083.99</td></tr>",
                            "<tr><td>2007</td><td>1</td><td>1</td><td>6931.60</td></tr>",
                            "<tr><td>2007</td><td>1</td><td>2</td><td>2713.50</td></tr>",
                            "<tr><td>2007</td><td>1</td><td>3</td><td>2446.27</td></tr>",
                            "<tr><td>2007</td><td>1</td><td>6</td><td>400.00</td></tr>",
                            "<tr><td>2007</td><td>1</td><td>7</td><td>3024.78</td></tr>",
                            "<tr><td>2007</td><td>1</td><td>8</td><td>1622.40</td></tr>",
                            "<tr><td>2007</td><td>1</td><td>9</td><td>319.20</td></tr>",
                            "<tr><td>2007</td><td>1</td><td>10</td><td>1768.80</td></tr>",
                            "<tr><td>2007</td><td>1</td><td>13</td><td>334.80</td></tr>",
                            "<tr><td>2007</td><td>1</td><td>14</td><td>2348.03</td></tr>",
                            "<tr><td>2007</td><td>1</td><td>15</td><td>102.40</td></tr>",
                            "<tr><td>2007</td><td>1</td><td>16</td><td>11908.40</td></tr>",
                            "<tr><td>2007</td><td>1</td><td>17</td><td>1814.80</td></tr>",
                            "<tr><td>2007</td><td>1</td><td>20</td><td>2097.60</td></tr>",
                            "<tr><td>2007</td><td>1</td><td>21</td><td>2902.11</td></tr>",
                            "<tr><td>2007</td><td>1</td><td>22</td><td>49.80</td></tr>",
                            "<tr><td>2007</td><td>1</td><td>23</td><td>10214.56</td></tr>",
                            "<tr><td>2007</td><td>1</td><td>24</td><td>360.00</td></tr>",
                            "<tr><td>2007</td><td>1</td><td>27</td><td>989.20</td></tr>",
                            "<tr><td>2007</td><td>1</td><td>28</td><td>192.00</td></tr>",
                            "<tr><td>2007</td><td>1</td><td>29</td><td>1441.38</td></tr>",
                            "<tr><td>2007</td><td>1</td><td>30</td><td>6791.45</td></tr>",
                            "<tr><td>2007</td><td>1</td><td>31</td><td>485.00</td></tr>",
                            "<tr><td>2007</td><td>1</td><td>NULL</td><td>61258.08</td></tr>",
                            "<tr><td>2007</td><td>2</td><td>3</td><td>1172.32</td></tr>",
                            "<tr><td>2007</td><td>2</td><td>4</td><td>631.60</td></tr>",
                            "<tr><td>2007</td><td>2</td><td>5</td><td>2387.52</td></tr>",
                            "<tr><td>2007</td><td>2</td><td>6</td><td>454.00</td></tr>",
                            "<tr><td>2007</td><td>2</td><td>7</td><td>1078.00</td></tr>",
                            "<tr><td>2007</td><td>2</td><td>10</td><td>6679.14</td></tr>",
                            "<tr><td>2007</td><td>2</td><td>11</td><td>1792.00</td></tr>",
                            "<tr><td>2007</td><td>2</td><td>12</td><td>1549.14</td></tr>",
                            "<tr><td>2007</td><td>2</td><td>13</td><td>174.90</td></tr>",
                            "<tr><td>2007</td><td>2</td><td>14</td><td>1160.64</td></tr>",
                            "<tr><td>2007</td><td>2</td><td>17</td><td>443.40</td></tr>",
                            "<tr><td>2007</td><td>2</td><td>18</td><td>1838.20</td></tr>",
                            "<tr><td>2007</td><td>2</td><td>19</td><td>4274.78</td></tr>",
                            "<tr><td>2007</td><td>2</td><td>20</td><td>2018.50</td></tr>",
                            "<tr><td>2007</td><td>2</td><td>21</td><td>738.90</td></tr>",
                            "<tr><td>2007</td><td>2</td><td>24</td><td>2684.00</td></tr>",
                            "<tr><td>2007</td><td>2</td><td>25</td><td>2141.60</td></tr>",
                            "<tr><td>2007</td><td>2</td><td>26</td><td>3891.00</td></tr>",
                            "<tr><td>2007</td><td>2</td><td>27</td><td>1659.20</td></tr>",
                            "<tr><td>2007</td><td>2</td><td>28</td><td>1714.80</td></tr>",
                            "<tr><td>2007</td><td>2</td><td>NULL</td><td>38483.64</td></tr>",
                            "<tr><td>2007</td><td>3</td><td>3</td><td>156.00</td></tr>",
                            "<tr><td>2007</td><td>3</td><td>4</td><td>2322.58</td></tr>",
                            "<tr><td>2007</td><td>3</td><td>5</td><td>2518.00</td></tr>",
                            "<tr><td>2007</td><td>3</td><td>6</td><td>451.20</td></tr>",
                            "<tr><td>2007</td><td>3</td><td>7</td><td>717.60</td></tr>",
                            "<tr><td>2007</td><td>3</td><td>10</td><td>956.68</td></tr>",
                            "<tr><td>2007</td><td>3</td><td>11</td><td>3148.80</td></tr>",
                            "<tr><td>2007</td><td>3</td><td>12</td><td>1036.80</td></tr>",
                            "<tr><td>2007</td><td>3</td><td>13</td><td>1479.50</td></tr>",
                            "<tr><td>2007</td><td>3</td><td>14</td><td>1505.18</td></tr>",
                            "<tr><td>2007</td><td>3</td><td>17</td><td>738.48</td></tr>",
                            "<tr><td>2007</td><td>3</td><td>18</td><td>471.20</td></tr>",
                            "<tr><td>2007</td><td>3</td><td>19</td><td>10495.60</td></tr>",
                            "<tr><td>2007</td><td>3</td><td>20</td><td>2228.00</td></tr>",
                            "<tr><td>2007</td><td>3</td><td>21</td><td>147.00</td></tr>",
                            "<tr><td>2007</td><td>3</td><td>24</td><td>1055.00</td></tr>",
                            "<tr><td>2007</td><td>3</td><td>25</td><td>1584.00</td></tr>",
                            "<tr><td>2007</td><td>3</td><td>26</td><td>2161.70</td></tr>",
                            "<tr><td>2007</td><td>3</td><td>27</td><td>1512.00</td></tr>",
                            "<tr><td>2007</td><td>3</td><td>28</td><td>439.20</td></tr>",
                            "<tr><td>2007</td><td>3</td><td>31</td><td>3422.71</td></tr>",
                            "<tr><td>2007</td><td>3</td><td>NULL</td><td>38547.23</td></tr>",
                            "<tr><td>2007</td><td>4</td><td>1</td><td>851.20</td></tr>",
                            "<tr><td>2007</td><td>4</td><td>2</td><td>1520.40</td></tr>",
                            "<tr><td>2007</td><td>4</td><td>3</td><td>278.00</td></tr>",
                            "<tr><td>2007</td><td>4</td><td>4</td><td>1570.60</td></tr>",
                            "<tr><td>2007</td><td>4</td><td>7</td><td>575.00</td></tr>",
                            "<tr><td>2007</td><td>4</td><td>8</td><td>1412.00</td></tr>",
                            "<tr><td>2007</td><td>4</td><td>9</td><td>672.26</td></tr>",
                            "<tr><td>2007</td><td>4</td><td>10</td><td>816.30</td></tr>",
                            "<tr><td>2007</td><td>4</td><td>11</td><td>3437.00</td></tr>",
                            "<tr><td>2007</td><td>4</td><td>14</td><td>147.90</td></tr>",
                            "<tr><td>2007</td><td>4</td><td>15</td><td>1164.86</td></tr>",
                            "<tr><td>2007</td><td>4</td><td>16</td><td>240.00</td></tr>",
                            "<tr><td>2007</td><td>4</td><td>17</td><td>136.80</td></tr>",
                            "<tr><td>2007</td><td>4</td><td>18</td><td>7257.54</td></tr>",
                            "<tr><td>2007</td><td>4</td><td>21</td><td>525.30</td></tr>",
                            "<tr><td>2007</td><td>4</td><td>22</td><td>10565.45</td></tr>",
                            "<tr><td>2007</td><td>4</td><td>23</td><td>9921.30</td></tr>",
                            "<tr><td>2007</td><td>4</td><td>24</td><td>2733.05</td></tr>",
                            "<tr><td>2007</td><td>4</td><td>25</td><td>4150.05</td></tr>",
                            "<tr><td>2007</td><td>4</td><td>28</td><td>2314.20</td></tr>",
                            "<tr><td>2007</td><td>4</td><td>29</td><td>425.50</td></tr>",
                            "<tr><td>2007</td><td>4</td><td>30</td><td>2318.24</td></tr>",
                            "<tr><td>2007</td><td>4</td><td>NULL</td><td>53032.95</td></tr>",
                            "<tr><td>2007</td><td>5</td><td>1</td><td>5636.96</td></tr>",
                            "<tr><td>2007</td><td>5</td><td>2</td><td>818.40</td></tr>",
                            "<tr><td>2007</td><td>5</td><td>5</td><td>2654.40</td></tr>",
                            "<tr><td>2007</td><td>5</td><td>6</td><td>392.20</td></tr>",
                            "<tr><td>2007</td><td>5</td><td>7</td><td>946.00</td></tr>",
                            "<tr><td>2007</td><td>5</td><td>8</td><td>4290.00</td></tr>",
                            "<tr><td>2007</td><td>5</td><td>9</td><td>796.35</td></tr>",
                            "<tr><td>2007</td><td>5</td><td>12</td><td>2687.90</td></tr>",
                            "<tr><td>2007</td><td>5</td><td>13</td><td>1940.85</td></tr>",
                            "<tr><td>2007</td><td>5</td><td>14</td><td>3468.80</td></tr>",
                            "<tr><td>2007</td><td>5</td><td>15</td><td>139.80</td></tr>",
                            "<tr><td>2007</td><td>5</td><td>16</td><td>355.50</td></tr>",
                            "<tr><td>2007</td><td>5</td><td>19</td><td>12138.22</td></tr>",
                            "<tr><td>2007</td><td>5</td><td>20</td><td>469.11</td></tr>",
                            "<tr><td>2007</td><td>5</td><td>21</td><td>1921.70</td></tr>",
                            "<tr><td>2007</td><td>5</td><td>22</td><td>210.00</td></tr>",
                            "<tr><td>2007</td><td>5</td><td>23</td><td>4604.80</td></tr>",
                            "<tr><td>2007</td><td>5</td><td>26</td><td>240.10</td></tr>",
                            "<tr><td>2007</td><td>5</td><td>27</td><td>3554.28</td></tr>",
                            "<tr><td>2007</td><td>5</td><td>28</td><td>2360.60</td></tr>",
                            "<tr><td>2007</td><td>5</td><td>29</td><td>880.50</td></tr>",
                            "<tr><td>2007</td><td>5</td><td>30</td><td>3274.83</td></tr>",
                            "<tr><td>2007</td><td>5</td><td>NULL</td><td>53781.30</td></tr>",
                            "<tr><td>2007</td><td>6</td><td>2</td><td>2944.40</td></tr>",
                            "<tr><td>2007</td><td>6</td><td>3</td><td>1987.70</td></tr>",
                            "<tr><td>2007</td><td>6</td><td>4</td><td>2142.90</td></tr>",
                            "<tr><td>2007</td><td>6</td><td>5</td><td>520.41</td></tr>",
                            "<tr><td>2007</td><td>6</td><td>6</td><td>3916.93</td></tr>",
                            "<tr><td>2007</td><td>6</td><td>9</td><td>488.70</td></tr>",
                            "<tr><td>2007</td><td>6</td><td>10</td><td>2199.05</td></tr>",
                            "<tr><td>2007</td><td>6</td><td>11</td><td>639.90</td></tr>",
                            "<tr><td>2007</td><td>6</td><td>12</td><td>4280.00</td></tr>",
                            "<tr><td>2007</td><td>6</td><td>13</td><td>155.00</td></tr>",
                            "<tr><td>2007</td><td>6</td><td>16</td><td>890.00</td></tr>",
                            "<tr><td>2007</td><td>6</td><td>17</td><td>3015.84</td></tr>",
                            "<tr><td>2007</td><td>6</td><td>18</td><td>1501.09</td></tr>",
                            "<tr><td>2007</td><td>6</td><td>19</td><td>2846.30</td></tr>",
                            "<tr><td>2007</td><td>6</td><td>20</td><td>2147.40</td></tr>",
                            "<tr><td>2007</td><td>6</td><td>23</td><td>1407.45</td></tr>",
                            "<tr><td>2007</td><td>6</td><td>24</td><td>477.00</td></tr>",
                            "<tr><td>2007</td><td>6</td><td>25</td><td>317.75</td></tr>",
                            "<tr><td>2007</td><td>6</td><td>26</td><td>1323.75</td></tr>",
                            "<tr><td>2007</td><td>6</td><td>27</td><td>330.00</td></tr>",
                            "<tr><td>2007</td><td>6</td><td>30</td><td>2831.25</td></tr>",
                            "<tr><td>2007</td><td>6</td><td>NULL</td><td>36362.82</td></tr>",
                            "<tr><td>2007</td><td>7</td><td>1</td><td>142.50</td></tr>",
                            "<tr><td>2007</td><td>7</td><td>2</td><td>831.18</td></tr>",
                            "<tr><td>2007</td><td>7</td><td>3</td><td>3120.00</td></tr>",
                            "<tr><td>2007</td><td>7</td><td>4</td><td>72.00</td></tr>",
                            "<tr><td>2007</td><td>7</td><td>7</td><td>1913.50</td></tr>",
                            "<tr><td>2007</td><td>7</td><td>8</td><td>516.47</td></tr>",
                            "<tr><td>2007</td><td>7</td><td>9</td><td>2559.90</td></tr>",
                            "<tr><td>2007</td><td>7</td><td>10</td><td>4725.00</td></tr>",
                            "<tr><td>2007</td><td>7</td><td>11</td><td>1898.96</td></tr>",
                            "<tr><td>2007</td><td>7</td><td>14</td><td>2388.50</td></tr>",
                            "<tr><td>2007</td><td>7</td><td>15</td><td>493.00</td></tr>",
                            "<tr><td>2007</td><td>7</td><td>16</td><td>2764.80</td></tr>",
                            "<tr><td>2007</td><td>7</td><td>17</td><td>48.75</td></tr>",
                            "<tr><td>2007</td><td>7</td><td>18</td><td>1713.85</td></tr>",
                            "<tr><td>2007</td><td>7</td><td>21</td><td>4109.70</td></tr>",
                            "<tr><td>2007</td><td>7</td><td>22</td><td>7605.80</td></tr>",
                            "<tr><td>2007</td><td>7</td><td>23</td><td>1064.00</td></tr>",
                            "<tr><td>2007</td><td>7</td><td>24</td><td>424.00</td></tr>",
                            "<tr><td>2007</td><td>7</td><td>25</td><td>1107.25</td></tr>",
                            "<tr><td>2007</td><td>7</td><td>28</td><td>6375.00</td></tr>",
                            "<tr><td>2007</td><td>7</td><td>29</td><td>817.20</td></tr>",
                            "<tr><td>2007</td><td>7</td><td>30</td><td>120.00</td></tr>",
                            "<tr><td>2007</td><td>7</td><td>31</td><td>6209.50</td></tr>",
                            "<tr><td>2007</td><td>7</td><td>NULL</td><td>51020.86</td></tr>",
                            "<tr><td>2007</td><td>8</td><td>1</td><td>2697.50</td></tr>",
                            "<tr><td>2007</td><td>8</td><td>4</td><td>1260.00</td></tr>",
                            "<tr><td>2007</td><td>8</td><td>5</td><td>816.00</td></tr>",
                            "<tr><td>2007</td><td>8</td><td>6</td><td>560.00</td></tr>",
                            "<tr><td>2007</td><td>8</td><td>7</td><td>2730.19</td></tr>",
                            "<tr><td>2007</td><td>8</td><td>8</td><td>479.75</td></tr>",
                            "<tr><td>2007</td><td>8</td><td>11</td><td>2689.35</td></tr>",
                            "<tr><td>2007</td><td>8</td><td>12</td><td>3225.05</td></tr>",
                            "<tr><td>2007</td><td>8</td><td>13</td><td>903.60</td></tr>",
                            "<tr><td>2007</td><td>8</td><td>14</td><td>644.80</td></tr>",
                            "<tr><td>2007</td><td>8</td><td>15</td><td>10496.09</td></tr>",
                            "<tr><td>2007</td><td>8</td><td>18</td><td>1326.23</td></tr>",
                            "<tr><td>2007</td><td>8</td><td>19</td><td>3391.44</td></tr>",
                            "<tr><td>2007</td><td>8</td><td>20</td><td>3220.05</td></tr>",
                            "<tr><td>2007</td><td>8</td><td>21</td><td>708.75</td></tr>",
                            "<tr><td>2007</td><td>8</td><td>22</td><td>2750.00</td></tr>",
                            "<tr><td>2007</td><td>8</td><td>25</td><td>2186.30</td></tr>",
                            "<tr><td>2007</td><td>8</td><td>26</td><td>1535.00</td></tr>",
                            "<tr><td>2007</td><td>8</td><td>27</td><td>2082.00</td></tr>",
                            "<tr><td>2007</td><td>8</td><td>28</td><td>1806.38</td></tr>",
                            "<tr><td>2007</td><td>8</td><td>29</td><td>1779.20</td></tr>",
                            "<tr><td>2007</td><td>8</td><td>NULL</td><td>47287.68</td></tr>",
                            "<tr><td>2007</td><td>9</td><td>1</td><td>716.64</td></tr>",
                            "<tr><td>2007</td><td>9</td><td>2</td><td>1684.98</td></tr>",
                            "<tr><td>2007</td><td>9</td><td>3</td><td>154.40</td></tr>",
                            "<tr><td>2007</td><td>9</td><td>4</td><td>4975.82</td></tr>",
                            "<tr><td>2007</td><td>9</td><td>5</td><td>5691.62</td></tr>",
                            "<tr><td>2007</td><td>9</td><td>8</td><td>1701.00</td></tr>",
                            "<tr><td>2007</td><td>9</td><td>9</td><td>687.60</td></tr>",
                            "<tr><td>2007</td><td>9</td><td>10</td><td>3218.79</td></tr>",
                            "<tr><td>2007</td><td>9</td><td>11</td><td>1295.00</td></tr>",
                            "<tr><td>2007</td><td>9</td><td>12</td><td>6203.74</td></tr>",
                            "<tr><td>2007</td><td>9</td><td>15</td><td>1195.28</td></tr>",
                            "<tr><td>2007</td><td>9</td><td>16</td><td>2301.75</td></tr>",
                            "<tr><td>2007</td><td>9</td><td>17</td><td>4735.35</td></tr>",
                            "<tr><td>2007</td><td>9</td><td>18</td><td>457.35</td></tr>",
                            "<tr><td>2007</td><td>9</td><td>19</td><td>1423.00</td></tr>",
                            "<tr><td>2007</td><td>9</td><td>22</td><td>1348.22</td></tr>",
                            "<tr><td>2007</td><td>9</td><td>23</td><td>5916.50</td></tr>",
                            "<tr><td>2007</td><td>9</td><td>24</td><td>1261.88</td></tr>",
                            "<tr><td>2007</td><td>9</td><td>25</td><td>1662.90</td></tr>",
                            "<tr><td>2007</td><td>9</td><td>26</td><td>1831.00</td></tr>",
                            "<tr><td>2007</td><td>9</td><td>29</td><td>801.10</td></tr>",
                            "<tr><td>2007</td><td>9</td><td>30</td><td>6365.35</td></tr>",
                            "<tr><td>2007</td><td>9</td><td>NULL</td><td>55629.27</td></tr>",
                            "<tr><td>2007</td><td>10</td><td>1</td><td>3633.10</td></tr>",
                            "<tr><td>2007</td><td>10</td><td>2</td><td>862.50</td></tr>",
                            "<tr><td>2007</td><td>10</td><td>3</td><td>11042.80</td></tr>",
                            "<tr><td>2007</td><td>10</td><td>6</td><td>6896.20</td></tr>",
                            "<tr><td>2007</td><td>10</td><td>7</td><td>642.00</td></tr>",
                            "<tr><td>2007</td><td>10</td><td>8</td><td>1801.43</td></tr>",
                            "<tr><td>2007</td><td>10</td><td>9</td><td>3550.44</td></tr>",
                            "<tr><td>2007</td><td>10</td><td>10</td><td>1638.40</td></tr>",
                            "<tr><td>2007</td><td>10</td><td>13</td><td>3194.50</td></tr>",
                            "<tr><td>2007</td><td>10</td><td>14</td><td>3140.50</td></tr>",
                            "<tr><td>2007</td><td>10</td><td>15</td><td>378.00</td></tr>",
                            "<tr><td>2007</td><td>10</td><td>16</td><td>3534.00</td></tr>",
                            "<tr><td>2007</td><td>10</td><td>17</td><td>3604.40</td></tr>",
                            "<tr><td>2007</td><td>10</td><td>20</td><td>93.50</td></tr>",
                            "<tr><td>2007</td><td>10</td><td>21</td><td>5685.18</td></tr>",
                            "<tr><td>2007</td><td>10</td><td>22</td><td>5033.65</td></tr>",
                            "<tr><td>2007</td><td>10</td><td>23</td><td>1296.00</td></tr>",
                            "<tr><td>2007</td><td>10</td><td>24</td><td>1976.75</td></tr>",
                            "<tr><td>2007</td><td>10</td><td>27</td><td>4307.25</td></tr>",
                            "<tr><td>2007</td><td>10</td><td>28</td><td>550.00</td></tr>",
                            "<tr><td>2007</td><td>10</td><td>29</td><td>2493.88</td></tr>",
                            "<tr><td>2007</td><td>10</td><td>30</td><td>1106.95</td></tr>",
                            "<tr><td>2007</td><td>10</td><td>31</td><td>287.80</td></tr>",
                            "<tr><td>2007</td><td>10</td><td>NULL</td><td>66749.23</td></tr>",
                            "<tr><td>2007</td><td>11</td><td>3</td><td>2279.50</td></tr>",
                            "<tr><td>2007</td><td>11</td><td>4</td><td>3146.75</td></tr>",
                            "<tr><td>2007</td><td>11</td><td>5</td><td>484.26</td></tr>",
                            "<tr><td>2007</td><td>11</td><td>6</td><td>2250.50</td></tr>",
                            "<tr><td>2007</td><td>11</td><td>7</td><td>2957.35</td></tr>",
                            "<tr><td>2007</td><td>11</td><td>10</td><td>536.40</td></tr>",
                            "<tr><td>2007</td><td>11</td><td>11</td><td>1136.80</td></tr>",
                            "<tr><td>2007</td><td>11</td><td>12</td><td>292.35</td></tr>",
                            "<tr><td>2007</td><td>11</td><td>13</td><td>1416.00</td></tr>",
                            "<tr><td>2007</td><td>11</td><td>14</td><td>3346.00</td></tr>",
                            "<tr><td>2007</td><td>11</td><td>17</td><td>1055.20</td></tr>",
                            "<tr><td>2007</td><td>11</td><td>18</td><td>4529.80</td></tr>",
                            "<tr><td>2007</td><td>11</td><td>19</td><td>4224.55</td></tr>",
                            "<tr><td>2007</td><td>11</td><td>20</td><td>3276.00</td></tr>",
                            "<tr><td>2007</td><td>11</td><td>21</td><td>1590.56</td></tr>",
                            "<tr><td>2007</td><td>11</td><td>24</td><td>1883.48</td></tr>",
                            "<tr><td>2007</td><td>11</td><td>25</td><td>143.20</td></tr>",
                            "<tr><td>2007</td><td>11</td><td>26</td><td>1948.50</td></tr>",
                            "<tr><td>2007</td><td>11</td><td>27</td><td>5072.00</td></tr>",
                            "<tr><td>2007</td><td>11</td><td>28</td><td>1964.60</td></tr>",
                            "<tr><td>2007</td><td>11</td><td>NULL</td><td>43533.80</td></tr>",
                            "<tr><td>2007</td><td>12</td><td>1</td><td>2917.00</td></tr>",
                            "<tr><td>2007</td><td>12</td><td>2</td><td>4844.00</td></tr>",
                            "<tr><td>2007</td><td>12</td><td>3</td><td>2902.00</td></tr>",
                            "<tr><td>2007</td><td>12</td><td>4</td><td>1515.60</td></tr>",
                            "<tr><td>2007</td><td>12</td><td>5</td><td>2338.00</td></tr>",
                            "<tr><td>2007</td><td>12</td><td>8</td><td>3161.28</td></tr>",
                            "<tr><td>2007</td><td>12</td><td>9</td><td>236.25</td></tr>",
                            "<tr><td>2007</td><td>12</td><td>10</td><td>3947.22</td></tr>",
                            "<tr><td>2007</td><td>12</td><td>11</td><td>2899.15</td></tr>",
                            "<tr><td>2007</td><td>12</td><td>12</td><td>228.00</td></tr>",
                            "<tr><td>2007</td><td>12</td><td>15</td><td>6859.28</td></tr>",
                            "<tr><td>2007</td><td>12</td><td>16</td><td>2151.50</td></tr>",
                            "<tr><td>2007</td><td>12</td><td>17</td><td>988.38</td></tr>",
                            "<tr><td>2007</td><td>12</td><td>18</td><td>3318.00</td></tr>",
                            "<tr><td>2007</td><td>12</td><td>19</td><td>4153.84</td></tr>",
                            "<tr><td>2007</td><td>12</td><td>22</td><td>5141.00</td></tr>",
                            "<tr><td>2007</td><td>12</td><td>23</td><td>2229.61</td></tr>",
                            "<tr><td>2007</td><td>12</td><td>24</td><td>2663.86</td></tr>",
                            "<tr><td>2007</td><td>12</td><td>25</td><td>2761.36</td></tr>",
                            "<tr><td>2007</td><td>12</td><td>26</td><td>3469.04</td></tr>",
                            "<tr><td>2007</td><td>12</td><td>29</td><td>5969.66</td></tr>",
                            "<tr><td>2007</td><td>12</td><td>30</td><td>6246.41</td></tr>",
                            "<tr><td>2007</td><td>12</td><td>31</td><td>458.00</td></tr>",
                            "<tr><td>2007</td><td>12</td><td>NULL</td><td>71398.44</td></tr>",
                            "<tr><td>2007</td><td>NULL</td><td>NULL</td><td>617085.30</td></tr>",
                            "<tr><td>2008</td><td>1</td><td>1</td><td>1738.00</td></tr>",
                            "<tr><td>2008</td><td>1</td><td>2</td><td>2544.80</td></tr>",
                            "<tr><td>2008</td><td>1</td><td>5</td><td>2430.85</td></tr>",
                            "<tr><td>2008</td><td>1</td><td>6</td><td>19399.30</td></tr>",
                            "<tr><td>2008</td><td>1</td><td>7</td><td>2450.00</td></tr>",
                            "<tr><td>2008</td><td>1</td><td>8</td><td>915.90</td></tr>",
                            "<tr><td>2008</td><td>1</td><td>9</td><td>4107.56</td></tr>",
                            "<tr><td>2008</td><td>1</td><td>12</td><td>1573.00</td></tr>",
                            "<tr><td>2008</td><td>1</td><td>13</td><td>4670.00</td></tr>",
                            "<tr><td>2008</td><td>1</td><td>14</td><td>3159.51</td></tr>",
                            "<tr><td>2008</td><td>1</td><td>15</td><td>3185.44</td></tr>",
                            "<tr><td>2008</td><td>1</td><td>16</td><td>5770.00</td></tr>",
                            "<tr><td>2008</td><td>1</td><td>19</td><td>2977.13</td></tr>",
                            "<tr><td>2008</td><td>1</td><td>20</td><td>5556.00</td></tr>",
                            "<tr><td>2008</td><td>1</td><td>21</td><td>4706.70</td></tr>",
                            "<tr><td>2008</td><td>1</td><td>22</td><td>6043.92</td></tr>",
                            "<tr><td>2008</td><td>1</td><td>23</td><td>2528.32</td></tr>",
                            "<tr><td>2008</td><td>1</td><td>26</td><td>5587.00</td></tr>",
                            "<tr><td>2008</td><td>1</td><td>27</td><td>5819.39</td></tr>",
                            "<tr><td>2008</td><td>1</td><td>28</td><td>2708.21</td></tr>",
                            "<tr><td>2008</td><td>1</td><td>29</td><td>2246.69</td></tr>",
                            "<tr><td>2008</td><td>1</td><td>30</td><td>4104.40</td></tr>",
                            "<tr><td>2008</td><td>1</td><td>NULL</td><td>94222.12</td></tr>",
                            "<tr><td>2008</td><td>2</td><td>2</td><td>17110.65</td></tr>",
                            "<tr><td>2008</td><td>2</td><td>3</td><td>1194.60</td></tr>",
                            "<tr><td>2008</td><td>2</td><td>4</td><td>3710.60</td></tr>",
                            "<tr><td>2008</td><td>2</td><td>5</td><td>4037.69</td></tr>",
                            "<tr><td>2008</td><td>2</td><td>6</td><td>1356.35</td></tr>",
                            "<tr><td>2008</td><td>2</td><td>9</td><td>2872.13</td></tr>",
                            "<tr><td>2008</td><td>2</td><td>10</td><td>3650.30</td></tr>",
                            "<tr><td>2008</td><td>2</td><td>11</td><td>1042.64</td></tr>",
                            "<tr><td>2008</td><td>2</td><td>12</td><td>2623.07</td></tr>",
                            "<tr><td>2008</td><td>2</td><td>13</td><td>3197.50</td></tr>",
                            "<tr><td>2008</td><td>2</td><td>16</td><td>12845.10</td></tr>",
                            "<tr><td>2008</td><td>2</td><td>17</td><td>2458.93</td></tr>",
                            "<tr><td>2008</td><td>2</td><td>18</td><td>14634.61</td></tr>",
                            "<tr><td>2008</td><td>2</td><td>19</td><td>11585.74</td></tr>",
                            "<tr><td>2008</td><td>2</td><td>20</td><td>186.15</td></tr>",
                            "<tr><td>2008</td><td>2</td><td>23</td><td>1797.93</td></tr>",
                            "<tr><td>2008</td><td>2</td><td>24</td><td>3198.30</td></tr>",
                            "<tr><td>2008</td><td>2</td><td>25</td><td>536.00</td></tr>",
                            "<tr><td>2008</td><td>2</td><td>26</td><td>9613.30</td></tr>",
                            "<tr><td>2008</td><td>2</td><td>27</td><td>1763.70</td></tr>",
                            "<tr><td>2008</td><td>2</td><td>NULL</td><td>99415.29</td></tr>",
                            "<tr><td>2008</td><td>3</td><td>2</td><td>2936.19</td></tr>",
                            "<tr><td>2008</td><td>3</td><td>3</td><td>3817.30</td></tr>",
                            "<tr><td>2008</td><td>3</td><td>4</td><td>2825.25</td></tr>",
                            "<tr><td>2008</td><td>3</td><td>5</td><td>2112.25</td></tr>",
                            "<tr><td>2008</td><td>3</td><td>6</td><td>5763.93</td></tr>",
                            "<tr><td>2008</td><td>3</td><td>9</td><td>1575.50</td></tr>",
                            "<tr><td>2008</td><td>3</td><td>10</td><td>4014.18</td></tr>",
                            "<tr><td>2008</td><td>3</td><td>11</td><td>5642.75</td></tr>",
                            "<tr><td>2008</td><td>3</td><td>12</td><td>2677.83</td></tr>",
                            "<tr><td>2008</td><td>3</td><td>13</td><td>7004.25</td></tr>",
                            "<tr><td>2008</td><td>3</td><td>16</td><td>5481.21</td></tr>",
                            "<tr><td>2008</td><td>3</td><td>17</td><td>2410.94</td></tr>",
                            "<tr><td>2008</td><td>3</td><td>18</td><td>2675.45</td></tr>",
                            "<tr><td>2008</td><td>3</td><td>19</td><td>5027.05</td></tr>",
                            "<tr><td>2008</td><td>3</td><td>20</td><td>3998.96</td></tr>",
                            "<tr><td>2008</td><td>3</td><td>23</td><td>2426.40</td></tr>",
                            "<tr><td>2008</td><td>3</td><td>24</td><td>2500.11</td></tr>",
                            "<tr><td>2008</td><td>3</td><td>25</td><td>2068.50</td></tr>",
                            "<tr><td>2008</td><td>3</td><td>26</td><td>8349.70</td></tr>",
                            "<tr><td>2008</td><td>3</td><td>27</td><td>17792.90</td></tr>",
                            "<tr><td>2008</td><td>3</td><td>30</td><td>6053.13</td></tr>",
                            "<tr><td>2008</td><td>3</td><td>31</td><td>7700.40</td></tr>",
                            "<tr><td>2008</td><td>3</td><td>NULL</td><td>104854.18</td></tr>",
                            "<tr><td>2008</td><td>4</td><td>1</td><td>11549.89</td></tr>",
                            "<tr><td>2008</td><td>4</td><td>2</td><td>2696.50</td></tr>",
                            "<tr><td>2008</td><td>4</td><td>3</td><td>3768.95</td></tr>",
                            "<tr><td>2008</td><td>4</td><td>6</td><td>5809.85</td></tr>",
                            "<tr><td>2008</td><td>4</td><td>7</td><td>1211.07</td></tr>",
                            "<tr><td>2008</td><td>4</td><td>8</td><td>7931.30</td></tr>",
                            "<tr><td>2008</td><td>4</td><td>9</td><td>4764.80</td></tr>",
                            "<tr><td>2008</td><td>4</td><td>10</td><td>1357.03</td></tr>",
                            "<tr><td>2008</td><td>4</td><td>13</td><td>8401.00</td></tr>",
                            "<tr><td>2008</td><td>4</td><td>14</td><td>9840.64</td></tr>",
                            "<tr><td>2008</td><td>4</td><td>15</td><td>3266.81</td></tr>",
                            "<tr><td>2008</td><td>4</td><td>16</td><td>4324.53</td></tr>",
                            "<tr><td>2008</td><td>4</td><td>17</td><td>27143.85</td></tr>",
                            "<tr><td>2008</td><td>4</td><td>20</td><td>3985.90</td></tr>",
                            "<tr><td>2008</td><td>4</td><td>21</td><td>3882.60</td></tr>",
                            "<tr><td>2008</td><td>4</td><td>22</td><td>2588.75</td></tr>",
                            "<tr><td>2008</td><td>4</td><td>23</td><td>3386.90</td></tr>",
                            "<tr><td>2008</td><td>4</td><td>24</td><td>1616.48</td></tr>",
                            "<tr><td>2008</td><td>4</td><td>27</td><td>5233.00</td></tr>",
                            "<tr><td>2008</td><td>4</td><td>28</td><td>5772.50</td></tr>",
                            "<tr><td>2008</td><td>4</td><td>29</td><td>2741.00</td></tr>",
                            "<tr><td>2008</td><td>4</td><td>30</td><td>2525.35</td></tr>",
                            "<tr><td>2008</td><td>4</td><td>NULL</td><td>123798.70</td></tr>",
                            "<tr><td>2008</td><td>5</td><td>1</td><td>5448.57</td></tr>",
                            "<tr><td>2008</td><td>5</td><td>4</td><td>2473.93</td></tr>",
                            "<tr><td>2008</td><td>5</td><td>5</td><td>7632.48</td></tr>",
                            "<tr><td>2008</td><td>5</td><td>6</td><td>2778.66</td></tr>",
                            "<tr><td>2008</td><td>5</td><td>NULL</td><td>18333.64</td></tr>",
                            "<tr><td>2008</td><td>NULL</td><td>NULL</td><td>440623.93</td></tr>",
                            "<tr><td>NULL</td><td>NULL</td><td>NULL</td><td>1265793.22</td></tr>",
                            "</table>"
                        ]
                    }
                }
            ],
            "execution_count": 30
        },
        {
            "cell_type": "markdown",
            "source": [
                "3.4. Escribir una sentencia SELECT contra la vista Sales.OrderValues y traer las columnas:\n",
                "<li>Columna Calculada con el alias groupid (usar la función GROUPING_ID con los campos order year y order month como parametros).\n",
                "<li>Año de la columna orderdate como orderyear.\n",
                "<li>Mes de la columna orderdate como ordermonth.\n",
                "<li>Valor Total de Ventas utilizando la columna val como salesvalue.\n",
                "<li>Desde Año y mes month forman una jerarquia, retornar todos los grouping sets interesantes basados en las columnas orderyear y ordermonth y ordenar el resultado por groupid, orderyear, and ordermonth"
            ],
            "metadata": {
                "azdata_cell_guid": "ed464c7b-75a0-4736-a5c4-49358191994e"
            }
        },
        {
            "cell_type": "code",
            "source": [
                "SELECT\r\n",
                "    GROUPING_ID(YEAR(orderdate), MONTH(orderdate)) AS groupid,\r\n",
                "    YEAR(orderdate) AS orderyear,\r\n",
                "    MONTH(orderdate) AS ordermonth,\r\n",
                "    SUM(val) AS salesvalue\r\n",
                "FROM\r\n",
                "    Sales.OrderValues\r\n",
                "GROUP BY\r\n",
                "    GROUPING SETS (\r\n",
                "        (YEAR(orderdate), MONTH(orderdate)), -- Totales por año y mes\r\n",
                "        (YEAR(orderdate)),                   -- Totales por año\r\n",
                "        ()                                   -- Gran total\r\n",
                "    )\r\n",
                "ORDER BY\r\n",
                "    groupid,\r\n",
                "    orderyear,\r\n",
                "    ordermonth;\r\n",
                ""
            ],
            "metadata": {
                "azdata_cell_guid": "e8d312a1-7bab-407a-8a6c-13717a09b15a",
                "language": "sql"
            },
            "outputs": [
                {
                    "output_type": "display_data",
                    "data": {
                        "text/html": "(27 rows affected)"
                    },
                    "metadata": {}
                },
                {
                    "output_type": "display_data",
                    "data": {
                        "text/html": "Total execution time: 00:00:00.016"
                    },
                    "metadata": {}
                },
                {
                    "output_type": "execute_result",
                    "metadata": {},
                    "execution_count": 31,
                    "data": {
                        "application/vnd.dataresource+json": {
                            "schema": {
                                "fields": [
                                    {
                                        "name": "groupid"
                                    },
                                    {
                                        "name": "orderyear"
                                    },
                                    {
                                        "name": "ordermonth"
                                    },
                                    {
                                        "name": "salesvalue"
                                    }
                                ]
                            },
                            "data": [
                                {
                                    "0": "0",
                                    "1": "2006",
                                    "2": "7",
                                    "3": "27861.90"
                                },
                                {
                                    "0": "0",
                                    "1": "2006",
                                    "2": "8",
                                    "3": "25485.28"
                                },
                                {
                                    "0": "0",
                                    "1": "2006",
                                    "2": "9",
                                    "3": "26381.40"
                                },
                                {
                                    "0": "0",
                                    "1": "2006",
                                    "2": "10",
                                    "3": "37515.73"
                                },
                                {
                                    "0": "0",
                                    "1": "2006",
                                    "2": "11",
                                    "3": "45600.05"
                                },
                                {
                                    "0": "0",
                                    "1": "2006",
                                    "2": "12",
                                    "3": "45239.63"
                                },
                                {
                                    "0": "0",
                                    "1": "2007",
                                    "2": "1",
                                    "3": "61258.08"
                                },
                                {
                                    "0": "0",
                                    "1": "2007",
                                    "2": "2",
                                    "3": "38483.64"
                                },
                                {
                                    "0": "0",
                                    "1": "2007",
                                    "2": "3",
                                    "3": "38547.23"
                                },
                                {
                                    "0": "0",
                                    "1": "2007",
                                    "2": "4",
                                    "3": "53032.95"
                                },
                                {
                                    "0": "0",
                                    "1": "2007",
                                    "2": "5",
                                    "3": "53781.30"
                                },
                                {
                                    "0": "0",
                                    "1": "2007",
                                    "2": "6",
                                    "3": "36362.82"
                                },
                                {
                                    "0": "0",
                                    "1": "2007",
                                    "2": "7",
                                    "3": "51020.86"
                                },
                                {
                                    "0": "0",
                                    "1": "2007",
                                    "2": "8",
                                    "3": "47287.68"
                                },
                                {
                                    "0": "0",
                                    "1": "2007",
                                    "2": "9",
                                    "3": "55629.27"
                                },
                                {
                                    "0": "0",
                                    "1": "2007",
                                    "2": "10",
                                    "3": "66749.23"
                                },
                                {
                                    "0": "0",
                                    "1": "2007",
                                    "2": "11",
                                    "3": "43533.80"
                                },
                                {
                                    "0": "0",
                                    "1": "2007",
                                    "2": "12",
                                    "3": "71398.44"
                                },
                                {
                                    "0": "0",
                                    "1": "2008",
                                    "2": "1",
                                    "3": "94222.12"
                                },
                                {
                                    "0": "0",
                                    "1": "2008",
                                    "2": "2",
                                    "3": "99415.29"
                                },
                                {
                                    "0": "0",
                                    "1": "2008",
                                    "2": "3",
                                    "3": "104854.18"
                                },
                                {
                                    "0": "0",
                                    "1": "2008",
                                    "2": "4",
                                    "3": "123798.70"
                                },
                                {
                                    "0": "0",
                                    "1": "2008",
                                    "2": "5",
                                    "3": "18333.64"
                                },
                                {
                                    "0": "1",
                                    "1": "2006",
                                    "2": "NULL",
                                    "3": "208083.99"
                                },
                                {
                                    "0": "1",
                                    "1": "2007",
                                    "2": "NULL",
                                    "3": "617085.30"
                                },
                                {
                                    "0": "1",
                                    "1": "2008",
                                    "2": "NULL",
                                    "3": "440623.93"
                                },
                                {
                                    "0": "3",
                                    "1": "NULL",
                                    "2": "NULL",
                                    "3": "1265793.22"
                                }
                            ]
                        },
                        "text/html": [
                            "<table>",
                            "<tr><th>groupid</th><th>orderyear</th><th>ordermonth</th><th>salesvalue</th></tr>",
                            "<tr><td>0</td><td>2006</td><td>7</td><td>27861.90</td></tr>",
                            "<tr><td>0</td><td>2006</td><td>8</td><td>25485.28</td></tr>",
                            "<tr><td>0</td><td>2006</td><td>9</td><td>26381.40</td></tr>",
                            "<tr><td>0</td><td>2006</td><td>10</td><td>37515.73</td></tr>",
                            "<tr><td>0</td><td>2006</td><td>11</td><td>45600.05</td></tr>",
                            "<tr><td>0</td><td>2006</td><td>12</td><td>45239.63</td></tr>",
                            "<tr><td>0</td><td>2007</td><td>1</td><td>61258.08</td></tr>",
                            "<tr><td>0</td><td>2007</td><td>2</td><td>38483.64</td></tr>",
                            "<tr><td>0</td><td>2007</td><td>3</td><td>38547.23</td></tr>",
                            "<tr><td>0</td><td>2007</td><td>4</td><td>53032.95</td></tr>",
                            "<tr><td>0</td><td>2007</td><td>5</td><td>53781.30</td></tr>",
                            "<tr><td>0</td><td>2007</td><td>6</td><td>36362.82</td></tr>",
                            "<tr><td>0</td><td>2007</td><td>7</td><td>51020.86</td></tr>",
                            "<tr><td>0</td><td>2007</td><td>8</td><td>47287.68</td></tr>",
                            "<tr><td>0</td><td>2007</td><td>9</td><td>55629.27</td></tr>",
                            "<tr><td>0</td><td>2007</td><td>10</td><td>66749.23</td></tr>",
                            "<tr><td>0</td><td>2007</td><td>11</td><td>43533.80</td></tr>",
                            "<tr><td>0</td><td>2007</td><td>12</td><td>71398.44</td></tr>",
                            "<tr><td>0</td><td>2008</td><td>1</td><td>94222.12</td></tr>",
                            "<tr><td>0</td><td>2008</td><td>2</td><td>99415.29</td></tr>",
                            "<tr><td>0</td><td>2008</td><td>3</td><td>104854.18</td></tr>",
                            "<tr><td>0</td><td>2008</td><td>4</td><td>123798.70</td></tr>",
                            "<tr><td>0</td><td>2008</td><td>5</td><td>18333.64</td></tr>",
                            "<tr><td>1</td><td>2006</td><td>NULL</td><td>208083.99</td></tr>",
                            "<tr><td>1</td><td>2007</td><td>NULL</td><td>617085.30</td></tr>",
                            "<tr><td>1</td><td>2008</td><td>NULL</td><td>440623.93</td></tr>",
                            "<tr><td>3</td><td>NULL</td><td>NULL</td><td>1265793.22</td></tr>",
                            "</table>"
                        ]
                    }
                }
            ],
            "execution_count": 31
        }
    ]
}